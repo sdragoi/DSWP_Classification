{
 "cells": [
  {
   "cell_type": "markdown",
   "id": "7edf2141",
   "metadata": {},
   "source": [
    "<div>\n",
    "    <div style=\"text-align: right;\"><span style=\"font-size: 24px;\"><strong>Names: Stephanie Dragoi, Steven Xu</strong></span></div> <br>\n",
    "    <div style=\"text-align: right;\"><span style=\"font-size: 24px;\"><strong>Due 20231201 FRI </strong></span></div> <br>\n",
    "</div>\n"
   ]
  },
  {
   "cell_type": "code",
   "execution_count": 2,
   "id": "5a68577a",
   "metadata": {},
   "outputs": [],
   "source": [
    "# testing "
   ]
  },
  {
   "cell_type": "markdown",
   "id": "f5b1731a",
   "metadata": {},
   "source": [
    "<div style=\"text-align: center;\">\n",
    "\n",
    "# Project 3: Logistic Regression Classifier\n",
    "\n",
    "</div>"
   ]
  },
  {
   "cell_type": "code",
   "execution_count": null,
   "id": "9edfe73a",
   "metadata": {},
   "outputs": [],
   "source": []
  }
 ],
 "metadata": {
  "kernelspec": {
   "display_name": "Python 3 (ipykernel)",
   "language": "python",
   "name": "python3"
  },
  "language_info": {
   "codemirror_mode": {
    "name": "ipython",
    "version": 3
   },
   "file_extension": ".py",
   "mimetype": "text/x-python",
   "name": "python",
   "nbconvert_exporter": "python",
   "pygments_lexer": "ipython3",
   "version": "3.11.4"
  }
 },
 "nbformat": 4,
 "nbformat_minor": 5
}
