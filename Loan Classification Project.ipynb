{
 "cells": [
  {
   "cell_type": "markdown",
   "id": "f4c749a5",
   "metadata": {},
   "source": [
    "<div>\n",
    "    <div style=\"text-align: right;\"><span style=\"font-size: 24px;\"><strong>Names: Stephanie Dragoi, Steven Xu</strong></span></div> <br>\n",
    "    <div style=\"text-align: right;\"><span style=\"font-size: 24px;\"><strong>Due 20231201 FRI </strong></span></div> <br>\n",
    "</div>\n"
   ]
  },
  {
   "cell_type": "code",
   "execution_count": null,
   "id": "1b235ef5",
   "metadata": {},
   "outputs": [],
   "source": [
    "# testing "
   ]
  }
 ],
 "metadata": {
  "kernelspec": {
   "display_name": "Python 3 (ipykernel)",
   "language": "python",
   "name": "python3"
  },
  "language_info": {
   "codemirror_mode": {
    "name": "ipython",
    "version": 3
   },
   "file_extension": ".py",
   "mimetype": "text/x-python",
   "name": "python",
   "nbconvert_exporter": "python",
   "pygments_lexer": "ipython3",
   "version": "3.9.12"
  }
 },
 "nbformat": 4,
 "nbformat_minor": 5
}
