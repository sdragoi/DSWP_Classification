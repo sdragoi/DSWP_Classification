{
 "cells": [
  {
   "cell_type": "markdown",
   "id": "7edf2141",
   "metadata": {},
   "source": [
    "<div>\n",
    "    <div style=\"text-align: right;\"><span style=\"font-size: 24px;\"><strong>Stephanie Dragoi, Steven Xu</strong></span></div> <br>\n",
    "    <div style=\"text-align: right;\"><span style=\"font-size: 24px;\"><strong>Due 20231130 THU </strong></span></div> <br>\n",
    "</div>\n"
   ]
  },
  {
   "cell_type": "markdown",
   "id": "403f56f8",
   "metadata": {},
   "source": [
    "<div style=\"text-align: center;\">\n",
    "\n",
    "# Project 3: Logistic Regression Classifier\n",
    "\n",
    "</div>"
   ]
  },
  {
   "cell_type": "markdown",
   "id": "ec03b475",
   "metadata": {},
   "source": [
    "Questions for Mr. Hansen (temporary cell to delete at the end)\n",
    "* Can we do research on loans and loan profitability in banking?\n",
    "* Type II Error more important than Type I?"
   ]
  },
  {
   "cell_type": "code",
   "execution_count": 3,
   "id": "3cc2346f",
   "metadata": {},
   "outputs": [],
   "source": [
    "# import necessary libraries\n",
    "\n",
    "import numpy as np\n",
    "import pandas as pd\n",
    "import matplotlib.pyplot as plt\n",
    "import seaborn as sns\n",
    "import statsmodels.api as sm\n",
    "from statsmodels.tools.tools import add_constant\n",
    "from statsmodels.stats.outliers_influence import variance_inflation_factor\n",
    "from sklearn.model_selection import train_test_split\n",
    "from sklearn.linear_model import LogisticRegression\n",
    "from sklearn.metrics import (\n",
    " accuracy_score,\n",
    " recall_score,\n",
    " precision_score,\n",
    " f1_score,\n",
    " confusion_matrix,\n",
    ")"
   ]
  },
  {
   "cell_type": "markdown",
   "id": "4a85fbc5",
   "metadata": {},
   "source": [
    "# Step 1: Create the dataframe"
   ]
  },
  {
   "cell_type": "code",
   "execution_count": 4,
   "id": "28d45238",
   "metadata": {},
   "outputs": [
    {
     "data": {
      "text/html": [
       "<div>\n",
       "<style scoped>\n",
       "    .dataframe tbody tr th:only-of-type {\n",
       "        vertical-align: middle;\n",
       "    }\n",
       "\n",
       "    .dataframe tbody tr th {\n",
       "        vertical-align: top;\n",
       "    }\n",
       "\n",
       "    .dataframe thead th {\n",
       "        text-align: right;\n",
       "    }\n",
       "</style>\n",
       "<table border=\"1\" class=\"dataframe\">\n",
       "  <thead>\n",
       "    <tr style=\"text-align: right;\">\n",
       "      <th></th>\n",
       "      <th>loan_type</th>\n",
       "      <th>loan_amount_index</th>\n",
       "      <th>previous_defaults</th>\n",
       "      <th>previous_nondefaults</th>\n",
       "      <th>previous_loan_count</th>\n",
       "      <th>cars_in_household</th>\n",
       "      <th>other_vehicles_owned</th>\n",
       "      <th>adults_in_household</th>\n",
       "      <th>children_in_household</th>\n",
       "      <th>market_segment_code</th>\n",
       "      <th>issues_needing_resolution</th>\n",
       "      <th>hmc</th>\n",
       "      <th>application_year</th>\n",
       "      <th>application_month</th>\n",
       "      <th>application_in_first_half_of_month</th>\n",
       "      <th>loan_origination</th>\n",
       "      <th>repeat_customer</th>\n",
       "      <th>mystery_field</th>\n",
       "      <th>loan_default</th>\n",
       "    </tr>\n",
       "  </thead>\n",
       "  <tbody>\n",
       "    <tr>\n",
       "      <th>0</th>\n",
       "      <td>auto</td>\n",
       "      <td>134</td>\n",
       "      <td>0</td>\n",
       "      <td>0</td>\n",
       "      <td>0</td>\n",
       "      <td>1</td>\n",
       "      <td>3</td>\n",
       "      <td>3</td>\n",
       "      <td>0</td>\n",
       "      <td>ms498</td>\n",
       "      <td>0</td>\n",
       "      <td>0</td>\n",
       "      <td>2022</td>\n",
       "      <td>2</td>\n",
       "      <td>0</td>\n",
       "      <td>website</td>\n",
       "      <td>0</td>\n",
       "      <td>32</td>\n",
       "      <td>0</td>\n",
       "    </tr>\n",
       "    <tr>\n",
       "      <th>1</th>\n",
       "      <td>auto</td>\n",
       "      <td>118</td>\n",
       "      <td>0</td>\n",
       "      <td>0</td>\n",
       "      <td>0</td>\n",
       "      <td>0</td>\n",
       "      <td>1</td>\n",
       "      <td>2</td>\n",
       "      <td>1</td>\n",
       "      <td>ms818</td>\n",
       "      <td>2</td>\n",
       "      <td>0</td>\n",
       "      <td>2022</td>\n",
       "      <td>2</td>\n",
       "      <td>0</td>\n",
       "      <td>website</td>\n",
       "      <td>0</td>\n",
       "      <td>15</td>\n",
       "      <td>0</td>\n",
       "    </tr>\n",
       "    <tr>\n",
       "      <th>2</th>\n",
       "      <td>other</td>\n",
       "      <td>86</td>\n",
       "      <td>0</td>\n",
       "      <td>0</td>\n",
       "      <td>0</td>\n",
       "      <td>0</td>\n",
       "      <td>3</td>\n",
       "      <td>1</td>\n",
       "      <td>0</td>\n",
       "      <td>ms818</td>\n",
       "      <td>1</td>\n",
       "      <td>0</td>\n",
       "      <td>2021</td>\n",
       "      <td>3</td>\n",
       "      <td>1</td>\n",
       "      <td>website</td>\n",
       "      <td>0</td>\n",
       "      <td>121</td>\n",
       "      <td>0</td>\n",
       "    </tr>\n",
       "    <tr>\n",
       "      <th>3</th>\n",
       "      <td>auto</td>\n",
       "      <td>131</td>\n",
       "      <td>0</td>\n",
       "      <td>0</td>\n",
       "      <td>0</td>\n",
       "      <td>2</td>\n",
       "      <td>1</td>\n",
       "      <td>2</td>\n",
       "      <td>1</td>\n",
       "      <td>ms818</td>\n",
       "      <td>1</td>\n",
       "      <td>0</td>\n",
       "      <td>2021</td>\n",
       "      <td>12</td>\n",
       "      <td>1</td>\n",
       "      <td>website</td>\n",
       "      <td>0</td>\n",
       "      <td>171</td>\n",
       "      <td>1</td>\n",
       "    </tr>\n",
       "    <tr>\n",
       "      <th>4</th>\n",
       "      <td>auto</td>\n",
       "      <td>145</td>\n",
       "      <td>0</td>\n",
       "      <td>0</td>\n",
       "      <td>0</td>\n",
       "      <td>2</td>\n",
       "      <td>4</td>\n",
       "      <td>3</td>\n",
       "      <td>0</td>\n",
       "      <td>ms818</td>\n",
       "      <td>0</td>\n",
       "      <td>0</td>\n",
       "      <td>2022</td>\n",
       "      <td>7</td>\n",
       "      <td>0</td>\n",
       "      <td>website</td>\n",
       "      <td>0</td>\n",
       "      <td>209</td>\n",
       "      <td>1</td>\n",
       "    </tr>\n",
       "    <tr>\n",
       "      <th>...</th>\n",
       "      <td>...</td>\n",
       "      <td>...</td>\n",
       "      <td>...</td>\n",
       "      <td>...</td>\n",
       "      <td>...</td>\n",
       "      <td>...</td>\n",
       "      <td>...</td>\n",
       "      <td>...</td>\n",
       "      <td>...</td>\n",
       "      <td>...</td>\n",
       "      <td>...</td>\n",
       "      <td>...</td>\n",
       "      <td>...</td>\n",
       "      <td>...</td>\n",
       "      <td>...</td>\n",
       "      <td>...</td>\n",
       "      <td>...</td>\n",
       "      <td>...</td>\n",
       "      <td>...</td>\n",
       "    </tr>\n",
       "    <tr>\n",
       "      <th>42197</th>\n",
       "      <td>auto</td>\n",
       "      <td>88</td>\n",
       "      <td>0</td>\n",
       "      <td>0</td>\n",
       "      <td>0</td>\n",
       "      <td>4</td>\n",
       "      <td>5</td>\n",
       "      <td>2</td>\n",
       "      <td>0</td>\n",
       "      <td>ms818</td>\n",
       "      <td>2</td>\n",
       "      <td>0</td>\n",
       "      <td>2021</td>\n",
       "      <td>4</td>\n",
       "      <td>0</td>\n",
       "      <td>website</td>\n",
       "      <td>0</td>\n",
       "      <td>80</td>\n",
       "      <td>0</td>\n",
       "    </tr>\n",
       "    <tr>\n",
       "      <th>42198</th>\n",
       "      <td>auto</td>\n",
       "      <td>160</td>\n",
       "      <td>0</td>\n",
       "      <td>0</td>\n",
       "      <td>0</td>\n",
       "      <td>0</td>\n",
       "      <td>3</td>\n",
       "      <td>2</td>\n",
       "      <td>1</td>\n",
       "      <td>ms818</td>\n",
       "      <td>2</td>\n",
       "      <td>0</td>\n",
       "      <td>2022</td>\n",
       "      <td>6</td>\n",
       "      <td>1</td>\n",
       "      <td>website</td>\n",
       "      <td>0</td>\n",
       "      <td>57</td>\n",
       "      <td>0</td>\n",
       "    </tr>\n",
       "    <tr>\n",
       "      <th>42199</th>\n",
       "      <td>auto</td>\n",
       "      <td>94</td>\n",
       "      <td>0</td>\n",
       "      <td>0</td>\n",
       "      <td>0</td>\n",
       "      <td>1</td>\n",
       "      <td>4</td>\n",
       "      <td>2</td>\n",
       "      <td>0</td>\n",
       "      <td>ms818</td>\n",
       "      <td>1</td>\n",
       "      <td>0</td>\n",
       "      <td>2021</td>\n",
       "      <td>10</td>\n",
       "      <td>1</td>\n",
       "      <td>website</td>\n",
       "      <td>0</td>\n",
       "      <td>28</td>\n",
       "      <td>0</td>\n",
       "    </tr>\n",
       "    <tr>\n",
       "      <th>42200</th>\n",
       "      <td>auto</td>\n",
       "      <td>184</td>\n",
       "      <td>0</td>\n",
       "      <td>0</td>\n",
       "      <td>0</td>\n",
       "      <td>1</td>\n",
       "      <td>2</td>\n",
       "      <td>3</td>\n",
       "      <td>0</td>\n",
       "      <td>ms604</td>\n",
       "      <td>1</td>\n",
       "      <td>0</td>\n",
       "      <td>2021</td>\n",
       "      <td>1</td>\n",
       "      <td>0</td>\n",
       "      <td>website</td>\n",
       "      <td>0</td>\n",
       "      <td>47</td>\n",
       "      <td>0</td>\n",
       "    </tr>\n",
       "    <tr>\n",
       "      <th>42201</th>\n",
       "      <td>auto</td>\n",
       "      <td>81</td>\n",
       "      <td>0</td>\n",
       "      <td>0</td>\n",
       "      <td>0</td>\n",
       "      <td>1</td>\n",
       "      <td>3</td>\n",
       "      <td>2</td>\n",
       "      <td>0</td>\n",
       "      <td>ms818</td>\n",
       "      <td>1</td>\n",
       "      <td>0</td>\n",
       "      <td>2021</td>\n",
       "      <td>1</td>\n",
       "      <td>1</td>\n",
       "      <td>bank branch</td>\n",
       "      <td>0</td>\n",
       "      <td>242</td>\n",
       "      <td>0</td>\n",
       "    </tr>\n",
       "  </tbody>\n",
       "</table>\n",
       "<p>42202 rows × 19 columns</p>\n",
       "</div>"
      ],
      "text/plain": [
       "      loan_type  loan_amount_index  previous_defaults  previous_nondefaults  \\\n",
       "0          auto                134                  0                     0   \n",
       "1          auto                118                  0                     0   \n",
       "2         other                 86                  0                     0   \n",
       "3          auto                131                  0                     0   \n",
       "4          auto                145                  0                     0   \n",
       "...         ...                ...                ...                   ...   \n",
       "42197      auto                 88                  0                     0   \n",
       "42198      auto                160                  0                     0   \n",
       "42199      auto                 94                  0                     0   \n",
       "42200      auto                184                  0                     0   \n",
       "42201      auto                 81                  0                     0   \n",
       "\n",
       "       previous_loan_count  cars_in_household  other_vehicles_owned  \\\n",
       "0                        0                  1                     3   \n",
       "1                        0                  0                     1   \n",
       "2                        0                  0                     3   \n",
       "3                        0                  2                     1   \n",
       "4                        0                  2                     4   \n",
       "...                    ...                ...                   ...   \n",
       "42197                    0                  4                     5   \n",
       "42198                    0                  0                     3   \n",
       "42199                    0                  1                     4   \n",
       "42200                    0                  1                     2   \n",
       "42201                    0                  1                     3   \n",
       "\n",
       "       adults_in_household  children_in_household market_segment_code  \\\n",
       "0                        3                      0               ms498   \n",
       "1                        2                      1               ms818   \n",
       "2                        1                      0               ms818   \n",
       "3                        2                      1               ms818   \n",
       "4                        3                      0               ms818   \n",
       "...                    ...                    ...                 ...   \n",
       "42197                    2                      0               ms818   \n",
       "42198                    2                      1               ms818   \n",
       "42199                    2                      0               ms818   \n",
       "42200                    3                      0               ms604   \n",
       "42201                    2                      0               ms818   \n",
       "\n",
       "       issues_needing_resolution  hmc  application_year  application_month  \\\n",
       "0                              0    0              2022                  2   \n",
       "1                              2    0              2022                  2   \n",
       "2                              1    0              2021                  3   \n",
       "3                              1    0              2021                 12   \n",
       "4                              0    0              2022                  7   \n",
       "...                          ...  ...               ...                ...   \n",
       "42197                          2    0              2021                  4   \n",
       "42198                          2    0              2022                  6   \n",
       "42199                          1    0              2021                 10   \n",
       "42200                          1    0              2021                  1   \n",
       "42201                          1    0              2021                  1   \n",
       "\n",
       "       application_in_first_half_of_month loan_origination  repeat_customer  \\\n",
       "0                                       0          website                0   \n",
       "1                                       0          website                0   \n",
       "2                                       1          website                0   \n",
       "3                                       1          website                0   \n",
       "4                                       0          website                0   \n",
       "...                                   ...              ...              ...   \n",
       "42197                                   0          website                0   \n",
       "42198                                   1          website                0   \n",
       "42199                                   1          website                0   \n",
       "42200                                   0          website                0   \n",
       "42201                                   1      bank branch                0   \n",
       "\n",
       "       mystery_field  loan_default  \n",
       "0                 32             0  \n",
       "1                 15             0  \n",
       "2                121             0  \n",
       "3                171             1  \n",
       "4                209             1  \n",
       "...              ...           ...  \n",
       "42197             80             0  \n",
       "42198             57             0  \n",
       "42199             28             0  \n",
       "42200             47             0  \n",
       "42201            242             0  \n",
       "\n",
       "[42202 rows x 19 columns]"
      ]
     },
     "execution_count": 4,
     "metadata": {},
     "output_type": "execute_result"
    }
   ],
   "source": [
    "df = pd.read_csv(\"loan_database.csv\")\n",
    "df"
   ]
  },
  {
   "cell_type": "markdown",
   "id": "f2d1970c",
   "metadata": {},
   "source": [
    "# Step 2: Understand the context"
   ]
  },
  {
   "cell_type": "markdown",
   "id": "4606d782",
   "metadata": {},
   "source": [
    "Our team is made up of data scentists for the consumer loan division of HansenBank. The objective of this project is to build a predictive logistic regression model that is useful for classifying loans as \"not default\" or \"default\". We also hope to accomplish four subtasks in support of this objective:\n",
    "* To analyze the data provided\n",
    "* To find which factors have a good ability to predict loan default\n",
    "* To build a predictive model that can predict which loans are likely to go into default\n",
    "* To suggest profitable policies for determining loan approval criteria.\n",
    "\n",
    "We wish to predict whether loan applications are likely to result in performing or nonperforming loans in order to maximize profitability. Approving performing loans will allow HansenBank to make a profit, since the customer will make payments on time and pay an interest rate that is higher than the rate the bank itself has to pay to acquire the money for the loan. Avoiding nonperforming loans will prevent the bank from losing money. Customers who don't make payments on time or default on the loan altogether will force the bank to use time and money to pressure the customer and to recover collateral.\n",
    "\n",
    "Given the null hypothesis of \"situation normal/performing loan\" in the context of this project, a Type I error occurs if the bank incorrectly rejects the null hypothesis even though the loan would have become performing. A Type II error occurs if the bank fails to reject the null hypothesis and approves the loan even though the loan will ultimately become nonperforming. We conclude that though Type I and Type II error are similar in the net loss they may incur, Type II errors are marginally worse. Type I errors would result in a loss of money due to the cost of defending against a lawsuit, which certainly would not occur in all cases of such errors. We do not consider failure to earn money that could have hypothetically been earned in the absence of such an error as a loss. Type II errors, however, always carry with them the cost of losing the loan and recovering collateral. Both errors may also result in a loss of a customer, whether it's due to the customer not wanting to do business with the bank that rejected their loan or wanting to avoid the bank that they failed to fulfill loan payments to.\n",
    "\n",
    "Based on our decision that both types of errors are equally severe, we will most likely emphasize accuracy and recall as performance metrics, but will also consider the F1 statistic. Accuracy will measure the overall correctness of the model, recall will measure the model's performance on predicting the positive class, and F1 will recognize the tradeoff between recall and precision, or of avoiding Type II or Type I errors."
   ]
  },
  {
   "cell_type": "markdown",
   "id": "f86e4fd5",
   "metadata": {},
   "source": [
    "We have just described the context, objectives, significance, and rough roadmap for this project."
   ]
  },
  {
   "cell_type": "markdown",
   "id": "9e6a7d4d",
   "metadata": {},
   "source": [
    "# Step 3: Data dictionary"
   ]
  },
  {
   "cell_type": "markdown",
   "id": "e71a1688",
   "metadata": {},
   "source": [
    "* <b>loan_type</b>: auto, residential, or other\n",
    "* <b>loan_amount_index</b>: 100 = national median for loan type, other quantities prorated\n",
    "accordingly\n",
    "* <b>previous_defaults</b>: number of times this customer has previously defaulted\n",
    "* <b>previous_nondefaults</b>: number of times this customer has previously held a performing\n",
    "loan (possibly still in progress)\n",
    "* <b>previous_loan_count</b>: number of previous loans issued to this customer\n",
    "* <b>cars_in_household</b>: number of passenger vehicles in customer's household\n",
    "* <b>other_vehicles_owned</b>: number of other vehicles (boats, motorcycles, etc.) titled to the\n",
    "customer\n",
    "* <b>adults_in_household</b>: number of adults age 18+ in customer's household\n",
    "* <b>children_in_household</b>: number of children under age 18 in customer's household\n",
    "* <b>market_segment_code</b>: proprietary code for customer's market segment\n",
    "* <b>issues_needing_resolution</b>: number of paperwork issues requiring special attention on\n",
    "the application\n",
    "* <b>hmc</b>: 1 = high maintenance customer, 0 = normal customer with no special handling needed\n",
    "* <b>application_year</b>: YYYY format\n",
    "* <b>application_month</b>: 1 (January) through 12 (December)\n",
    "* <b>application_in_first_half_of_month</b>: 1 = application filed on day 1-15 of month, 0 =\n",
    "filed any other day of month\n",
    "* <b>loan_origination</b>: website, bank branch, or other\n",
    "* <b>repeat_customer</b>: 1 = customer has previously been a loan customer, 0 = no previous loan\n",
    "* <b>mystery_field</b>: no information\n",
    "* <b>loan_default</b>: 1 = this loan ended in default, 0 = performing loan (either paid off or\n",
    "in progress)"
   ]
  },
  {
   "cell_type": "markdown",
   "id": "a37dcbe1",
   "metadata": {},
   "source": [
    "We have just created a data dictionary to allow anyone who reads this notebook to understand the meaning of each field."
   ]
  },
  {
   "cell_type": "markdown",
   "id": "b76a7619",
   "metadata": {},
   "source": [
    "# Step 4: Useful Python functions"
   ]
  },
  {
   "cell_type": "code",
   "execution_count": 5,
   "id": "0c470a7d",
   "metadata": {},
   "outputs": [],
   "source": [
    "# Custom code written 20210625 FRI by E. M. Hansen\n",
    "# This code is a modified and simplified version of the\n",
    "# histogram_boxplot custom function written by someone else.\n",
    "\n",
    "def boxpl_and_hist(data_series): # Display a boxplot above a histogram.\n",
    "# (NOTE: this code is a modified\n",
    "# version of the histogram_boxplot\n",
    "# custom function written by someone\n",
    "# else.)\n",
    " scratch_vbl, (box1, hist1) = plt.subplots(nrows=2, # Set up combined plot with 2 rows.\n",
    " figsize=(16,8),\n",
    "sharex=True, # Both plots should use same x-axis.\n",
    "gridspec_kw = {\"height_ratios\": (.1, .9)})\n",
    " # Note: scratch_vbl must be present for code to work. Not sure\n",
    "# what its purpose is, since the variable is never needed or\n",
    "# used again.\n",
    " sns.boxplot(x=data_series, ax=box1, showmeans=True, color='cyan') # triangle for mean\n",
    " sns.histplot(x=data_series, ax=hist1, kde=False, color='cyan') # histplot, not distplot\n",
    " hist1.axvline(np.mean(data_series), color='green', linestyle='--') # mean (dotted)\n",
    " hist1.axvline(np.median(data_series), color='magenta', linestyle='-') # median (solid)\n",
    " plt.show() # Display both plots."
   ]
  },
  {
   "cell_type": "code",
   "execution_count": 6,
   "id": "b9d3a760",
   "metadata": {},
   "outputs": [],
   "source": [
    "# Function to return a dataframe showing the VIF for each explanatory variable:\n",
    "# Note that the explanatory variables are in a dataframe called Xdataframe.\n",
    "\n",
    "def calculate_vif(Xdataframe):\n",
    " temp_df = pd.DataFrame()\n",
    " temp_df[\"column name\"] = Xdataframe.columns\n",
    " temp_df[\"VIF\"] = [variance_inflation_factor(Xdataframe.values, k)\n",
    " for k in range(len(Xdataframe.columns))]\n",
    " return temp_df"
   ]
  },
  {
   "cell_type": "code",
   "execution_count": 7,
   "id": "76ca38e9",
   "metadata": {},
   "outputs": [],
   "source": [
    "def confusion_matrix_statsmodels(model, predictors, target, threshold=0.5):\n",
    " y_pred = model.predict(predictors) > threshold\n",
    " cm = confusion_matrix(target, y_pred)\n",
    " labels = np.asarray(\n",
    " [\n",
    " [\"{0:0.0f}\".format(item) + \"\\n{0:.2%}\".format(item / cm.flatten().sum())]\n",
    " for item in cm.flatten()\n",
    " ]\n",
    " ).reshape(2, 2)\n",
    " plt.figure(figsize=(6, 4))\n",
    " sns.heatmap(cm, annot=labels, fmt=\"\")\n",
    " plt.ylabel(\"True value of target\")\n",
    " plt.xlabel(\"Predicted value of target\")"
   ]
  },
  {
   "cell_type": "code",
   "execution_count": 8,
   "id": "b7f98a1b",
   "metadata": {},
   "outputs": [],
   "source": [
    "def model_performance_classification_statsmodels(model, predictors, target, threshold=0.5):\n",
    " # checking which probabilities are greater than threshold\n",
    " pred_temp = model.predict(predictors) > threshold\n",
    " # rounding off the above values to get classes\n",
    " pred = np.round(pred_temp)\n",
    " acc = accuracy_score(target, pred) # compute Accuracy\n",
    " recall = recall_score(target, pred) # compute Recall\n",
    " precision = precision_score(target, pred) # compute Precision\n",
    " f1 = f1_score(target, pred) # compute F1\n",
    " # creating a dataframe of metrics\n",
    " df_perf = pd.DataFrame(\n",
    " {\"Accuracy\": acc, \"Recall\": recall, \"Precision\": precision, \"F1\": f1,}, index=[0])\n",
    " return df_perf"
   ]
  },
  {
   "cell_type": "code",
   "execution_count": 9,
   "id": "faf7118e",
   "metadata": {},
   "outputs": [],
   "source": [
    "def bargraph_with_labels(data, feature, perc=False, n=None): # author unknown\n",
    " # data = placeholder for dataframe (df)\n",
    "# feature = column to graph\n",
    "# perc = display %s instead of counts\n",
    "# n = number of category levels to show\n",
    " total = len(data[feature])\n",
    " count = data[feature].nunique()\n",
    " if n is None:\n",
    "     plt.figure(figsize=(count + 2, 6))\n",
    " else:\n",
    "     plt.figure(figsize=(n + 2, 6))\n",
    " plt.xticks(rotation=90, fontsize=12)\n",
    " ax = sns.countplot(\n",
    " data=data,\n",
    " x=feature,\n",
    " palette=\"Paired\",\n",
    " order=data[feature].value_counts().index[:n].sort_values(),\n",
    " )\n",
    " for p in ax.patches:\n",
    "     if perc == True:\n",
    "         label = \"{:.1f}%\".format(\n",
    "         100 * p.get_height() / total\n",
    "         )\n",
    "     else:\n",
    "         label = p.get_height()\n",
    "     x = p.get_x() + p.get_width() / 2 # width of plot\n",
    "     y = p.get_height() # height of plot\n",
    "     ax.annotate(\n",
    "     label,\n",
    "     (x, y),\n",
    "     ha=\"center\",\n",
    "     va=\"center\",\n",
    "     size=12,\n",
    "     xytext=(0, 5),\n",
    "     textcoords=\"offset points\",\n",
    "     )\n",
    " plt.show()"
   ]
  },
  {
   "cell_type": "code",
   "execution_count": 10,
   "id": "21a143b9",
   "metadata": {},
   "outputs": [],
   "source": [
    "def plot_categorical_vs_target(data, feature, target_vbl_name):\n",
    " x,y = feature, target_vbl_name\n",
    " for feature in [data]:\n",
    "        (feature\n",
    " .groupby(x)[y]\n",
    " .value_counts(normalize=True)\n",
    " .mul(100)\n",
    " .rename('percent')\n",
    " .reset_index()\n",
    " .pipe((sns.catplot,'data'), x=x,y='percent',hue=y,kind='bar'))\n",
    " plt.show()\n"
   ]
  },
  {
   "cell_type": "code",
   "execution_count": 11,
   "id": "52d713a6",
   "metadata": {},
   "outputs": [],
   "source": [
    "def boxplots_vs_target(data, feature, target_vbl_name):\n",
    " figsize=(12, 10)\n",
    " sns.boxplot(data=data, x=target_vbl_name, y=feature, palette=\"gist_rainbow\")\n",
    " plt.show()"
   ]
  },
  {
   "cell_type": "markdown",
   "id": "eb97d2de",
   "metadata": {},
   "source": [
    "We have just defined some useful Python functions."
   ]
  },
  {
   "cell_type": "markdown",
   "id": "56955f85",
   "metadata": {},
   "source": [
    "# Step 5: Drop duplicate rows"
   ]
  },
  {
   "cell_type": "code",
   "execution_count": 12,
   "id": "c28355b0",
   "metadata": {},
   "outputs": [
    {
     "data": {
      "text/plain": [
       "loan_type                             1947\n",
       "loan_amount_index                     1947\n",
       "previous_defaults                     1947\n",
       "previous_nondefaults                  1947\n",
       "previous_loan_count                   1947\n",
       "cars_in_household                     1947\n",
       "other_vehicles_owned                  1947\n",
       "adults_in_household                   1947\n",
       "children_in_household                 1947\n",
       "market_segment_code                   1947\n",
       "issues_needing_resolution             1947\n",
       "hmc                                   1947\n",
       "application_year                      1947\n",
       "application_month                     1947\n",
       "application_in_first_half_of_month    1947\n",
       "loan_origination                      1947\n",
       "repeat_customer                       1947\n",
       "mystery_field                         1947\n",
       "loan_default                          1947\n",
       "dtype: int64"
      ]
     },
     "execution_count": 12,
     "metadata": {},
     "output_type": "execute_result"
    }
   ],
   "source": [
    "df[df.duplicated()].count()"
   ]
  },
  {
   "cell_type": "code",
   "execution_count": 13,
   "id": "f022b984",
   "metadata": {},
   "outputs": [
    {
     "data": {
      "text/plain": [
       "40255"
      ]
     },
     "execution_count": 13,
     "metadata": {},
     "output_type": "execute_result"
    }
   ],
   "source": [
    "df.drop_duplicates(inplace=True)\n",
    "df.shape[0]"
   ]
  },
  {
   "cell_type": "markdown",
   "id": "4fa52174",
   "metadata": {},
   "source": [
    "We have just dropped any duplicate rows. Since 1,947 subtracted from the original number of rows, 42,202, equals 40,255, the counts are correct."
   ]
  },
  {
   "cell_type": "markdown",
   "id": "811f1163",
   "metadata": {},
   "source": [
    "# Step 6: Look for missing values"
   ]
  },
  {
   "cell_type": "code",
   "execution_count": 14,
   "id": "7b68a8c5",
   "metadata": {},
   "outputs": [
    {
     "data": {
      "text/plain": [
       "loan_type                             0\n",
       "loan_amount_index                     0\n",
       "previous_defaults                     0\n",
       "previous_nondefaults                  0\n",
       "previous_loan_count                   0\n",
       "cars_in_household                     0\n",
       "other_vehicles_owned                  0\n",
       "adults_in_household                   0\n",
       "children_in_household                 0\n",
       "market_segment_code                   0\n",
       "issues_needing_resolution             0\n",
       "hmc                                   0\n",
       "application_year                      0\n",
       "application_month                     0\n",
       "application_in_first_half_of_month    0\n",
       "loan_origination                      0\n",
       "repeat_customer                       0\n",
       "mystery_field                         0\n",
       "loan_default                          0\n",
       "dtype: int64"
      ]
     },
     "execution_count": 14,
     "metadata": {},
     "output_type": "execute_result"
    }
   ],
   "source": [
    "df.isnull().sum()"
   ]
  },
  {
   "cell_type": "markdown",
   "id": "11a2241a",
   "metadata": {},
   "source": [
    "We have checked for any missing or null values. Since the sums are all 0, there are no missing values."
   ]
  },
  {
   "cell_type": "markdown",
   "id": "2d9fe265",
   "metadata": {},
   "source": [
    "# Step 7: Display summary statistics"
   ]
  },
  {
   "cell_type": "code",
   "execution_count": 15,
   "id": "26edcb71",
   "metadata": {},
   "outputs": [
    {
     "data": {
      "text/html": [
       "<div>\n",
       "<style scoped>\n",
       "    .dataframe tbody tr th:only-of-type {\n",
       "        vertical-align: middle;\n",
       "    }\n",
       "\n",
       "    .dataframe tbody tr th {\n",
       "        vertical-align: top;\n",
       "    }\n",
       "\n",
       "    .dataframe thead th {\n",
       "        text-align: right;\n",
       "    }\n",
       "</style>\n",
       "<table border=\"1\" class=\"dataframe\">\n",
       "  <thead>\n",
       "    <tr style=\"text-align: right;\">\n",
       "      <th></th>\n",
       "      <th>count</th>\n",
       "      <th>mean</th>\n",
       "      <th>std</th>\n",
       "      <th>min</th>\n",
       "      <th>25%</th>\n",
       "      <th>50%</th>\n",
       "      <th>75%</th>\n",
       "      <th>max</th>\n",
       "    </tr>\n",
       "  </thead>\n",
       "  <tbody>\n",
       "    <tr>\n",
       "      <th>loan_amount_index</th>\n",
       "      <td>40255.0</td>\n",
       "      <td>106.992001</td>\n",
       "      <td>38.746823</td>\n",
       "      <td>0.0</td>\n",
       "      <td>81.0</td>\n",
       "      <td>100.0</td>\n",
       "      <td>128.0</td>\n",
       "      <td>376.0</td>\n",
       "    </tr>\n",
       "    <tr>\n",
       "      <th>previous_defaults</th>\n",
       "      <td>40255.0</td>\n",
       "      <td>0.027475</td>\n",
       "      <td>0.363116</td>\n",
       "      <td>0.0</td>\n",
       "      <td>0.0</td>\n",
       "      <td>0.0</td>\n",
       "      <td>0.0</td>\n",
       "      <td>11.0</td>\n",
       "    </tr>\n",
       "    <tr>\n",
       "      <th>previous_nondefaults</th>\n",
       "      <td>40255.0</td>\n",
       "      <td>0.235126</td>\n",
       "      <td>2.293531</td>\n",
       "      <td>0.0</td>\n",
       "      <td>0.0</td>\n",
       "      <td>0.0</td>\n",
       "      <td>0.0</td>\n",
       "      <td>72.0</td>\n",
       "    </tr>\n",
       "    <tr>\n",
       "      <th>previous_loan_count</th>\n",
       "      <td>40255.0</td>\n",
       "      <td>0.262601</td>\n",
       "      <td>2.523291</td>\n",
       "      <td>0.0</td>\n",
       "      <td>0.0</td>\n",
       "      <td>0.0</td>\n",
       "      <td>0.0</td>\n",
       "      <td>78.0</td>\n",
       "    </tr>\n",
       "    <tr>\n",
       "      <th>cars_in_household</th>\n",
       "      <td>40255.0</td>\n",
       "      <td>0.834157</td>\n",
       "      <td>0.861774</td>\n",
       "      <td>0.0</td>\n",
       "      <td>0.0</td>\n",
       "      <td>1.0</td>\n",
       "      <td>2.0</td>\n",
       "      <td>7.0</td>\n",
       "    </tr>\n",
       "    <tr>\n",
       "      <th>other_vehicles_owned</th>\n",
       "      <td>40255.0</td>\n",
       "      <td>2.200944</td>\n",
       "      <td>1.395875</td>\n",
       "      <td>0.0</td>\n",
       "      <td>1.0</td>\n",
       "      <td>2.0</td>\n",
       "      <td>3.0</td>\n",
       "      <td>17.0</td>\n",
       "    </tr>\n",
       "    <tr>\n",
       "      <th>adults_in_household</th>\n",
       "      <td>40255.0</td>\n",
       "      <td>1.861533</td>\n",
       "      <td>0.525784</td>\n",
       "      <td>0.0</td>\n",
       "      <td>2.0</td>\n",
       "      <td>2.0</td>\n",
       "      <td>2.0</td>\n",
       "      <td>4.0</td>\n",
       "    </tr>\n",
       "    <tr>\n",
       "      <th>children_in_household</th>\n",
       "      <td>40255.0</td>\n",
       "      <td>0.105651</td>\n",
       "      <td>0.395912</td>\n",
       "      <td>0.0</td>\n",
       "      <td>0.0</td>\n",
       "      <td>0.0</td>\n",
       "      <td>0.0</td>\n",
       "      <td>10.0</td>\n",
       "    </tr>\n",
       "    <tr>\n",
       "      <th>issues_needing_resolution</th>\n",
       "      <td>40255.0</td>\n",
       "      <td>0.779332</td>\n",
       "      <td>0.856337</td>\n",
       "      <td>0.0</td>\n",
       "      <td>0.0</td>\n",
       "      <td>1.0</td>\n",
       "      <td>1.0</td>\n",
       "      <td>5.0</td>\n",
       "    </tr>\n",
       "    <tr>\n",
       "      <th>hmc</th>\n",
       "      <td>40255.0</td>\n",
       "      <td>0.033809</td>\n",
       "      <td>0.180741</td>\n",
       "      <td>0.0</td>\n",
       "      <td>0.0</td>\n",
       "      <td>0.0</td>\n",
       "      <td>0.0</td>\n",
       "      <td>1.0</td>\n",
       "    </tr>\n",
       "    <tr>\n",
       "      <th>application_year</th>\n",
       "      <td>40255.0</td>\n",
       "      <td>2021.210980</td>\n",
       "      <td>0.653694</td>\n",
       "      <td>2020.0</td>\n",
       "      <td>2021.0</td>\n",
       "      <td>2021.0</td>\n",
       "      <td>2022.0</td>\n",
       "      <td>2022.0</td>\n",
       "    </tr>\n",
       "    <tr>\n",
       "      <th>application_month</th>\n",
       "      <td>40255.0</td>\n",
       "      <td>6.200348</td>\n",
       "      <td>3.248510</td>\n",
       "      <td>1.0</td>\n",
       "      <td>3.0</td>\n",
       "      <td>6.0</td>\n",
       "      <td>8.0</td>\n",
       "      <td>12.0</td>\n",
       "    </tr>\n",
       "    <tr>\n",
       "      <th>application_in_first_half_of_month</th>\n",
       "      <td>40255.0</td>\n",
       "      <td>0.495789</td>\n",
       "      <td>0.499988</td>\n",
       "      <td>0.0</td>\n",
       "      <td>0.0</td>\n",
       "      <td>0.0</td>\n",
       "      <td>1.0</td>\n",
       "      <td>1.0</td>\n",
       "    </tr>\n",
       "    <tr>\n",
       "      <th>repeat_customer</th>\n",
       "      <td>40255.0</td>\n",
       "      <td>0.034083</td>\n",
       "      <td>0.181444</td>\n",
       "      <td>0.0</td>\n",
       "      <td>0.0</td>\n",
       "      <td>0.0</td>\n",
       "      <td>0.0</td>\n",
       "      <td>1.0</td>\n",
       "    </tr>\n",
       "    <tr>\n",
       "      <th>mystery_field</th>\n",
       "      <td>40255.0</td>\n",
       "      <td>85.447895</td>\n",
       "      <td>78.952562</td>\n",
       "      <td>0.0</td>\n",
       "      <td>26.0</td>\n",
       "      <td>60.0</td>\n",
       "      <td>121.0</td>\n",
       "      <td>543.0</td>\n",
       "    </tr>\n",
       "    <tr>\n",
       "      <th>loan_default</th>\n",
       "      <td>40255.0</td>\n",
       "      <td>0.163185</td>\n",
       "      <td>0.369539</td>\n",
       "      <td>0.0</td>\n",
       "      <td>0.0</td>\n",
       "      <td>0.0</td>\n",
       "      <td>0.0</td>\n",
       "      <td>1.0</td>\n",
       "    </tr>\n",
       "  </tbody>\n",
       "</table>\n",
       "</div>"
      ],
      "text/plain": [
       "                                      count         mean        std     min  \\\n",
       "loan_amount_index                   40255.0   106.992001  38.746823     0.0   \n",
       "previous_defaults                   40255.0     0.027475   0.363116     0.0   \n",
       "previous_nondefaults                40255.0     0.235126   2.293531     0.0   \n",
       "previous_loan_count                 40255.0     0.262601   2.523291     0.0   \n",
       "cars_in_household                   40255.0     0.834157   0.861774     0.0   \n",
       "other_vehicles_owned                40255.0     2.200944   1.395875     0.0   \n",
       "adults_in_household                 40255.0     1.861533   0.525784     0.0   \n",
       "children_in_household               40255.0     0.105651   0.395912     0.0   \n",
       "issues_needing_resolution           40255.0     0.779332   0.856337     0.0   \n",
       "hmc                                 40255.0     0.033809   0.180741     0.0   \n",
       "application_year                    40255.0  2021.210980   0.653694  2020.0   \n",
       "application_month                   40255.0     6.200348   3.248510     1.0   \n",
       "application_in_first_half_of_month  40255.0     0.495789   0.499988     0.0   \n",
       "repeat_customer                     40255.0     0.034083   0.181444     0.0   \n",
       "mystery_field                       40255.0    85.447895  78.952562     0.0   \n",
       "loan_default                        40255.0     0.163185   0.369539     0.0   \n",
       "\n",
       "                                       25%     50%     75%     max  \n",
       "loan_amount_index                     81.0   100.0   128.0   376.0  \n",
       "previous_defaults                      0.0     0.0     0.0    11.0  \n",
       "previous_nondefaults                   0.0     0.0     0.0    72.0  \n",
       "previous_loan_count                    0.0     0.0     0.0    78.0  \n",
       "cars_in_household                      0.0     1.0     2.0     7.0  \n",
       "other_vehicles_owned                   1.0     2.0     3.0    17.0  \n",
       "adults_in_household                    2.0     2.0     2.0     4.0  \n",
       "children_in_household                  0.0     0.0     0.0    10.0  \n",
       "issues_needing_resolution              0.0     1.0     1.0     5.0  \n",
       "hmc                                    0.0     0.0     0.0     1.0  \n",
       "application_year                    2021.0  2021.0  2022.0  2022.0  \n",
       "application_month                      3.0     6.0     8.0    12.0  \n",
       "application_in_first_half_of_month     0.0     0.0     1.0     1.0  \n",
       "repeat_customer                        0.0     0.0     0.0     1.0  \n",
       "mystery_field                         26.0    60.0   121.0   543.0  \n",
       "loan_default                           0.0     0.0     0.0     1.0  "
      ]
     },
     "execution_count": 15,
     "metadata": {},
     "output_type": "execute_result"
    }
   ],
   "source": [
    "df.describe().T"
   ]
  },
  {
   "cell_type": "markdown",
   "id": "14078a17",
   "metadata": {},
   "source": [
    "We have displayed the summary statistics for the dataframe. There does not seem to be any suspiciously low \"min\" values. However, the fields with suspiciously high \"max\" values are\n",
    "* previous_defaults with 11\n",
    "* previous_nondefaults with 72\n",
    "* previous_loan_count with 78\n",
    "* cars_in_household with 7\n",
    "* other_vehicles_owned with 17\n",
    "* children_in_household with 10."
   ]
  },
  {
   "cell_type": "markdown",
   "id": "b9f677b0",
   "metadata": {},
   "source": [
    "# Step 8: Display boxplot and histogram for loan_amount_index field"
   ]
  },
  {
   "cell_type": "code",
   "execution_count": 16,
   "id": "bb22c3c0",
   "metadata": {},
   "outputs": [
    {
     "data": {
      "image/png": "[encoded data removed]",
      "text/plain": [
       "<Figure size 1152x576 with 2 Axes>"
      ]
     },
     "metadata": {
      "needs_background": "light"
     },
     "output_type": "display_data"
    }
   ],
   "source": [
    "boxpl_and_hist(df[\"loan_amount_index\"])"
   ]
  },
  {
   "cell_type": "markdown",
   "id": "921a698b",
   "metadata": {},
   "source": [
    "We have displayed the boxplot and histogram for the loan_amount_index_field. There is some right-skewness. There is also a good number of samples with a loan amount index of 0."
   ]
  },
  {
   "cell_type": "markdown",
   "id": "4b88d3d2",
   "metadata": {},
   "source": [
    "# Step 9: Drop records for which loan_amount_index is 0"
   ]
  },
  {
   "cell_type": "code",
   "execution_count": 17,
   "id": "057d9510",
   "metadata": {},
   "outputs": [
    {
     "data": {
      "text/html": [
       "<div>\n",
       "<style scoped>\n",
       "    .dataframe tbody tr th:only-of-type {\n",
       "        vertical-align: middle;\n",
       "    }\n",
       "\n",
       "    .dataframe tbody tr th {\n",
       "        vertical-align: top;\n",
       "    }\n",
       "\n",
       "    .dataframe thead th {\n",
       "        text-align: right;\n",
       "    }\n",
       "</style>\n",
       "<table border=\"1\" class=\"dataframe\">\n",
       "  <thead>\n",
       "    <tr style=\"text-align: right;\">\n",
       "      <th></th>\n",
       "      <th>loan_type</th>\n",
       "      <th>loan_amount_index</th>\n",
       "      <th>previous_defaults</th>\n",
       "      <th>previous_nondefaults</th>\n",
       "      <th>previous_loan_count</th>\n",
       "      <th>cars_in_household</th>\n",
       "      <th>other_vehicles_owned</th>\n",
       "      <th>adults_in_household</th>\n",
       "      <th>children_in_household</th>\n",
       "      <th>market_segment_code</th>\n",
       "      <th>issues_needing_resolution</th>\n",
       "      <th>hmc</th>\n",
       "      <th>application_year</th>\n",
       "      <th>application_month</th>\n",
       "      <th>application_in_first_half_of_month</th>\n",
       "      <th>loan_origination</th>\n",
       "      <th>repeat_customer</th>\n",
       "      <th>mystery_field</th>\n",
       "      <th>loan_default</th>\n",
       "    </tr>\n",
       "  </thead>\n",
       "  <tbody>\n",
       "    <tr>\n",
       "      <th>132</th>\n",
       "      <td>auto</td>\n",
       "      <td>0</td>\n",
       "      <td>0</td>\n",
       "      <td>0</td>\n",
       "      <td>0</td>\n",
       "      <td>2</td>\n",
       "      <td>3</td>\n",
       "      <td>1</td>\n",
       "      <td>0</td>\n",
       "      <td>ms818</td>\n",
       "      <td>0</td>\n",
       "      <td>0</td>\n",
       "      <td>2020</td>\n",
       "      <td>7</td>\n",
       "      <td>0</td>\n",
       "      <td>website</td>\n",
       "      <td>0</td>\n",
       "      <td>210</td>\n",
       "      <td>0</td>\n",
       "    </tr>\n",
       "    <tr>\n",
       "      <th>149</th>\n",
       "      <td>other</td>\n",
       "      <td>0</td>\n",
       "      <td>0</td>\n",
       "      <td>0</td>\n",
       "      <td>0</td>\n",
       "      <td>2</td>\n",
       "      <td>1</td>\n",
       "      <td>2</td>\n",
       "      <td>0</td>\n",
       "      <td>ms818</td>\n",
       "      <td>1</td>\n",
       "      <td>0</td>\n",
       "      <td>2022</td>\n",
       "      <td>5</td>\n",
       "      <td>0</td>\n",
       "      <td>website</td>\n",
       "      <td>0</td>\n",
       "      <td>22</td>\n",
       "      <td>0</td>\n",
       "    </tr>\n",
       "    <tr>\n",
       "      <th>195</th>\n",
       "      <td>auto</td>\n",
       "      <td>0</td>\n",
       "      <td>0</td>\n",
       "      <td>0</td>\n",
       "      <td>0</td>\n",
       "      <td>0</td>\n",
       "      <td>2</td>\n",
       "      <td>2</td>\n",
       "      <td>0</td>\n",
       "      <td>ms818</td>\n",
       "      <td>1</td>\n",
       "      <td>0</td>\n",
       "      <td>2022</td>\n",
       "      <td>3</td>\n",
       "      <td>1</td>\n",
       "      <td>other</td>\n",
       "      <td>0</td>\n",
       "      <td>41</td>\n",
       "      <td>0</td>\n",
       "    </tr>\n",
       "    <tr>\n",
       "      <th>196</th>\n",
       "      <td>auto</td>\n",
       "      <td>0</td>\n",
       "      <td>3</td>\n",
       "      <td>13</td>\n",
       "      <td>16</td>\n",
       "      <td>0</td>\n",
       "      <td>2</td>\n",
       "      <td>1</td>\n",
       "      <td>0</td>\n",
       "      <td>ms296</td>\n",
       "      <td>1</td>\n",
       "      <td>0</td>\n",
       "      <td>2021</td>\n",
       "      <td>7</td>\n",
       "      <td>1</td>\n",
       "      <td>other</td>\n",
       "      <td>1</td>\n",
       "      <td>23</td>\n",
       "      <td>0</td>\n",
       "    </tr>\n",
       "    <tr>\n",
       "      <th>257</th>\n",
       "      <td>auto</td>\n",
       "      <td>0</td>\n",
       "      <td>0</td>\n",
       "      <td>0</td>\n",
       "      <td>0</td>\n",
       "      <td>2</td>\n",
       "      <td>0</td>\n",
       "      <td>1</td>\n",
       "      <td>0</td>\n",
       "      <td>ms818</td>\n",
       "      <td>0</td>\n",
       "      <td>0</td>\n",
       "      <td>2021</td>\n",
       "      <td>1</td>\n",
       "      <td>0</td>\n",
       "      <td>other</td>\n",
       "      <td>0</td>\n",
       "      <td>24</td>\n",
       "      <td>0</td>\n",
       "    </tr>\n",
       "    <tr>\n",
       "      <th>41691</th>\n",
       "      <td>auto</td>\n",
       "      <td>0</td>\n",
       "      <td>0</td>\n",
       "      <td>12</td>\n",
       "      <td>12</td>\n",
       "      <td>0</td>\n",
       "      <td>1</td>\n",
       "      <td>1</td>\n",
       "      <td>0</td>\n",
       "      <td>ms818</td>\n",
       "      <td>1</td>\n",
       "      <td>0</td>\n",
       "      <td>2022</td>\n",
       "      <td>5</td>\n",
       "      <td>0</td>\n",
       "      <td>other</td>\n",
       "      <td>1</td>\n",
       "      <td>36</td>\n",
       "      <td>0</td>\n",
       "    </tr>\n",
       "    <tr>\n",
       "      <th>41790</th>\n",
       "      <td>auto</td>\n",
       "      <td>0</td>\n",
       "      <td>0</td>\n",
       "      <td>0</td>\n",
       "      <td>0</td>\n",
       "      <td>0</td>\n",
       "      <td>1</td>\n",
       "      <td>2</td>\n",
       "      <td>0</td>\n",
       "      <td>ms818</td>\n",
       "      <td>1</td>\n",
       "      <td>0</td>\n",
       "      <td>2020</td>\n",
       "      <td>11</td>\n",
       "      <td>0</td>\n",
       "      <td>other</td>\n",
       "      <td>0</td>\n",
       "      <td>14</td>\n",
       "      <td>0</td>\n",
       "    </tr>\n",
       "    <tr>\n",
       "      <th>41858</th>\n",
       "      <td>auto</td>\n",
       "      <td>0</td>\n",
       "      <td>0</td>\n",
       "      <td>0</td>\n",
       "      <td>0</td>\n",
       "      <td>2</td>\n",
       "      <td>0</td>\n",
       "      <td>1</td>\n",
       "      <td>0</td>\n",
       "      <td>ms818</td>\n",
       "      <td>0</td>\n",
       "      <td>0</td>\n",
       "      <td>2021</td>\n",
       "      <td>3</td>\n",
       "      <td>1</td>\n",
       "      <td>other</td>\n",
       "      <td>0</td>\n",
       "      <td>15</td>\n",
       "      <td>0</td>\n",
       "    </tr>\n",
       "    <tr>\n",
       "      <th>41905</th>\n",
       "      <td>auto</td>\n",
       "      <td>0</td>\n",
       "      <td>0</td>\n",
       "      <td>0</td>\n",
       "      <td>0</td>\n",
       "      <td>0</td>\n",
       "      <td>1</td>\n",
       "      <td>2</td>\n",
       "      <td>0</td>\n",
       "      <td>ms498</td>\n",
       "      <td>1</td>\n",
       "      <td>0</td>\n",
       "      <td>2022</td>\n",
       "      <td>2</td>\n",
       "      <td>0</td>\n",
       "      <td>other</td>\n",
       "      <td>0</td>\n",
       "      <td>6</td>\n",
       "      <td>0</td>\n",
       "    </tr>\n",
       "    <tr>\n",
       "      <th>42001</th>\n",
       "      <td>auto</td>\n",
       "      <td>0</td>\n",
       "      <td>0</td>\n",
       "      <td>0</td>\n",
       "      <td>0</td>\n",
       "      <td>0</td>\n",
       "      <td>1</td>\n",
       "      <td>1</td>\n",
       "      <td>0</td>\n",
       "      <td>ms818</td>\n",
       "      <td>3</td>\n",
       "      <td>0</td>\n",
       "      <td>2021</td>\n",
       "      <td>5</td>\n",
       "      <td>0</td>\n",
       "      <td>other</td>\n",
       "      <td>0</td>\n",
       "      <td>9</td>\n",
       "      <td>0</td>\n",
       "    </tr>\n",
       "  </tbody>\n",
       "</table>\n",
       "</div>"
      ],
      "text/plain": [
       "      loan_type  loan_amount_index  previous_defaults  previous_nondefaults  \\\n",
       "132        auto                  0                  0                     0   \n",
       "149       other                  0                  0                     0   \n",
       "195        auto                  0                  0                     0   \n",
       "196        auto                  0                  3                    13   \n",
       "257        auto                  0                  0                     0   \n",
       "41691      auto                  0                  0                    12   \n",
       "41790      auto                  0                  0                     0   \n",
       "41858      auto                  0                  0                     0   \n",
       "41905      auto                  0                  0                     0   \n",
       "42001      auto                  0                  0                     0   \n",
       "\n",
       "       previous_loan_count  cars_in_household  other_vehicles_owned  \\\n",
       "132                      0                  2                     3   \n",
       "149                      0                  2                     1   \n",
       "195                      0                  0                     2   \n",
       "196                     16                  0                     2   \n",
       "257                      0                  2                     0   \n",
       "41691                   12                  0                     1   \n",
       "41790                    0                  0                     1   \n",
       "41858                    0                  2                     0   \n",
       "41905                    0                  0                     1   \n",
       "42001                    0                  0                     1   \n",
       "\n",
       "       adults_in_household  children_in_household market_segment_code  \\\n",
       "132                      1                      0               ms818   \n",
       "149                      2                      0               ms818   \n",
       "195                      2                      0               ms818   \n",
       "196                      1                      0               ms296   \n",
       "257                      1                      0               ms818   \n",
       "41691                    1                      0               ms818   \n",
       "41790                    2                      0               ms818   \n",
       "41858                    1                      0               ms818   \n",
       "41905                    2                      0               ms498   \n",
       "42001                    1                      0               ms818   \n",
       "\n",
       "       issues_needing_resolution  hmc  application_year  application_month  \\\n",
       "132                            0    0              2020                  7   \n",
       "149                            1    0              2022                  5   \n",
       "195                            1    0              2022                  3   \n",
       "196                            1    0              2021                  7   \n",
       "257                            0    0              2021                  1   \n",
       "41691                          1    0              2022                  5   \n",
       "41790                          1    0              2020                 11   \n",
       "41858                          0    0              2021                  3   \n",
       "41905                          1    0              2022                  2   \n",
       "42001                          3    0              2021                  5   \n",
       "\n",
       "       application_in_first_half_of_month loan_origination  repeat_customer  \\\n",
       "132                                     0          website                0   \n",
       "149                                     0          website                0   \n",
       "195                                     1            other                0   \n",
       "196                                     1            other                1   \n",
       "257                                     0            other                0   \n",
       "41691                                   0            other                1   \n",
       "41790                                   0            other                0   \n",
       "41858                                   1            other                0   \n",
       "41905                                   0            other                0   \n",
       "42001                                   0            other                0   \n",
       "\n",
       "       mystery_field  loan_default  \n",
       "132              210             0  \n",
       "149               22             0  \n",
       "195               41             0  \n",
       "196               23             0  \n",
       "257               24             0  \n",
       "41691             36             0  \n",
       "41790             14             0  \n",
       "41858             15             0  \n",
       "41905              6             0  \n",
       "42001              9             0  "
      ]
     },
     "execution_count": 17,
     "metadata": {},
     "output_type": "execute_result"
    }
   ],
   "source": [
    "# new df only for records where loan_amount_index = 0\n",
    "filtered_df = df[df['loan_amount_index'] == 0]\n",
    "result_df = pd.concat([filtered_df.head(), filtered_df.tail()])\n",
    "\n",
    "# displaying first 5 and last 5 records\n",
    "result_df"
   ]
  },
  {
   "cell_type": "code",
   "execution_count": 18,
   "id": "8db78cb0",
   "metadata": {},
   "outputs": [
    {
     "data": {
      "text/plain": [
       "39546"
      ]
     },
     "execution_count": 18,
     "metadata": {},
     "output_type": "execute_result"
    }
   ],
   "source": [
    "df.drop(df[df['loan_amount_index'] == 0].index, inplace=True)\n",
    "\n",
    "# display number of rows\n",
    "df.shape[0]"
   ]
  },
  {
   "cell_type": "markdown",
   "id": "0b5e5f88",
   "metadata": {},
   "source": [
    "We have dropped the records in which the loan_amount_index field equals 0. The record count of 39,546 is still correct since 709 subtracted from 40,255 is equal to 39,546.\n",
    "\n",
    "It makes sense to drop those 709 records because they are not representative of the broader distribution of the field. In the histogram, most of the field values are clustered between the values of 50 and 200. "
   ]
  },
  {
   "cell_type": "markdown",
   "id": "8629f423",
   "metadata": {},
   "source": [
    "# Step 10: Convert categorical variables to true categories"
   ]
  },
  {
   "cell_type": "code",
   "execution_count": 22,
   "id": "8733512b",
   "metadata": {},
   "outputs": [],
   "source": [
    "df['loan_type'] = df['loan_type'].astype('category')\n",
    "df['market_segment_code'] = df['market_segment_code'].astype('category')\n",
    "df['loan_origination'] = df['loan_origination'].astype('category')"
   ]
  },
  {
   "cell_type": "code",
   "execution_count": 23,
   "id": "1c9c15c7",
   "metadata": {},
   "outputs": [],
   "source": [
    "df['application_year'] = pd.Categorical(df['application_year'], ordered=True)\n",
    "df['application_month'] = pd.Categorical(df['application_month'], ordered=True)"
   ]
  },
  {
   "cell_type": "code",
   "execution_count": 24,
   "id": "7e33bfc3",
   "metadata": {},
   "outputs": [
    {
     "name": "stdout",
     "output_type": "stream",
     "text": [
      "<class 'pandas.core.frame.DataFrame'>\n",
      "Int64Index: 39546 entries, 0 to 42201\n",
      "Data columns (total 19 columns):\n",
      " #   Column                              Non-Null Count  Dtype   \n",
      "---  ------                              --------------  -----   \n",
      " 0   loan_type                           39546 non-null  category\n",
      " 1   loan_amount_index                   39546 non-null  int64   \n",
      " 2   previous_defaults                   39546 non-null  int64   \n",
      " 3   previous_nondefaults                39546 non-null  int64   \n",
      " 4   previous_loan_count                 39546 non-null  int64   \n",
      " 5   cars_in_household                   39546 non-null  int64   \n",
      " 6   other_vehicles_owned                39546 non-null  int64   \n",
      " 7   adults_in_household                 39546 non-null  int64   \n",
      " 8   children_in_household               39546 non-null  int64   \n",
      " 9   market_segment_code                 39546 non-null  category\n",
      " 10  issues_needing_resolution           39546 non-null  int64   \n",
      " 11  hmc                                 39546 non-null  int64   \n",
      " 12  application_year                    39546 non-null  category\n",
      " 13  application_month                   39546 non-null  category\n",
      " 14  application_in_first_half_of_month  39546 non-null  int64   \n",
      " 15  loan_origination                    39546 non-null  category\n",
      " 16  repeat_customer                     39546 non-null  int64   \n",
      " 17  mystery_field                       39546 non-null  int64   \n",
      " 18  loan_default                        39546 non-null  int64   \n",
      "dtypes: category(5), int64(14)\n",
      "memory usage: 4.7 MB\n"
     ]
    }
   ],
   "source": [
    "df.info()"
   ]
  },
  {
   "cell_type": "markdown",
   "id": "1501df01",
   "metadata": {},
   "source": [
    "We have just converted the the fields loan_type, market_segment_code, loan_origination, application_year, and application_month into categorical variables. \n",
    "\n",
    "We do not need to do the same thing for the hmc, application_in_first_half_if_month, repeat_customer, and loan_default variables because they are booleans. They need to be one-hot encoded and they already are, since all the values are either 1 or 0. \n",
    "\n"
   ]
  },
  {
   "cell_type": "markdown",
   "id": "b226892c",
   "metadata": {},
   "source": [
    "# Step 11: Test for imbalance in target variable"
   ]
  },
  {
   "cell_type": "code",
   "execution_count": 36,
   "id": "1801f545",
   "metadata": {},
   "outputs": [
    {
     "name": "stdout",
     "output_type": "stream",
     "text": [
      "Proportion of 1 values in target variable:  16.59586304556719 %\n",
      "Proportion of 0 values in target variable:  83.4041369544328 %\n"
     ]
    }
   ],
   "source": [
    "print(\"Proportion of 1 values in target variable: \", (df['loan_default'].sum()/df['loan_default'].count())*100, \"%\")\n",
    "print(\"Proportion of 0 values in target variable: \", (1-(df['loan_default'].sum()/df['loan_default'].count()))*100, \"%\")"
   ]
  },
  {
   "cell_type": "markdown",
   "id": "2ac99d09",
   "metadata": {},
   "source": [
    "The target variable is quite imbalanced, with a 0:1 split of about 83/17. The data is thus skewed in favor of 0 values, or buyers who do not default on loans, which is to be expected, but may affect model construction performance depending on the results of our EDA."
   ]
  },
  {
   "cell_type": "code",
   "execution_count": null,
   "id": "5cc30884",
   "metadata": {},
   "outputs": [],
   "source": []
  },
  {
   "cell_type": "markdown",
   "id": "d4aff191",
   "metadata": {},
   "source": []
  },
  {
   "cell_type": "markdown",
   "id": "2381ed76",
   "metadata": {},
   "source": [
    "# Step 13: Univariate EDA of each categorical variable"
   ]
  },
  {
   "cell_type": "code",
   "execution_count": 37,
   "id": "d2a3aa8e",
   "metadata": {
    "scrolled": true
   },
   "outputs": [
    {
     "data": {
      "image/png": "[encoded data removed]",
      "text/plain": [
       "<Figure size 360x432 with 1 Axes>"
      ]
     },
     "metadata": {
      "needs_background": "light"
     },
     "output_type": "display_data"
    },
    {
     "data": {
      "image/png": "[encoded data removed]",
      "text/plain": [
       "<Figure size 576x432 with 1 Axes>"
      ]
     },
     "metadata": {
      "needs_background": "light"
     },
     "output_type": "display_data"
    },
    {
     "data": {
      "image/png": "[encoded data removed]",
      "text/plain": [
       "<Figure size 288x432 with 1 Axes>"
      ]
     },
     "metadata": {
      "needs_background": "light"
     },
     "output_type": "display_data"
    },
    {
     "data": {
      "image/png": "[encoded data removed]",
      "text/plain": [
       "<Figure size 360x432 with 1 Axes>"
      ]
     },
     "metadata": {
      "needs_background": "light"
     },
     "output_type": "display_data"
    },
    {
     "data": {
      "image/png": "[encoded data removed]",
      "text/plain": [
       "<Figure size 1008x432 with 1 Axes>"
      ]
     },
     "metadata": {
      "needs_background": "light"
     },
     "output_type": "display_data"
    },
    {
     "data": {
      "image/png": "[encoded data removed]",
      "text/plain": [
       "<Figure size 288x432 with 1 Axes>"
      ]
     },
     "metadata": {
      "needs_background": "light"
     },
     "output_type": "display_data"
    },
    {
     "data": {
      "image/png": "[encoded data removed]",
      "text/plain": [
       "<Figure size 360x432 with 1 Axes>"
      ]
     },
     "metadata": {
      "needs_background": "light"
     },
     "output_type": "display_data"
    },
    {
     "data": {
      "image/png": "[encoded data removed]",
      "text/plain": [
       "<Figure size 288x432 with 1 Axes>"
      ]
     },
     "metadata": {
      "needs_background": "light"
     },
     "output_type": "display_data"
    },
    {
     "data": {
      "image/png": "[encoded data removed]",
      "text/plain": [
       "<Figure size 288x432 with 1 Axes>"
      ]
     },
     "metadata": {
      "needs_background": "light"
     },
     "output_type": "display_data"
    }
   ],
   "source": [
    "for vbl_name in ['loan_type',\n",
    " 'market_segment_code',\n",
    "'hmc',\n",
    "'application_year',\n",
    "'application_month',\n",
    "'application_in_first_half_of_month',\n",
    "'loan_origination',\n",
    "'repeat_customer',\n",
    "'loan_default']:\n",
    " bargraph_with_labels(df, vbl_name, perc=True)\n",
    " plt.show()"
   ]
  },
  {
   "cell_type": "code",
   "execution_count": 38,
   "id": "2e797c6c",
   "metadata": {},
   "outputs": [
    {
     "data": {
      "image/png": "[encoded data removed]",
      "text/plain": [
       "<Figure size 360x432 with 1 Axes>"
      ]
     },
     "metadata": {
      "needs_background": "light"
     },
     "output_type": "display_data"
    }
   ],
   "source": [
    "bargraph_with_labels(df, 'loan_type', perc=True)\n",
    "plt.show()"
   ]
  },
  {
   "cell_type": "code",
   "execution_count": 39,
   "id": "e9ad98a2",
   "metadata": {},
   "outputs": [
    {
     "data": {
      "image/png": "[encoded data removed]",
      "text/plain": [
       "<Figure size 576x432 with 1 Axes>"
      ]
     },
     "metadata": {
      "needs_background": "light"
     },
     "output_type": "display_data"
    }
   ],
   "source": [
    "bargraph_with_labels(df, 'market_segment_code', perc=True)\n",
    "plt.show()"
   ]
  },
  {
   "cell_type": "code",
   "execution_count": 40,
   "id": "c9b2dcdb",
   "metadata": {},
   "outputs": [
    {
     "data": {
      "image/png": "[encoded data removed]",
      "text/plain": [
       "<Figure size 288x432 with 1 Axes>"
      ]
     },
     "metadata": {
      "needs_background": "light"
     },
     "output_type": "display_data"
    }
   ],
   "source": [
    "bargraph_with_labels(df, 'hmc', perc=True)\n",
    "plt.show()"
   ]
  },
  {
   "cell_type": "code",
   "execution_count": 41,
   "id": "19f5be3b",
   "metadata": {},
   "outputs": [
    {
     "data": {
      "image/png": "[encoded data removed]",
      "text/plain": [
       "<Figure size 360x432 with 1 Axes>"
      ]
     },
     "metadata": {
      "needs_background": "light"
     },
     "output_type": "display_data"
    }
   ],
   "source": [
    "bargraph_with_labels(df, 'application_year', perc=True)\n",
    "plt.show()"
   ]
  },
  {
   "cell_type": "code",
   "execution_count": 42,
   "id": "68d09910",
   "metadata": {},
   "outputs": [
    {
     "data": {
      "image/png": "[encoded data removed]",
      "text/plain": [
       "<Figure size 1008x432 with 1 Axes>"
      ]
     },
     "metadata": {
      "needs_background": "light"
     },
     "output_type": "display_data"
    }
   ],
   "source": [
    "bargraph_with_labels(df, 'application_month', perc=True)\n",
    "plt.show()"
   ]
  },
  {
   "cell_type": "code",
   "execution_count": 43,
   "id": "d068704d",
   "metadata": {},
   "outputs": [
    {
     "data": {
      "image/png": "[encoded data removed]",
      "text/plain": [
       "<Figure size 288x432 with 1 Axes>"
      ]
     },
     "metadata": {
      "needs_background": "light"
     },
     "output_type": "display_data"
    }
   ],
   "source": [
    "bargraph_with_labels(df, 'application_in_first_half_of_month', perc=True)\n",
    "plt.show()"
   ]
  },
  {
   "cell_type": "code",
   "execution_count": 44,
   "id": "2c48dff1",
   "metadata": {},
   "outputs": [
    {
     "data": {
      "image/png": "[encoded data removed]",
      "text/plain": [
       "<Figure size 360x432 with 1 Axes>"
      ]
     },
     "metadata": {
      "needs_background": "light"
     },
     "output_type": "display_data"
    }
   ],
   "source": [
    "bargraph_with_labels(df, 'loan_origination', perc=True)\n",
    "plt.show()"
   ]
  },
  {
   "cell_type": "code",
   "execution_count": 45,
   "id": "0ba48ccb",
   "metadata": {},
   "outputs": [
    {
     "data": {
      "image/png": "[encoded data removed]",
      "text/plain": [
       "<Figure size 288x432 with 1 Axes>"
      ]
     },
     "metadata": {
      "needs_background": "light"
     },
     "output_type": "display_data"
    }
   ],
   "source": [
    "bargraph_with_labels(df, 'repeat_customer', perc=True)\n",
    "plt.show()"
   ]
  },
  {
   "cell_type": "code",
   "execution_count": null,
   "id": "1d683473",
   "metadata": {},
   "outputs": [],
   "source": []
  }
 ],
 "metadata": {
  "kernelspec": {
   "display_name": "Python 3 (ipykernel)",
   "language": "python",
   "name": "python3"
  },
  "language_info": {
   "codemirror_mode": {
    "name": "ipython",
    "version": 3
   },
   "file_extension": ".py",
   "mimetype": "text/x-python",
   "name": "python",
   "nbconvert_exporter": "python",
   "pygments_lexer": "ipython3",
   "version": "3.9.12"
  }
 },
 "nbformat": 4,
 "nbformat_minor": 5
}
