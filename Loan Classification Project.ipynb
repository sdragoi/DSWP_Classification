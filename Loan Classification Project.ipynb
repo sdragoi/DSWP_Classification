{
 "cells": [
  {
   "cell_type": "markdown",
   "id": "7edf2141",
   "metadata": {},
   "source": [
    "<div>\n",
    "    <div style=\"text-align: right;\"><span style=\"font-size: 24px;\"><strong>Stephanie Dragoi, Steven Xu</strong></span></div> <br>\n",
    "    <div style=\"text-align: right;\"><span style=\"font-size: 24px;\"><strong>Due 20231130 THU </strong></span></div> <br>\n",
    "</div>\n"
   ]
  },
  {
   "cell_type": "markdown",
   "id": "403f56f8",
   "metadata": {},
   "source": [
    "<div style=\"text-align: center;\">\n",
    "\n",
    "# Project 3: Logistic Regression Classifier\n",
    "\n",
    "</div>"
   ]
  },
  {
   "cell_type": "code",
   "execution_count": 209,
   "id": "3cc2346f",
   "metadata": {},
   "outputs": [],
   "source": [
    "# import necessary libraries\n",
    "\n",
    "import numpy as np\n",
    "import pandas as pd\n",
    "import matplotlib.pyplot as plt\n",
    "import seaborn as sns\n",
    "import statsmodels.api as sm\n",
    "from statsmodels.tools.tools import add_constant\n",
    "from statsmodels.stats.outliers_influence import variance_inflation_factor\n",
    "from sklearn.model_selection import train_test_split\n",
    "from sklearn.linear_model import LogisticRegression\n",
    "from sklearn.metrics import (\n",
    " accuracy_score,\n",
    " recall_score,\n",
    " precision_score,\n",
    " f1_score,\n",
    " confusion_matrix,\n",
    ")"
   ]
  },
  {
   "cell_type": "markdown",
   "id": "4a85fbc5",
   "metadata": {},
   "source": [
    "# Step 1: Create the dataframe"
   ]
  },
  {
   "cell_type": "code",
   "execution_count": 210,
   "id": "28d45238",
   "metadata": {
    "scrolled": false
   },
   "outputs": [
    {
     "data": {
      "text/html": [
       "<div>\n",
       "<style scoped>\n",
       "    .dataframe tbody tr th:only-of-type {\n",
       "        vertical-align: middle;\n",
       "    }\n",
       "\n",
       "    .dataframe tbody tr th {\n",
       "        vertical-align: top;\n",
       "    }\n",
       "\n",
       "    .dataframe thead th {\n",
       "        text-align: right;\n",
       "    }\n",
       "</style>\n",
       "<table border=\"1\" class=\"dataframe\">\n",
       "  <thead>\n",
       "    <tr style=\"text-align: right;\">\n",
       "      <th></th>\n",
       "      <th>loan_type</th>\n",
       "      <th>loan_amount_index</th>\n",
       "      <th>previous_defaults</th>\n",
       "      <th>previous_nondefaults</th>\n",
       "      <th>previous_loan_count</th>\n",
       "      <th>cars_in_household</th>\n",
       "      <th>other_vehicles_owned</th>\n",
       "      <th>adults_in_household</th>\n",
       "      <th>children_in_household</th>\n",
       "      <th>market_segment_code</th>\n",
       "      <th>issues_needing_resolution</th>\n",
       "      <th>hmc</th>\n",
       "      <th>application_year</th>\n",
       "      <th>application_month</th>\n",
       "      <th>application_in_first_half_of_month</th>\n",
       "      <th>loan_origination</th>\n",
       "      <th>repeat_customer</th>\n",
       "      <th>mystery_field</th>\n",
       "      <th>loan_default</th>\n",
       "    </tr>\n",
       "  </thead>\n",
       "  <tbody>\n",
       "    <tr>\n",
       "      <th>0</th>\n",
       "      <td>auto</td>\n",
       "      <td>134</td>\n",
       "      <td>0</td>\n",
       "      <td>0</td>\n",
       "      <td>0</td>\n",
       "      <td>1</td>\n",
       "      <td>3</td>\n",
       "      <td>3</td>\n",
       "      <td>0</td>\n",
       "      <td>ms498</td>\n",
       "      <td>0</td>\n",
       "      <td>0</td>\n",
       "      <td>2022</td>\n",
       "      <td>2</td>\n",
       "      <td>0</td>\n",
       "      <td>website</td>\n",
       "      <td>0</td>\n",
       "      <td>32</td>\n",
       "      <td>0</td>\n",
       "    </tr>\n",
       "    <tr>\n",
       "      <th>1</th>\n",
       "      <td>auto</td>\n",
       "      <td>118</td>\n",
       "      <td>0</td>\n",
       "      <td>0</td>\n",
       "      <td>0</td>\n",
       "      <td>0</td>\n",
       "      <td>1</td>\n",
       "      <td>2</td>\n",
       "      <td>1</td>\n",
       "      <td>ms818</td>\n",
       "      <td>2</td>\n",
       "      <td>0</td>\n",
       "      <td>2022</td>\n",
       "      <td>2</td>\n",
       "      <td>0</td>\n",
       "      <td>website</td>\n",
       "      <td>0</td>\n",
       "      <td>15</td>\n",
       "      <td>0</td>\n",
       "    </tr>\n",
       "    <tr>\n",
       "      <th>2</th>\n",
       "      <td>other</td>\n",
       "      <td>86</td>\n",
       "      <td>0</td>\n",
       "      <td>0</td>\n",
       "      <td>0</td>\n",
       "      <td>0</td>\n",
       "      <td>3</td>\n",
       "      <td>1</td>\n",
       "      <td>0</td>\n",
       "      <td>ms818</td>\n",
       "      <td>1</td>\n",
       "      <td>0</td>\n",
       "      <td>2021</td>\n",
       "      <td>3</td>\n",
       "      <td>1</td>\n",
       "      <td>website</td>\n",
       "      <td>0</td>\n",
       "      <td>121</td>\n",
       "      <td>0</td>\n",
       "    </tr>\n",
       "    <tr>\n",
       "      <th>3</th>\n",
       "      <td>auto</td>\n",
       "      <td>131</td>\n",
       "      <td>0</td>\n",
       "      <td>0</td>\n",
       "      <td>0</td>\n",
       "      <td>2</td>\n",
       "      <td>1</td>\n",
       "      <td>2</td>\n",
       "      <td>1</td>\n",
       "      <td>ms818</td>\n",
       "      <td>1</td>\n",
       "      <td>0</td>\n",
       "      <td>2021</td>\n",
       "      <td>12</td>\n",
       "      <td>1</td>\n",
       "      <td>website</td>\n",
       "      <td>0</td>\n",
       "      <td>171</td>\n",
       "      <td>1</td>\n",
       "    </tr>\n",
       "    <tr>\n",
       "      <th>4</th>\n",
       "      <td>auto</td>\n",
       "      <td>145</td>\n",
       "      <td>0</td>\n",
       "      <td>0</td>\n",
       "      <td>0</td>\n",
       "      <td>2</td>\n",
       "      <td>4</td>\n",
       "      <td>3</td>\n",
       "      <td>0</td>\n",
       "      <td>ms818</td>\n",
       "      <td>0</td>\n",
       "      <td>0</td>\n",
       "      <td>2022</td>\n",
       "      <td>7</td>\n",
       "      <td>0</td>\n",
       "      <td>website</td>\n",
       "      <td>0</td>\n",
       "      <td>209</td>\n",
       "      <td>1</td>\n",
       "    </tr>\n",
       "    <tr>\n",
       "      <th>...</th>\n",
       "      <td>...</td>\n",
       "      <td>...</td>\n",
       "      <td>...</td>\n",
       "      <td>...</td>\n",
       "      <td>...</td>\n",
       "      <td>...</td>\n",
       "      <td>...</td>\n",
       "      <td>...</td>\n",
       "      <td>...</td>\n",
       "      <td>...</td>\n",
       "      <td>...</td>\n",
       "      <td>...</td>\n",
       "      <td>...</td>\n",
       "      <td>...</td>\n",
       "      <td>...</td>\n",
       "      <td>...</td>\n",
       "      <td>...</td>\n",
       "      <td>...</td>\n",
       "      <td>...</td>\n",
       "    </tr>\n",
       "    <tr>\n",
       "      <th>42197</th>\n",
       "      <td>auto</td>\n",
       "      <td>88</td>\n",
       "      <td>0</td>\n",
       "      <td>0</td>\n",
       "      <td>0</td>\n",
       "      <td>4</td>\n",
       "      <td>5</td>\n",
       "      <td>2</td>\n",
       "      <td>0</td>\n",
       "      <td>ms818</td>\n",
       "      <td>2</td>\n",
       "      <td>0</td>\n",
       "      <td>2021</td>\n",
       "      <td>4</td>\n",
       "      <td>0</td>\n",
       "      <td>website</td>\n",
       "      <td>0</td>\n",
       "      <td>80</td>\n",
       "      <td>0</td>\n",
       "    </tr>\n",
       "    <tr>\n",
       "      <th>42198</th>\n",
       "      <td>auto</td>\n",
       "      <td>160</td>\n",
       "      <td>0</td>\n",
       "      <td>0</td>\n",
       "      <td>0</td>\n",
       "      <td>0</td>\n",
       "      <td>3</td>\n",
       "      <td>2</td>\n",
       "      <td>1</td>\n",
       "      <td>ms818</td>\n",
       "      <td>2</td>\n",
       "      <td>0</td>\n",
       "      <td>2022</td>\n",
       "      <td>6</td>\n",
       "      <td>1</td>\n",
       "      <td>website</td>\n",
       "      <td>0</td>\n",
       "      <td>57</td>\n",
       "      <td>0</td>\n",
       "    </tr>\n",
       "    <tr>\n",
       "      <th>42199</th>\n",
       "      <td>auto</td>\n",
       "      <td>94</td>\n",
       "      <td>0</td>\n",
       "      <td>0</td>\n",
       "      <td>0</td>\n",
       "      <td>1</td>\n",
       "      <td>4</td>\n",
       "      <td>2</td>\n",
       "      <td>0</td>\n",
       "      <td>ms818</td>\n",
       "      <td>1</td>\n",
       "      <td>0</td>\n",
       "      <td>2021</td>\n",
       "      <td>10</td>\n",
       "      <td>1</td>\n",
       "      <td>website</td>\n",
       "      <td>0</td>\n",
       "      <td>28</td>\n",
       "      <td>0</td>\n",
       "    </tr>\n",
       "    <tr>\n",
       "      <th>42200</th>\n",
       "      <td>auto</td>\n",
       "      <td>184</td>\n",
       "      <td>0</td>\n",
       "      <td>0</td>\n",
       "      <td>0</td>\n",
       "      <td>1</td>\n",
       "      <td>2</td>\n",
       "      <td>3</td>\n",
       "      <td>0</td>\n",
       "      <td>ms604</td>\n",
       "      <td>1</td>\n",
       "      <td>0</td>\n",
       "      <td>2021</td>\n",
       "      <td>1</td>\n",
       "      <td>0</td>\n",
       "      <td>website</td>\n",
       "      <td>0</td>\n",
       "      <td>47</td>\n",
       "      <td>0</td>\n",
       "    </tr>\n",
       "    <tr>\n",
       "      <th>42201</th>\n",
       "      <td>auto</td>\n",
       "      <td>81</td>\n",
       "      <td>0</td>\n",
       "      <td>0</td>\n",
       "      <td>0</td>\n",
       "      <td>1</td>\n",
       "      <td>3</td>\n",
       "      <td>2</td>\n",
       "      <td>0</td>\n",
       "      <td>ms818</td>\n",
       "      <td>1</td>\n",
       "      <td>0</td>\n",
       "      <td>2021</td>\n",
       "      <td>1</td>\n",
       "      <td>1</td>\n",
       "      <td>bank branch</td>\n",
       "      <td>0</td>\n",
       "      <td>242</td>\n",
       "      <td>0</td>\n",
       "    </tr>\n",
       "  </tbody>\n",
       "</table>\n",
       "<p>42202 rows × 19 columns</p>\n",
       "</div>"
      ],
      "text/plain": [
       "      loan_type  loan_amount_index  previous_defaults  previous_nondefaults  \\\n",
       "0          auto                134                  0                     0   \n",
       "1          auto                118                  0                     0   \n",
       "2         other                 86                  0                     0   \n",
       "3          auto                131                  0                     0   \n",
       "4          auto                145                  0                     0   \n",
       "...         ...                ...                ...                   ...   \n",
       "42197      auto                 88                  0                     0   \n",
       "42198      auto                160                  0                     0   \n",
       "42199      auto                 94                  0                     0   \n",
       "42200      auto                184                  0                     0   \n",
       "42201      auto                 81                  0                     0   \n",
       "\n",
       "       previous_loan_count  cars_in_household  other_vehicles_owned  \\\n",
       "0                        0                  1                     3   \n",
       "1                        0                  0                     1   \n",
       "2                        0                  0                     3   \n",
       "3                        0                  2                     1   \n",
       "4                        0                  2                     4   \n",
       "...                    ...                ...                   ...   \n",
       "42197                    0                  4                     5   \n",
       "42198                    0                  0                     3   \n",
       "42199                    0                  1                     4   \n",
       "42200                    0                  1                     2   \n",
       "42201                    0                  1                     3   \n",
       "\n",
       "       adults_in_household  children_in_household market_segment_code  \\\n",
       "0                        3                      0               ms498   \n",
       "1                        2                      1               ms818   \n",
       "2                        1                      0               ms818   \n",
       "3                        2                      1               ms818   \n",
       "4                        3                      0               ms818   \n",
       "...                    ...                    ...                 ...   \n",
       "42197                    2                      0               ms818   \n",
       "42198                    2                      1               ms818   \n",
       "42199                    2                      0               ms818   \n",
       "42200                    3                      0               ms604   \n",
       "42201                    2                      0               ms818   \n",
       "\n",
       "       issues_needing_resolution  hmc  application_year  application_month  \\\n",
       "0                              0    0              2022                  2   \n",
       "1                              2    0              2022                  2   \n",
       "2                              1    0              2021                  3   \n",
       "3                              1    0              2021                 12   \n",
       "4                              0    0              2022                  7   \n",
       "...                          ...  ...               ...                ...   \n",
       "42197                          2    0              2021                  4   \n",
       "42198                          2    0              2022                  6   \n",
       "42199                          1    0              2021                 10   \n",
       "42200                          1    0              2021                  1   \n",
       "42201                          1    0              2021                  1   \n",
       "\n",
       "       application_in_first_half_of_month loan_origination  repeat_customer  \\\n",
       "0                                       0          website                0   \n",
       "1                                       0          website                0   \n",
       "2                                       1          website                0   \n",
       "3                                       1          website                0   \n",
       "4                                       0          website                0   \n",
       "...                                   ...              ...              ...   \n",
       "42197                                   0          website                0   \n",
       "42198                                   1          website                0   \n",
       "42199                                   1          website                0   \n",
       "42200                                   0          website                0   \n",
       "42201                                   1      bank branch                0   \n",
       "\n",
       "       mystery_field  loan_default  \n",
       "0                 32             0  \n",
       "1                 15             0  \n",
       "2                121             0  \n",
       "3                171             1  \n",
       "4                209             1  \n",
       "...              ...           ...  \n",
       "42197             80             0  \n",
       "42198             57             0  \n",
       "42199             28             0  \n",
       "42200             47             0  \n",
       "42201            242             0  \n",
       "\n",
       "[42202 rows x 19 columns]"
      ]
     },
     "execution_count": 210,
     "metadata": {},
     "output_type": "execute_result"
    }
   ],
   "source": [
    "df = pd.read_csv(\"loan_database.csv\")\n",
    "df"
   ]
  },
  {
   "cell_type": "markdown",
   "id": "f2d1970c",
   "metadata": {},
   "source": [
    "# Step 2: Understand the context"
   ]
  },
  {
   "cell_type": "markdown",
   "id": "4606d782",
   "metadata": {},
   "source": [
    "Our team is made up of data scentists for the consumer loan division of HansenBank. The objective of this project is to build a predictive logistic regression model that is useful for classifying loans as \"not default\" or \"default\". We also hope to accomplish four subtasks in support of this objective:\n",
    "* To analyze the data provided\n",
    "* To find which factors have a good ability to predict loan default\n",
    "* To build a predictive model that can predict which loans are likely to go into default\n",
    "* To suggest profitable policies for determining loan approval criteria.\n",
    "\n",
    "We wish to predict whether loan applications are likely to result in performing or nonperforming loans in order to maximize profitability. Approving performing loans will allow HansenBank to make a profit, since the customer will make payments on time and pay an interest rate that is higher than the rate the bank itself has to pay to acquire the money for the loan. Avoiding nonperforming loans will prevent the bank from losing money. Customers who don't make payments on time or default on the loan altogether will force the bank to use time and money to pressure the customer and to recover collateral.\n",
    "\n",
    "Given the null hypothesis of \"situation normal/performing loan\" in the context of this project, a Type I error occurs if the bank incorrectly rejects the null hypothesis even though the loan would have become performing. A Type II error occurs if the bank fails to reject the null hypothesis and approves the loan even though the loan will ultimately become nonperforming. We conclude that though Type I and Type II error are similar in the net loss they may incur, Type II errors are marginally worse. Type I errors would result in a loss of money due to the cost of defending against a lawsuit, which certainly would not occur in all cases of such errors. We do not consider failure to earn money that could have hypothetically been earned in the absence of such an error as a loss. Type II errors, however, always carry with them the cost of losing the loan and recovering collateral. \n",
    "\n",
    "Based on our decision that both types of errors are equally severe, we will most likely emphasize accuracy and recall as performance metrics, but will also consider the F1 statistic. Accuracy will measure the overall correctness of the model, recall will measure the model's performance on predicting the positive class, and F1 will recognize the tradeoff between recall and precision, or of avoiding Type II or Type I errors."
   ]
  },
  {
   "cell_type": "markdown",
   "id": "f86e4fd5",
   "metadata": {},
   "source": [
    "We have just described the context, objectives, significance, and rough roadmap for this project."
   ]
  },
  {
   "cell_type": "markdown",
   "id": "9e6a7d4d",
   "metadata": {},
   "source": [
    "# Step 3: Data dictionary"
   ]
  },
  {
   "cell_type": "markdown",
   "id": "e71a1688",
   "metadata": {},
   "source": [
    "* <b>loan_type</b>: auto, residential, or other\n",
    "* <b>loan_amount_index</b>: 100 = national median for loan type, other quantities prorated\n",
    "accordingly\n",
    "* <b>previous_defaults</b>: number of times this customer has previously defaulted\n",
    "* <b>previous_nondefaults</b>: number of times this customer has previously held a performing\n",
    "loan (possibly still in progress)\n",
    "* <b>previous_loan_count</b>: number of previous loans issued to this customer\n",
    "* <b>cars_in_household</b>: number of passenger vehicles in customer's household\n",
    "* <b>other_vehicles_owned</b>: number of other vehicles (boats, motorcycles, etc.) titled to the\n",
    "customer\n",
    "* <b>adults_in_household</b>: number of adults age 18+ in customer's household\n",
    "* <b>children_in_household</b>: number of children under age 18 in customer's household\n",
    "* <b>market_segment_code</b>: proprietary code for customer's market segment\n",
    "* <b>issues_needing_resolution</b>: number of paperwork issues requiring special attention on\n",
    "the application\n",
    "* <b>hmc</b>: 1 = high maintenance customer, 0 = normal customer with no special handling needed\n",
    "* <b>application_year</b>: YYYY format\n",
    "* <b>application_month</b>: 1 (January) through 12 (December)\n",
    "* <b>application_in_first_half_of_month</b>: 1 = application filed on day 1-15 of month, 0 =\n",
    "filed any other day of month\n",
    "* <b>loan_origination</b>: website, bank branch, or other\n",
    "* <b>repeat_customer</b>: 1 = customer has previously been a loan customer, 0 = no previous loan\n",
    "* <b>mystery_field</b>: no information\n",
    "* <b>loan_default</b>: 1 = this loan ended in default, 0 = performing loan (either paid off or\n",
    "in progress)"
   ]
  },
  {
   "cell_type": "markdown",
   "id": "a37dcbe1",
   "metadata": {},
   "source": [
    "We have just created a data dictionary to allow anyone who reads this notebook to understand the meaning of each field."
   ]
  },
  {
   "cell_type": "markdown",
   "id": "b76a7619",
   "metadata": {},
   "source": [
    "# Step 4: Useful Python functions"
   ]
  },
  {
   "cell_type": "code",
   "execution_count": 211,
   "id": "0c470a7d",
   "metadata": {},
   "outputs": [],
   "source": [
    "# Custom code written 20210625 FRI by E. M. Hansen\n",
    "# This code is a modified and simplified version of the\n",
    "# histogram_boxplot custom function written by someone else.\n",
    "\n",
    "def boxpl_and_hist(data_series): # Display a boxplot above a histogram.\n",
    "# (NOTE: this code is a modified\n",
    "# version of the histogram_boxplot\n",
    "# custom function written by someone\n",
    "# else.)\n",
    " scratch_vbl, (box1, hist1) = plt.subplots(nrows=2, # Set up combined plot with 2 rows.\n",
    " figsize=(16,8),\n",
    "sharex=True, # Both plots should use same x-axis.\n",
    "gridspec_kw = {\"height_ratios\": (.1, .9)})\n",
    " # Note: scratch_vbl must be present for code to work. Not sure\n",
    "# what its purpose is, since the variable is never needed or\n",
    "# used again.\n",
    " sns.boxplot(x=data_series, ax=box1, showmeans=True, color='cyan') # triangle for mean\n",
    " sns.histplot(x=data_series, ax=hist1, kde=False, color='cyan') # histplot, not distplot\n",
    " hist1.axvline(np.mean(data_series), color='green', linestyle='--') # mean (dotted)\n",
    " hist1.axvline(np.median(data_series), color='magenta', linestyle='-') # median (solid)\n",
    " plt.show() # Display both plots."
   ]
  },
  {
   "cell_type": "code",
   "execution_count": 212,
   "id": "b9d3a760",
   "metadata": {},
   "outputs": [],
   "source": [
    "# Function to return a dataframe showing the VIF for each explanatory variable:\n",
    "# Note that the explanatory variables are in a dataframe called Xdataframe.\n",
    "\n",
    "def calculate_vif(Xdataframe):\n",
    " temp_df = pd.DataFrame()\n",
    " temp_df[\"column name\"] = Xdataframe.columns\n",
    " temp_df[\"VIF\"] = [variance_inflation_factor(Xdataframe.values, k)\n",
    " for k in range(len(Xdataframe.columns))]\n",
    " return temp_df"
   ]
  },
  {
   "cell_type": "code",
   "execution_count": 213,
   "id": "76ca38e9",
   "metadata": {},
   "outputs": [],
   "source": [
    "def confusion_matrix_statsmodels(model, predictors, target, threshold=0.5):\n",
    " y_pred = model.predict(predictors) > threshold\n",
    " cm = confusion_matrix(target, y_pred)\n",
    " labels = np.asarray(\n",
    " [\n",
    " [\"{0:0.0f}\".format(item) + \"\\n{0:.2%}\".format(item / cm.flatten().sum())]\n",
    " for item in cm.flatten()\n",
    " ]\n",
    " ).reshape(2, 2)\n",
    " plt.figure(figsize=(6, 4))\n",
    " sns.heatmap(cm, annot=labels, fmt=\"\")\n",
    " plt.ylabel(\"True value of target\")\n",
    " plt.xlabel(\"Predicted value of target\")"
   ]
  },
  {
   "cell_type": "code",
   "execution_count": 214,
   "id": "b7f98a1b",
   "metadata": {},
   "outputs": [],
   "source": [
    "def model_performance_classification_statsmodels(model, predictors, target, threshold=0.5):\n",
    " # checking which probabilities are greater than threshold\n",
    " pred_temp = model.predict(predictors) > threshold\n",
    " # rounding off the above values to get classes\n",
    " pred = np.round(pred_temp)\n",
    " acc = accuracy_score(target, pred) # compute Accuracy\n",
    " recall = recall_score(target, pred) # compute Recall\n",
    " precision = precision_score(target, pred) # compute Precision\n",
    " f1 = f1_score(target, pred) # compute F1\n",
    " # creating a dataframe of metrics\n",
    " df_perf = pd.DataFrame(\n",
    " {\"Accuracy\": acc, \"Recall\": recall, \"Precision\": precision, \"F1\": f1,}, index=[0])\n",
    " return df_perf"
   ]
  },
  {
   "cell_type": "code",
   "execution_count": 215,
   "id": "faf7118e",
   "metadata": {},
   "outputs": [],
   "source": [
    "def bargraph_with_labels(data, feature, perc=False, n=None): # author unknown\n",
    " # data = placeholder for dataframe (df)\n",
    "# feature = column to graph\n",
    "# perc = display %s instead of counts\n",
    "# n = number of category levels to show\n",
    " total = len(data[feature])\n",
    " count = data[feature].nunique()\n",
    " if n is None:\n",
    "     plt.figure(figsize=(count + 2, 6))\n",
    " else:\n",
    "     plt.figure(figsize=(n + 2, 6))\n",
    " plt.xticks(rotation=90, fontsize=12)\n",
    " ax = sns.countplot(\n",
    " data=data,\n",
    " x=feature,\n",
    " palette=\"Paired\",\n",
    " order=data[feature].value_counts().index[:n].sort_values(),\n",
    " )\n",
    " for p in ax.patches:\n",
    "     if perc == True:\n",
    "         label = \"{:.1f}%\".format(\n",
    "         100 * p.get_height() / total\n",
    "         )\n",
    "     else:\n",
    "         label = p.get_height()\n",
    "     x = p.get_x() + p.get_width() / 2 # width of plot\n",
    "     y = p.get_height() # height of plot\n",
    "     ax.annotate(\n",
    "     label,\n",
    "     (x, y),\n",
    "     ha=\"center\",\n",
    "     va=\"center\",\n",
    "     size=12,\n",
    "     xytext=(0, 5),\n",
    "     textcoords=\"offset points\",\n",
    "     )\n",
    " plt.show()"
   ]
  },
  {
   "cell_type": "code",
   "execution_count": 216,
   "id": "21a143b9",
   "metadata": {},
   "outputs": [],
   "source": [
    "def plot_categorical_vs_target(data, feature, target_vbl_name):\n",
    " x,y = feature, target_vbl_name\n",
    " for feature in [data]:\n",
    "        (feature\n",
    " .groupby(x)[y]\n",
    " .value_counts(normalize=True)\n",
    " .mul(100)\n",
    " .rename('percent')\n",
    " .reset_index()\n",
    " .pipe((sns.catplot,'data'), x=x,y='percent',hue=y,kind='bar'))\n",
    " plt.show()\n"
   ]
  },
  {
   "cell_type": "code",
   "execution_count": 217,
   "id": "52d713a6",
   "metadata": {},
   "outputs": [],
   "source": [
    "def boxplots_vs_target(data, feature, target_vbl_name):\n",
    " figsize=(12, 10)\n",
    " sns.boxplot(data=data, x=target_vbl_name, y=feature, palette=\"gist_rainbow\")\n",
    " plt.show()"
   ]
  },
  {
   "cell_type": "markdown",
   "id": "eb97d2de",
   "metadata": {},
   "source": [
    "We have just defined some useful Python functions."
   ]
  },
  {
   "cell_type": "markdown",
   "id": "56955f85",
   "metadata": {},
   "source": [
    "# Step 5: Drop duplicate rows"
   ]
  },
  {
   "cell_type": "code",
   "execution_count": 218,
   "id": "c28355b0",
   "metadata": {},
   "outputs": [
    {
     "data": {
      "text/plain": [
       "loan_type                             1947\n",
       "loan_amount_index                     1947\n",
       "previous_defaults                     1947\n",
       "previous_nondefaults                  1947\n",
       "previous_loan_count                   1947\n",
       "cars_in_household                     1947\n",
       "other_vehicles_owned                  1947\n",
       "adults_in_household                   1947\n",
       "children_in_household                 1947\n",
       "market_segment_code                   1947\n",
       "issues_needing_resolution             1947\n",
       "hmc                                   1947\n",
       "application_year                      1947\n",
       "application_month                     1947\n",
       "application_in_first_half_of_month    1947\n",
       "loan_origination                      1947\n",
       "repeat_customer                       1947\n",
       "mystery_field                         1947\n",
       "loan_default                          1947\n",
       "dtype: int64"
      ]
     },
     "execution_count": 218,
     "metadata": {},
     "output_type": "execute_result"
    }
   ],
   "source": [
    "df[df.duplicated()].count()"
   ]
  },
  {
   "cell_type": "code",
   "execution_count": 219,
   "id": "f022b984",
   "metadata": {},
   "outputs": [
    {
     "data": {
      "text/plain": [
       "40255"
      ]
     },
     "execution_count": 219,
     "metadata": {},
     "output_type": "execute_result"
    }
   ],
   "source": [
    "df.drop_duplicates(inplace=True)\n",
    "df.shape[0]"
   ]
  },
  {
   "cell_type": "markdown",
   "id": "4fa52174",
   "metadata": {},
   "source": [
    "We have just dropped any duplicate rows. Since 1,947 subtracted from the original number of rows, 42,202, equals 40,255, the counts are correct."
   ]
  },
  {
   "cell_type": "markdown",
   "id": "811f1163",
   "metadata": {},
   "source": [
    "# Step 6: Look for missing values"
   ]
  },
  {
   "cell_type": "code",
   "execution_count": 220,
   "id": "7b68a8c5",
   "metadata": {},
   "outputs": [
    {
     "data": {
      "text/plain": [
       "loan_type                             0\n",
       "loan_amount_index                     0\n",
       "previous_defaults                     0\n",
       "previous_nondefaults                  0\n",
       "previous_loan_count                   0\n",
       "cars_in_household                     0\n",
       "other_vehicles_owned                  0\n",
       "adults_in_household                   0\n",
       "children_in_household                 0\n",
       "market_segment_code                   0\n",
       "issues_needing_resolution             0\n",
       "hmc                                   0\n",
       "application_year                      0\n",
       "application_month                     0\n",
       "application_in_first_half_of_month    0\n",
       "loan_origination                      0\n",
       "repeat_customer                       0\n",
       "mystery_field                         0\n",
       "loan_default                          0\n",
       "dtype: int64"
      ]
     },
     "execution_count": 220,
     "metadata": {},
     "output_type": "execute_result"
    }
   ],
   "source": [
    "df.isnull().sum()"
   ]
  },
  {
   "cell_type": "markdown",
   "id": "11a2241a",
   "metadata": {},
   "source": [
    "We have checked for any missing or null values. Since the sums are all 0, there are no missing values."
   ]
  },
  {
   "cell_type": "markdown",
   "id": "2d9fe265",
   "metadata": {},
   "source": [
    "# Step 7: Display summary statistics"
   ]
  },
  {
   "cell_type": "code",
   "execution_count": 221,
   "id": "26edcb71",
   "metadata": {},
   "outputs": [
    {
     "data": {
      "text/html": [
       "<div>\n",
       "<style scoped>\n",
       "    .dataframe tbody tr th:only-of-type {\n",
       "        vertical-align: middle;\n",
       "    }\n",
       "\n",
       "    .dataframe tbody tr th {\n",
       "        vertical-align: top;\n",
       "    }\n",
       "\n",
       "    .dataframe thead th {\n",
       "        text-align: right;\n",
       "    }\n",
       "</style>\n",
       "<table border=\"1\" class=\"dataframe\">\n",
       "  <thead>\n",
       "    <tr style=\"text-align: right;\">\n",
       "      <th></th>\n",
       "      <th>count</th>\n",
       "      <th>mean</th>\n",
       "      <th>std</th>\n",
       "      <th>min</th>\n",
       "      <th>25%</th>\n",
       "      <th>50%</th>\n",
       "      <th>75%</th>\n",
       "      <th>max</th>\n",
       "    </tr>\n",
       "  </thead>\n",
       "  <tbody>\n",
       "    <tr>\n",
       "      <th>loan_amount_index</th>\n",
       "      <td>40255.0</td>\n",
       "      <td>106.992001</td>\n",
       "      <td>38.746823</td>\n",
       "      <td>0.0</td>\n",
       "      <td>81.0</td>\n",
       "      <td>100.0</td>\n",
       "      <td>128.0</td>\n",
       "      <td>376.0</td>\n",
       "    </tr>\n",
       "    <tr>\n",
       "      <th>previous_defaults</th>\n",
       "      <td>40255.0</td>\n",
       "      <td>0.027475</td>\n",
       "      <td>0.363116</td>\n",
       "      <td>0.0</td>\n",
       "      <td>0.0</td>\n",
       "      <td>0.0</td>\n",
       "      <td>0.0</td>\n",
       "      <td>11.0</td>\n",
       "    </tr>\n",
       "    <tr>\n",
       "      <th>previous_nondefaults</th>\n",
       "      <td>40255.0</td>\n",
       "      <td>0.235126</td>\n",
       "      <td>2.293531</td>\n",
       "      <td>0.0</td>\n",
       "      <td>0.0</td>\n",
       "      <td>0.0</td>\n",
       "      <td>0.0</td>\n",
       "      <td>72.0</td>\n",
       "    </tr>\n",
       "    <tr>\n",
       "      <th>previous_loan_count</th>\n",
       "      <td>40255.0</td>\n",
       "      <td>0.262601</td>\n",
       "      <td>2.523291</td>\n",
       "      <td>0.0</td>\n",
       "      <td>0.0</td>\n",
       "      <td>0.0</td>\n",
       "      <td>0.0</td>\n",
       "      <td>78.0</td>\n",
       "    </tr>\n",
       "    <tr>\n",
       "      <th>cars_in_household</th>\n",
       "      <td>40255.0</td>\n",
       "      <td>0.834157</td>\n",
       "      <td>0.861774</td>\n",
       "      <td>0.0</td>\n",
       "      <td>0.0</td>\n",
       "      <td>1.0</td>\n",
       "      <td>2.0</td>\n",
       "      <td>7.0</td>\n",
       "    </tr>\n",
       "    <tr>\n",
       "      <th>other_vehicles_owned</th>\n",
       "      <td>40255.0</td>\n",
       "      <td>2.200944</td>\n",
       "      <td>1.395875</td>\n",
       "      <td>0.0</td>\n",
       "      <td>1.0</td>\n",
       "      <td>2.0</td>\n",
       "      <td>3.0</td>\n",
       "      <td>17.0</td>\n",
       "    </tr>\n",
       "    <tr>\n",
       "      <th>adults_in_household</th>\n",
       "      <td>40255.0</td>\n",
       "      <td>1.861533</td>\n",
       "      <td>0.525784</td>\n",
       "      <td>0.0</td>\n",
       "      <td>2.0</td>\n",
       "      <td>2.0</td>\n",
       "      <td>2.0</td>\n",
       "      <td>4.0</td>\n",
       "    </tr>\n",
       "    <tr>\n",
       "      <th>children_in_household</th>\n",
       "      <td>40255.0</td>\n",
       "      <td>0.105651</td>\n",
       "      <td>0.395912</td>\n",
       "      <td>0.0</td>\n",
       "      <td>0.0</td>\n",
       "      <td>0.0</td>\n",
       "      <td>0.0</td>\n",
       "      <td>10.0</td>\n",
       "    </tr>\n",
       "    <tr>\n",
       "      <th>issues_needing_resolution</th>\n",
       "      <td>40255.0</td>\n",
       "      <td>0.779332</td>\n",
       "      <td>0.856337</td>\n",
       "      <td>0.0</td>\n",
       "      <td>0.0</td>\n",
       "      <td>1.0</td>\n",
       "      <td>1.0</td>\n",
       "      <td>5.0</td>\n",
       "    </tr>\n",
       "    <tr>\n",
       "      <th>hmc</th>\n",
       "      <td>40255.0</td>\n",
       "      <td>0.033809</td>\n",
       "      <td>0.180741</td>\n",
       "      <td>0.0</td>\n",
       "      <td>0.0</td>\n",
       "      <td>0.0</td>\n",
       "      <td>0.0</td>\n",
       "      <td>1.0</td>\n",
       "    </tr>\n",
       "    <tr>\n",
       "      <th>application_year</th>\n",
       "      <td>40255.0</td>\n",
       "      <td>2021.210980</td>\n",
       "      <td>0.653694</td>\n",
       "      <td>2020.0</td>\n",
       "      <td>2021.0</td>\n",
       "      <td>2021.0</td>\n",
       "      <td>2022.0</td>\n",
       "      <td>2022.0</td>\n",
       "    </tr>\n",
       "    <tr>\n",
       "      <th>application_month</th>\n",
       "      <td>40255.0</td>\n",
       "      <td>6.200348</td>\n",
       "      <td>3.248510</td>\n",
       "      <td>1.0</td>\n",
       "      <td>3.0</td>\n",
       "      <td>6.0</td>\n",
       "      <td>8.0</td>\n",
       "      <td>12.0</td>\n",
       "    </tr>\n",
       "    <tr>\n",
       "      <th>application_in_first_half_of_month</th>\n",
       "      <td>40255.0</td>\n",
       "      <td>0.495789</td>\n",
       "      <td>0.499988</td>\n",
       "      <td>0.0</td>\n",
       "      <td>0.0</td>\n",
       "      <td>0.0</td>\n",
       "      <td>1.0</td>\n",
       "      <td>1.0</td>\n",
       "    </tr>\n",
       "    <tr>\n",
       "      <th>repeat_customer</th>\n",
       "      <td>40255.0</td>\n",
       "      <td>0.034083</td>\n",
       "      <td>0.181444</td>\n",
       "      <td>0.0</td>\n",
       "      <td>0.0</td>\n",
       "      <td>0.0</td>\n",
       "      <td>0.0</td>\n",
       "      <td>1.0</td>\n",
       "    </tr>\n",
       "    <tr>\n",
       "      <th>mystery_field</th>\n",
       "      <td>40255.0</td>\n",
       "      <td>85.447895</td>\n",
       "      <td>78.952562</td>\n",
       "      <td>0.0</td>\n",
       "      <td>26.0</td>\n",
       "      <td>60.0</td>\n",
       "      <td>121.0</td>\n",
       "      <td>543.0</td>\n",
       "    </tr>\n",
       "    <tr>\n",
       "      <th>loan_default</th>\n",
       "      <td>40255.0</td>\n",
       "      <td>0.163185</td>\n",
       "      <td>0.369539</td>\n",
       "      <td>0.0</td>\n",
       "      <td>0.0</td>\n",
       "      <td>0.0</td>\n",
       "      <td>0.0</td>\n",
       "      <td>1.0</td>\n",
       "    </tr>\n",
       "  </tbody>\n",
       "</table>\n",
       "</div>"
      ],
      "text/plain": [
       "                                      count         mean        std     min  \\\n",
       "loan_amount_index                   40255.0   106.992001  38.746823     0.0   \n",
       "previous_defaults                   40255.0     0.027475   0.363116     0.0   \n",
       "previous_nondefaults                40255.0     0.235126   2.293531     0.0   \n",
       "previous_loan_count                 40255.0     0.262601   2.523291     0.0   \n",
       "cars_in_household                   40255.0     0.834157   0.861774     0.0   \n",
       "other_vehicles_owned                40255.0     2.200944   1.395875     0.0   \n",
       "adults_in_household                 40255.0     1.861533   0.525784     0.0   \n",
       "children_in_household               40255.0     0.105651   0.395912     0.0   \n",
       "issues_needing_resolution           40255.0     0.779332   0.856337     0.0   \n",
       "hmc                                 40255.0     0.033809   0.180741     0.0   \n",
       "application_year                    40255.0  2021.210980   0.653694  2020.0   \n",
       "application_month                   40255.0     6.200348   3.248510     1.0   \n",
       "application_in_first_half_of_month  40255.0     0.495789   0.499988     0.0   \n",
       "repeat_customer                     40255.0     0.034083   0.181444     0.0   \n",
       "mystery_field                       40255.0    85.447895  78.952562     0.0   \n",
       "loan_default                        40255.0     0.163185   0.369539     0.0   \n",
       "\n",
       "                                       25%     50%     75%     max  \n",
       "loan_amount_index                     81.0   100.0   128.0   376.0  \n",
       "previous_defaults                      0.0     0.0     0.0    11.0  \n",
       "previous_nondefaults                   0.0     0.0     0.0    72.0  \n",
       "previous_loan_count                    0.0     0.0     0.0    78.0  \n",
       "cars_in_household                      0.0     1.0     2.0     7.0  \n",
       "other_vehicles_owned                   1.0     2.0     3.0    17.0  \n",
       "adults_in_household                    2.0     2.0     2.0     4.0  \n",
       "children_in_household                  0.0     0.0     0.0    10.0  \n",
       "issues_needing_resolution              0.0     1.0     1.0     5.0  \n",
       "hmc                                    0.0     0.0     0.0     1.0  \n",
       "application_year                    2021.0  2021.0  2022.0  2022.0  \n",
       "application_month                      3.0     6.0     8.0    12.0  \n",
       "application_in_first_half_of_month     0.0     0.0     1.0     1.0  \n",
       "repeat_customer                        0.0     0.0     0.0     1.0  \n",
       "mystery_field                         26.0    60.0   121.0   543.0  \n",
       "loan_default                           0.0     0.0     0.0     1.0  "
      ]
     },
     "execution_count": 221,
     "metadata": {},
     "output_type": "execute_result"
    }
   ],
   "source": [
    "df.describe().T"
   ]
  },
  {
   "cell_type": "markdown",
   "id": "14078a17",
   "metadata": {},
   "source": [
    "We have displayed the summary statistics for the dataframe. There does not seem to be any suspiciously low \"min\" values. However, the fields with suspiciously high \"max\" values are\n",
    "* previous_defaults with 11\n",
    "* previous_nondefaults with 72\n",
    "* previous_loan_count with 78\n",
    "* cars_in_household with 7\n",
    "* other_vehicles_owned with 17\n",
    "* children_in_household with 10."
   ]
  },
  {
   "cell_type": "markdown",
   "id": "b9f677b0",
   "metadata": {},
   "source": [
    "# Step 8: Display boxplot and histogram for loan_amount_index field"
   ]
  },
  {
   "cell_type": "code",
   "execution_count": 222,
   "id": "bb22c3c0",
   "metadata": {},
   "outputs": [
    {
     "data": {
      "image/png": "[encoded data removed]",
      "text/plain": [
       "<Figure size 1152x576 with 2 Axes>"
      ]
     },
     "metadata": {
      "needs_background": "light"
     },
     "output_type": "display_data"
    }
   ],
   "source": [
    "boxpl_and_hist(df[\"loan_amount_index\"])"
   ]
  },
  {
   "cell_type": "markdown",
   "id": "921a698b",
   "metadata": {},
   "source": [
    "We have displayed the boxplot and histogram for the loan_amount_index_field. There is some right-skewness. There is also a good number of samples with a loan amount index of 0."
   ]
  },
  {
   "cell_type": "markdown",
   "id": "4b88d3d2",
   "metadata": {},
   "source": [
    "# Step 9: Drop records for which loan_amount_index is 0"
   ]
  },
  {
   "cell_type": "code",
   "execution_count": 223,
   "id": "057d9510",
   "metadata": {},
   "outputs": [
    {
     "data": {
      "text/html": [
       "<div>\n",
       "<style scoped>\n",
       "    .dataframe tbody tr th:only-of-type {\n",
       "        vertical-align: middle;\n",
       "    }\n",
       "\n",
       "    .dataframe tbody tr th {\n",
       "        vertical-align: top;\n",
       "    }\n",
       "\n",
       "    .dataframe thead th {\n",
       "        text-align: right;\n",
       "    }\n",
       "</style>\n",
       "<table border=\"1\" class=\"dataframe\">\n",
       "  <thead>\n",
       "    <tr style=\"text-align: right;\">\n",
       "      <th></th>\n",
       "      <th>loan_type</th>\n",
       "      <th>loan_amount_index</th>\n",
       "      <th>previous_defaults</th>\n",
       "      <th>previous_nondefaults</th>\n",
       "      <th>previous_loan_count</th>\n",
       "      <th>cars_in_household</th>\n",
       "      <th>other_vehicles_owned</th>\n",
       "      <th>adults_in_household</th>\n",
       "      <th>children_in_household</th>\n",
       "      <th>market_segment_code</th>\n",
       "      <th>issues_needing_resolution</th>\n",
       "      <th>hmc</th>\n",
       "      <th>application_year</th>\n",
       "      <th>application_month</th>\n",
       "      <th>application_in_first_half_of_month</th>\n",
       "      <th>loan_origination</th>\n",
       "      <th>repeat_customer</th>\n",
       "      <th>mystery_field</th>\n",
       "      <th>loan_default</th>\n",
       "    </tr>\n",
       "  </thead>\n",
       "  <tbody>\n",
       "    <tr>\n",
       "      <th>132</th>\n",
       "      <td>auto</td>\n",
       "      <td>0</td>\n",
       "      <td>0</td>\n",
       "      <td>0</td>\n",
       "      <td>0</td>\n",
       "      <td>2</td>\n",
       "      <td>3</td>\n",
       "      <td>1</td>\n",
       "      <td>0</td>\n",
       "      <td>ms818</td>\n",
       "      <td>0</td>\n",
       "      <td>0</td>\n",
       "      <td>2020</td>\n",
       "      <td>7</td>\n",
       "      <td>0</td>\n",
       "      <td>website</td>\n",
       "      <td>0</td>\n",
       "      <td>210</td>\n",
       "      <td>0</td>\n",
       "    </tr>\n",
       "    <tr>\n",
       "      <th>149</th>\n",
       "      <td>other</td>\n",
       "      <td>0</td>\n",
       "      <td>0</td>\n",
       "      <td>0</td>\n",
       "      <td>0</td>\n",
       "      <td>2</td>\n",
       "      <td>1</td>\n",
       "      <td>2</td>\n",
       "      <td>0</td>\n",
       "      <td>ms818</td>\n",
       "      <td>1</td>\n",
       "      <td>0</td>\n",
       "      <td>2022</td>\n",
       "      <td>5</td>\n",
       "      <td>0</td>\n",
       "      <td>website</td>\n",
       "      <td>0</td>\n",
       "      <td>22</td>\n",
       "      <td>0</td>\n",
       "    </tr>\n",
       "    <tr>\n",
       "      <th>195</th>\n",
       "      <td>auto</td>\n",
       "      <td>0</td>\n",
       "      <td>0</td>\n",
       "      <td>0</td>\n",
       "      <td>0</td>\n",
       "      <td>0</td>\n",
       "      <td>2</td>\n",
       "      <td>2</td>\n",
       "      <td>0</td>\n",
       "      <td>ms818</td>\n",
       "      <td>1</td>\n",
       "      <td>0</td>\n",
       "      <td>2022</td>\n",
       "      <td>3</td>\n",
       "      <td>1</td>\n",
       "      <td>other</td>\n",
       "      <td>0</td>\n",
       "      <td>41</td>\n",
       "      <td>0</td>\n",
       "    </tr>\n",
       "    <tr>\n",
       "      <th>196</th>\n",
       "      <td>auto</td>\n",
       "      <td>0</td>\n",
       "      <td>3</td>\n",
       "      <td>13</td>\n",
       "      <td>16</td>\n",
       "      <td>0</td>\n",
       "      <td>2</td>\n",
       "      <td>1</td>\n",
       "      <td>0</td>\n",
       "      <td>ms296</td>\n",
       "      <td>1</td>\n",
       "      <td>0</td>\n",
       "      <td>2021</td>\n",
       "      <td>7</td>\n",
       "      <td>1</td>\n",
       "      <td>other</td>\n",
       "      <td>1</td>\n",
       "      <td>23</td>\n",
       "      <td>0</td>\n",
       "    </tr>\n",
       "    <tr>\n",
       "      <th>257</th>\n",
       "      <td>auto</td>\n",
       "      <td>0</td>\n",
       "      <td>0</td>\n",
       "      <td>0</td>\n",
       "      <td>0</td>\n",
       "      <td>2</td>\n",
       "      <td>0</td>\n",
       "      <td>1</td>\n",
       "      <td>0</td>\n",
       "      <td>ms818</td>\n",
       "      <td>0</td>\n",
       "      <td>0</td>\n",
       "      <td>2021</td>\n",
       "      <td>1</td>\n",
       "      <td>0</td>\n",
       "      <td>other</td>\n",
       "      <td>0</td>\n",
       "      <td>24</td>\n",
       "      <td>0</td>\n",
       "    </tr>\n",
       "    <tr>\n",
       "      <th>41691</th>\n",
       "      <td>auto</td>\n",
       "      <td>0</td>\n",
       "      <td>0</td>\n",
       "      <td>12</td>\n",
       "      <td>12</td>\n",
       "      <td>0</td>\n",
       "      <td>1</td>\n",
       "      <td>1</td>\n",
       "      <td>0</td>\n",
       "      <td>ms818</td>\n",
       "      <td>1</td>\n",
       "      <td>0</td>\n",
       "      <td>2022</td>\n",
       "      <td>5</td>\n",
       "      <td>0</td>\n",
       "      <td>other</td>\n",
       "      <td>1</td>\n",
       "      <td>36</td>\n",
       "      <td>0</td>\n",
       "    </tr>\n",
       "    <tr>\n",
       "      <th>41790</th>\n",
       "      <td>auto</td>\n",
       "      <td>0</td>\n",
       "      <td>0</td>\n",
       "      <td>0</td>\n",
       "      <td>0</td>\n",
       "      <td>0</td>\n",
       "      <td>1</td>\n",
       "      <td>2</td>\n",
       "      <td>0</td>\n",
       "      <td>ms818</td>\n",
       "      <td>1</td>\n",
       "      <td>0</td>\n",
       "      <td>2020</td>\n",
       "      <td>11</td>\n",
       "      <td>0</td>\n",
       "      <td>other</td>\n",
       "      <td>0</td>\n",
       "      <td>14</td>\n",
       "      <td>0</td>\n",
       "    </tr>\n",
       "    <tr>\n",
       "      <th>41858</th>\n",
       "      <td>auto</td>\n",
       "      <td>0</td>\n",
       "      <td>0</td>\n",
       "      <td>0</td>\n",
       "      <td>0</td>\n",
       "      <td>2</td>\n",
       "      <td>0</td>\n",
       "      <td>1</td>\n",
       "      <td>0</td>\n",
       "      <td>ms818</td>\n",
       "      <td>0</td>\n",
       "      <td>0</td>\n",
       "      <td>2021</td>\n",
       "      <td>3</td>\n",
       "      <td>1</td>\n",
       "      <td>other</td>\n",
       "      <td>0</td>\n",
       "      <td>15</td>\n",
       "      <td>0</td>\n",
       "    </tr>\n",
       "    <tr>\n",
       "      <th>41905</th>\n",
       "      <td>auto</td>\n",
       "      <td>0</td>\n",
       "      <td>0</td>\n",
       "      <td>0</td>\n",
       "      <td>0</td>\n",
       "      <td>0</td>\n",
       "      <td>1</td>\n",
       "      <td>2</td>\n",
       "      <td>0</td>\n",
       "      <td>ms498</td>\n",
       "      <td>1</td>\n",
       "      <td>0</td>\n",
       "      <td>2022</td>\n",
       "      <td>2</td>\n",
       "      <td>0</td>\n",
       "      <td>other</td>\n",
       "      <td>0</td>\n",
       "      <td>6</td>\n",
       "      <td>0</td>\n",
       "    </tr>\n",
       "    <tr>\n",
       "      <th>42001</th>\n",
       "      <td>auto</td>\n",
       "      <td>0</td>\n",
       "      <td>0</td>\n",
       "      <td>0</td>\n",
       "      <td>0</td>\n",
       "      <td>0</td>\n",
       "      <td>1</td>\n",
       "      <td>1</td>\n",
       "      <td>0</td>\n",
       "      <td>ms818</td>\n",
       "      <td>3</td>\n",
       "      <td>0</td>\n",
       "      <td>2021</td>\n",
       "      <td>5</td>\n",
       "      <td>0</td>\n",
       "      <td>other</td>\n",
       "      <td>0</td>\n",
       "      <td>9</td>\n",
       "      <td>0</td>\n",
       "    </tr>\n",
       "  </tbody>\n",
       "</table>\n",
       "</div>"
      ],
      "text/plain": [
       "      loan_type  loan_amount_index  previous_defaults  previous_nondefaults  \\\n",
       "132        auto                  0                  0                     0   \n",
       "149       other                  0                  0                     0   \n",
       "195        auto                  0                  0                     0   \n",
       "196        auto                  0                  3                    13   \n",
       "257        auto                  0                  0                     0   \n",
       "41691      auto                  0                  0                    12   \n",
       "41790      auto                  0                  0                     0   \n",
       "41858      auto                  0                  0                     0   \n",
       "41905      auto                  0                  0                     0   \n",
       "42001      auto                  0                  0                     0   \n",
       "\n",
       "       previous_loan_count  cars_in_household  other_vehicles_owned  \\\n",
       "132                      0                  2                     3   \n",
       "149                      0                  2                     1   \n",
       "195                      0                  0                     2   \n",
       "196                     16                  0                     2   \n",
       "257                      0                  2                     0   \n",
       "41691                   12                  0                     1   \n",
       "41790                    0                  0                     1   \n",
       "41858                    0                  2                     0   \n",
       "41905                    0                  0                     1   \n",
       "42001                    0                  0                     1   \n",
       "\n",
       "       adults_in_household  children_in_household market_segment_code  \\\n",
       "132                      1                      0               ms818   \n",
       "149                      2                      0               ms818   \n",
       "195                      2                      0               ms818   \n",
       "196                      1                      0               ms296   \n",
       "257                      1                      0               ms818   \n",
       "41691                    1                      0               ms818   \n",
       "41790                    2                      0               ms818   \n",
       "41858                    1                      0               ms818   \n",
       "41905                    2                      0               ms498   \n",
       "42001                    1                      0               ms818   \n",
       "\n",
       "       issues_needing_resolution  hmc  application_year  application_month  \\\n",
       "132                            0    0              2020                  7   \n",
       "149                            1    0              2022                  5   \n",
       "195                            1    0              2022                  3   \n",
       "196                            1    0              2021                  7   \n",
       "257                            0    0              2021                  1   \n",
       "41691                          1    0              2022                  5   \n",
       "41790                          1    0              2020                 11   \n",
       "41858                          0    0              2021                  3   \n",
       "41905                          1    0              2022                  2   \n",
       "42001                          3    0              2021                  5   \n",
       "\n",
       "       application_in_first_half_of_month loan_origination  repeat_customer  \\\n",
       "132                                     0          website                0   \n",
       "149                                     0          website                0   \n",
       "195                                     1            other                0   \n",
       "196                                     1            other                1   \n",
       "257                                     0            other                0   \n",
       "41691                                   0            other                1   \n",
       "41790                                   0            other                0   \n",
       "41858                                   1            other                0   \n",
       "41905                                   0            other                0   \n",
       "42001                                   0            other                0   \n",
       "\n",
       "       mystery_field  loan_default  \n",
       "132              210             0  \n",
       "149               22             0  \n",
       "195               41             0  \n",
       "196               23             0  \n",
       "257               24             0  \n",
       "41691             36             0  \n",
       "41790             14             0  \n",
       "41858             15             0  \n",
       "41905              6             0  \n",
       "42001              9             0  "
      ]
     },
     "execution_count": 223,
     "metadata": {},
     "output_type": "execute_result"
    }
   ],
   "source": [
    "# new df only for records where loan_amount_index = 0\n",
    "filtered_df = df[df['loan_amount_index'] == 0]\n",
    "result_df = pd.concat([filtered_df.head(), filtered_df.tail()])\n",
    "\n",
    "# displaying first 5 and last 5 records\n",
    "result_df"
   ]
  },
  {
   "cell_type": "code",
   "execution_count": 224,
   "id": "8db78cb0",
   "metadata": {},
   "outputs": [
    {
     "data": {
      "text/plain": [
       "39546"
      ]
     },
     "execution_count": 224,
     "metadata": {},
     "output_type": "execute_result"
    }
   ],
   "source": [
    "df.drop(df[df['loan_amount_index'] == 0].index, inplace=True)\n",
    "\n",
    "# display number of rows\n",
    "df.shape[0]"
   ]
  },
  {
   "cell_type": "markdown",
   "id": "0b5e5f88",
   "metadata": {},
   "source": [
    "We have dropped the records in which the loan_amount_index field equals 0. The record count of 39,546 is correct since 709 subtracted from 40,255 is equal to 39,546.\n",
    "\n",
    "It makes sense to drop those 709 records because they are not representative of the broader distribution of the field. In the histogram, most of the field values are clustered between the values of 50 and 200. "
   ]
  },
  {
   "cell_type": "markdown",
   "id": "8629f423",
   "metadata": {},
   "source": [
    "# Step 10: Convert categorical variables to true categories"
   ]
  },
  {
   "cell_type": "code",
   "execution_count": 225,
   "id": "8733512b",
   "metadata": {},
   "outputs": [],
   "source": [
    "df['loan_type'] = df['loan_type'].astype('category')\n",
    "df['market_segment_code'] = df['market_segment_code'].astype('category')\n",
    "df['loan_origination'] = df['loan_origination'].astype('category')"
   ]
  },
  {
   "cell_type": "code",
   "execution_count": 226,
   "id": "1c9c15c7",
   "metadata": {},
   "outputs": [],
   "source": [
    "df['application_year'] = pd.Categorical(df['application_year'], ordered=True)\n",
    "df['application_month'] = pd.Categorical(df['application_month'], ordered=True)"
   ]
  },
  {
   "cell_type": "code",
   "execution_count": 227,
   "id": "7e33bfc3",
   "metadata": {},
   "outputs": [
    {
     "name": "stdout",
     "output_type": "stream",
     "text": [
      "<class 'pandas.core.frame.DataFrame'>\n",
      "Int64Index: 39546 entries, 0 to 42201\n",
      "Data columns (total 19 columns):\n",
      " #   Column                              Non-Null Count  Dtype   \n",
      "---  ------                              --------------  -----   \n",
      " 0   loan_type                           39546 non-null  category\n",
      " 1   loan_amount_index                   39546 non-null  int64   \n",
      " 2   previous_defaults                   39546 non-null  int64   \n",
      " 3   previous_nondefaults                39546 non-null  int64   \n",
      " 4   previous_loan_count                 39546 non-null  int64   \n",
      " 5   cars_in_household                   39546 non-null  int64   \n",
      " 6   other_vehicles_owned                39546 non-null  int64   \n",
      " 7   adults_in_household                 39546 non-null  int64   \n",
      " 8   children_in_household               39546 non-null  int64   \n",
      " 9   market_segment_code                 39546 non-null  category\n",
      " 10  issues_needing_resolution           39546 non-null  int64   \n",
      " 11  hmc                                 39546 non-null  int64   \n",
      " 12  application_year                    39546 non-null  category\n",
      " 13  application_month                   39546 non-null  category\n",
      " 14  application_in_first_half_of_month  39546 non-null  int64   \n",
      " 15  loan_origination                    39546 non-null  category\n",
      " 16  repeat_customer                     39546 non-null  int64   \n",
      " 17  mystery_field                       39546 non-null  int64   \n",
      " 18  loan_default                        39546 non-null  int64   \n",
      "dtypes: category(5), int64(14)\n",
      "memory usage: 4.7 MB\n"
     ]
    }
   ],
   "source": [
    "df.info()"
   ]
  },
  {
   "cell_type": "markdown",
   "id": "1501df01",
   "metadata": {},
   "source": [
    "We have just converted the the fields loan_type, market_segment_code, loan_origination, application_year, and application_month into categorical variables. \n",
    "\n",
    "We do not need to do the same thing for the hmc, application_in_first_half_if_month, repeat_customer, and loan_default variables because they are booleans. They need to be one-hot encoded and they already are, since all the values are either 1 or 0. \n",
    "\n"
   ]
  },
  {
   "cell_type": "markdown",
   "id": "b226892c",
   "metadata": {},
   "source": [
    "# Step 11: Test for imbalance in target variable"
   ]
  },
  {
   "cell_type": "code",
   "execution_count": 228,
   "id": "1801f545",
   "metadata": {},
   "outputs": [
    {
     "name": "stdout",
     "output_type": "stream",
     "text": [
      "Percentage of 1 values in target variable:  16.59586304556719\n",
      "Percentage of 0 values in target variable:  83.4041369544328\n"
     ]
    }
   ],
   "source": [
    "print(\"Percentage of 1 values in target variable: \", (df['loan_default'].sum()/df['loan_default'].count())*100)\n",
    "print(\"Percentage of 0 values in target variable: \", (1-(df['loan_default'].sum()/df['loan_default'].count()))*100)"
   ]
  },
  {
   "cell_type": "markdown",
   "id": "2ac99d09",
   "metadata": {},
   "source": [
    "The target variable is quite imbalanced, with a 0:1 split of about 83/16. This is not surprising, since one would expect the majority of customers not to default on loans, but this skewnes in the data may affect the model performance depending on the results of our EDA."
   ]
  },
  {
   "cell_type": "markdown",
   "id": "42f0c673",
   "metadata": {},
   "source": [
    "We have just examined the 0:1 split in the target variable."
   ]
  },
  {
   "cell_type": "markdown",
   "id": "4ac7e121",
   "metadata": {},
   "source": [
    "# Step 12: Exploratory data analysis (EDA) for application_month"
   ]
  },
  {
   "cell_type": "code",
   "execution_count": 229,
   "id": "2698e77a",
   "metadata": {},
   "outputs": [
    {
     "data": {
      "text/plain": [
       "<AxesSubplot:xlabel='application_month', ylabel='count'>"
      ]
     },
     "execution_count": 229,
     "metadata": {},
     "output_type": "execute_result"
    },
    {
     "data": {
      "image/png": "[encoded data removed]",
      "text/plain": [
       "<Figure size 432x288 with 1 Axes>"
      ]
     },
     "metadata": {
      "needs_background": "light"
     },
     "output_type": "display_data"
    }
   ],
   "source": [
    "sns.countplot(x='application_month', data=df)"
   ]
  },
  {
   "cell_type": "markdown",
   "id": "9cf8c30f",
   "metadata": {},
   "source": [
    "July and August seem to be the most popular months for applying for loans."
   ]
  },
  {
   "cell_type": "code",
   "execution_count": 230,
   "id": "f73a348f",
   "metadata": {},
   "outputs": [
    {
     "data": {
      "text/html": [
       "<div>\n",
       "<style scoped>\n",
       "    .dataframe tbody tr th:only-of-type {\n",
       "        vertical-align: middle;\n",
       "    }\n",
       "\n",
       "    .dataframe tbody tr th {\n",
       "        vertical-align: top;\n",
       "    }\n",
       "\n",
       "    .dataframe thead th {\n",
       "        text-align: right;\n",
       "    }\n",
       "</style>\n",
       "<table border=\"1\" class=\"dataframe\">\n",
       "  <thead>\n",
       "    <tr style=\"text-align: right;\">\n",
       "      <th>application_year</th>\n",
       "      <th>2020</th>\n",
       "      <th>2021</th>\n",
       "      <th>2022</th>\n",
       "    </tr>\n",
       "    <tr>\n",
       "      <th>application_month</th>\n",
       "      <th></th>\n",
       "      <th></th>\n",
       "      <th></th>\n",
       "    </tr>\n",
       "  </thead>\n",
       "  <tbody>\n",
       "    <tr>\n",
       "      <th>1</th>\n",
       "      <td>0</td>\n",
       "      <td>1932</td>\n",
       "      <td>1312</td>\n",
       "    </tr>\n",
       "    <tr>\n",
       "      <th>2</th>\n",
       "      <td>0</td>\n",
       "      <td>2139</td>\n",
       "      <td>1329</td>\n",
       "    </tr>\n",
       "    <tr>\n",
       "      <th>3</th>\n",
       "      <td>0</td>\n",
       "      <td>1687</td>\n",
       "      <td>1825</td>\n",
       "    </tr>\n",
       "    <tr>\n",
       "      <th>4</th>\n",
       "      <td>0</td>\n",
       "      <td>1737</td>\n",
       "      <td>1855</td>\n",
       "    </tr>\n",
       "    <tr>\n",
       "      <th>5</th>\n",
       "      <td>0</td>\n",
       "      <td>916</td>\n",
       "      <td>2095</td>\n",
       "    </tr>\n",
       "    <tr>\n",
       "      <th>6</th>\n",
       "      <td>0</td>\n",
       "      <td>1297</td>\n",
       "      <td>1873</td>\n",
       "    </tr>\n",
       "    <tr>\n",
       "      <th>7</th>\n",
       "      <td>1310</td>\n",
       "      <td>1827</td>\n",
       "      <td>1737</td>\n",
       "    </tr>\n",
       "    <tr>\n",
       "      <th>8</th>\n",
       "      <td>1444</td>\n",
       "      <td>1951</td>\n",
       "      <td>1542</td>\n",
       "    </tr>\n",
       "    <tr>\n",
       "      <th>9</th>\n",
       "      <td>553</td>\n",
       "      <td>1858</td>\n",
       "      <td>0</td>\n",
       "    </tr>\n",
       "    <tr>\n",
       "      <th>10</th>\n",
       "      <td>812</td>\n",
       "      <td>1978</td>\n",
       "      <td>0</td>\n",
       "    </tr>\n",
       "    <tr>\n",
       "      <th>11</th>\n",
       "      <td>181</td>\n",
       "      <td>1761</td>\n",
       "      <td>0</td>\n",
       "    </tr>\n",
       "    <tr>\n",
       "      <th>12</th>\n",
       "      <td>727</td>\n",
       "      <td>1868</td>\n",
       "      <td>0</td>\n",
       "    </tr>\n",
       "  </tbody>\n",
       "</table>\n",
       "</div>"
      ],
      "text/plain": [
       "application_year   2020  2021  2022\n",
       "application_month                  \n",
       "1                     0  1932  1312\n",
       "2                     0  2139  1329\n",
       "3                     0  1687  1825\n",
       "4                     0  1737  1855\n",
       "5                     0   916  2095\n",
       "6                     0  1297  1873\n",
       "7                  1310  1827  1737\n",
       "8                  1444  1951  1542\n",
       "9                   553  1858     0\n",
       "10                  812  1978     0\n",
       "11                  181  1761     0\n",
       "12                  727  1868     0"
      ]
     },
     "execution_count": 230,
     "metadata": {},
     "output_type": "execute_result"
    }
   ],
   "source": [
    "pd.crosstab(df['application_month'], df['application_year'], dropna=False)"
   ]
  },
  {
   "cell_type": "markdown",
   "id": "9221fafb",
   "metadata": {},
   "source": [
    "Counting the number of applications by month does not explain which months are the most popular for applying for loans because there is no data for the first 6 months of 2020 and the last 4 months of 2022. As a result, July and August, the months that have data for all 3 years, will seem to be the most popular month based solely on this data file."
   ]
  },
  {
   "cell_type": "code",
   "execution_count": 231,
   "id": "68fe3b8a",
   "metadata": {},
   "outputs": [
    {
     "name": "stdout",
     "output_type": "stream",
     "text": [
      "Month 1 : total # of records = 3244 for 2 years (mean =  1622.0 )\n",
      "Month 2 : total # of records = 3468 for 2 years (mean =  1734.0 )\n",
      "Month 3 : total # of records = 3512 for 2 years (mean =  1756.0 )\n",
      "Month 4 : total # of records = 3592 for 2 years (mean =  1796.0 )\n",
      "Month 5 : total # of records = 3011 for 2 years (mean =  1505.5 )\n",
      "Month 6 : total # of records = 3170 for 2 years (mean =  1585.0 )\n",
      "Month 7 : total # of records = 4874 for 3 years (mean =  1624.6666666666667 )\n",
      "Month 8 : total # of records = 4937 for 3 years (mean =  1645.6666666666667 )\n",
      "Month 9 : total # of records = 2411 for 2 years (mean =  1205.5 )\n",
      "Month 10 : total # of records = 2790 for 2 years (mean =  1395.0 )\n",
      "Month 11 : total # of records = 1942 for 2 years (mean =  971.0 )\n",
      "Month 12 : total # of records = 2595 for 2 years (mean =  1297.5 )\n",
      "\n",
      "Grand total for all records = 39546\n"
     ]
    },
    {
     "data": {
      "text/html": [
       "<div>\n",
       "<style scoped>\n",
       "    .dataframe tbody tr th:only-of-type {\n",
       "        vertical-align: middle;\n",
       "    }\n",
       "\n",
       "    .dataframe tbody tr th {\n",
       "        vertical-align: top;\n",
       "    }\n",
       "\n",
       "    .dataframe thead th {\n",
       "        text-align: right;\n",
       "    }\n",
       "</style>\n",
       "<table border=\"1\" class=\"dataframe\">\n",
       "  <thead>\n",
       "    <tr style=\"text-align: right;\">\n",
       "      <th></th>\n",
       "      <th>Month (1=Jan)</th>\n",
       "      <th>Mean Number of Applications</th>\n",
       "    </tr>\n",
       "  </thead>\n",
       "  <tbody>\n",
       "    <tr>\n",
       "      <th>0</th>\n",
       "      <td>1</td>\n",
       "      <td>1622.000000</td>\n",
       "    </tr>\n",
       "    <tr>\n",
       "      <th>1</th>\n",
       "      <td>2</td>\n",
       "      <td>1734.000000</td>\n",
       "    </tr>\n",
       "    <tr>\n",
       "      <th>2</th>\n",
       "      <td>3</td>\n",
       "      <td>1756.000000</td>\n",
       "    </tr>\n",
       "    <tr>\n",
       "      <th>3</th>\n",
       "      <td>4</td>\n",
       "      <td>1796.000000</td>\n",
       "    </tr>\n",
       "    <tr>\n",
       "      <th>4</th>\n",
       "      <td>5</td>\n",
       "      <td>1505.500000</td>\n",
       "    </tr>\n",
       "    <tr>\n",
       "      <th>5</th>\n",
       "      <td>6</td>\n",
       "      <td>1585.000000</td>\n",
       "    </tr>\n",
       "    <tr>\n",
       "      <th>6</th>\n",
       "      <td>7</td>\n",
       "      <td>1624.666667</td>\n",
       "    </tr>\n",
       "    <tr>\n",
       "      <th>7</th>\n",
       "      <td>8</td>\n",
       "      <td>1645.666667</td>\n",
       "    </tr>\n",
       "    <tr>\n",
       "      <th>8</th>\n",
       "      <td>9</td>\n",
       "      <td>1205.500000</td>\n",
       "    </tr>\n",
       "    <tr>\n",
       "      <th>9</th>\n",
       "      <td>10</td>\n",
       "      <td>1395.000000</td>\n",
       "    </tr>\n",
       "    <tr>\n",
       "      <th>10</th>\n",
       "      <td>11</td>\n",
       "      <td>971.000000</td>\n",
       "    </tr>\n",
       "    <tr>\n",
       "      <th>11</th>\n",
       "      <td>12</td>\n",
       "      <td>1297.500000</td>\n",
       "    </tr>\n",
       "  </tbody>\n",
       "</table>\n",
       "</div>"
      ],
      "text/plain": [
       "    Month (1=Jan)  Mean Number of Applications\n",
       "0               1                  1622.000000\n",
       "1               2                  1734.000000\n",
       "2               3                  1756.000000\n",
       "3               4                  1796.000000\n",
       "4               5                  1505.500000\n",
       "5               6                  1585.000000\n",
       "6               7                  1624.666667\n",
       "7               8                  1645.666667\n",
       "8               9                  1205.500000\n",
       "9              10                  1395.000000\n",
       "10             11                   971.000000\n",
       "11             12                  1297.500000"
      ]
     },
     "execution_count": 231,
     "metadata": {},
     "output_type": "execute_result"
    }
   ],
   "source": [
    "plot_df = pd.DataFrame([[1,0],[2],[3],[4],[5],[6],[7],[8],[9],[10],[11],[12]])\n",
    "ctab=pd.crosstab(df['application_month'], df['application_year'], dropna=False)\n",
    "grandtotal = 0\n",
    "for i in range (ctab.shape[0]):\n",
    " month = ctab.index[i]\n",
    " rowtotal = 0\n",
    " num_of_nonzeros = 0 # counter for number of nonzero month values in crosstab table\n",
    " for j in range (3):\n",
    "     rowtotal = rowtotal + ctab.iloc[i,j]\n",
    "     if ctab.iloc[i,j] > 0:\n",
    "         num_of_nonzeros = num_of_nonzeros + 1\n",
    " print('Month',month,\n",
    "     ': total # of records =',rowtotal,\n",
    "     'for',num_of_nonzeros,\n",
    "     'years (mean = ', (rowtotal/num_of_nonzeros),')')\n",
    " plot_df.iloc[i,1] = rowtotal/num_of_nonzeros\n",
    " grandtotal = grandtotal + rowtotal\n",
    "print('\\nGrand total for all records =',grandtotal)\n",
    "plot_df.columns = ['Month (1=Jan)','Mean Number of Applications']\n",
    "plot_df # Display dataframe that stores the mean number of records for each month.\n"
   ]
  },
  {
   "cell_type": "markdown",
   "id": "c1326480",
   "metadata": {},
   "source": [
    "April has the highest mean number of applications."
   ]
  },
  {
   "cell_type": "code",
   "execution_count": 232,
   "id": "4c73013e",
   "metadata": {},
   "outputs": [
    {
     "data": {
      "text/plain": [
       "<AxesSubplot:xlabel='Month (1=Jan)', ylabel='Mean Number of Applications'>"
      ]
     },
     "execution_count": 232,
     "metadata": {},
     "output_type": "execute_result"
    },
    {
     "data": {
      "image/png": "[encoded data removed]",
      "text/plain": [
       "<Figure size 432x288 with 1 Axes>"
      ]
     },
     "metadata": {
      "needs_background": "light"
     },
     "output_type": "display_data"
    }
   ],
   "source": [
    "sns.barplot(x=plot_df['Month (1=Jan)'], y=plot_df['Mean Number of Applications'], data=plot_df)\n"
   ]
  },
  {
   "cell_type": "markdown",
   "id": "587bfc6e",
   "metadata": {},
   "source": [
    "We have just done EDA on the application_month field to determine which month is the most popular for loan applications."
   ]
  },
  {
   "cell_type": "markdown",
   "id": "1542955c",
   "metadata": {},
   "source": [
    "# Step 13: Univariate EDA of each categorical variable"
   ]
  },
  {
   "cell_type": "code",
   "execution_count": 233,
   "id": "9852169c",
   "metadata": {},
   "outputs": [
    {
     "data": {
      "image/png": "[encoded data removed]",
      "text/plain": [
       "<Figure size 360x432 with 1 Axes>"
      ]
     },
     "metadata": {
      "needs_background": "light"
     },
     "output_type": "display_data"
    }
   ],
   "source": [
    "bargraph_with_labels(df, 'loan_type', perc=True)\n",
    "plt.show()"
   ]
  },
  {
   "cell_type": "markdown",
   "id": "5dca8231",
   "metadata": {},
   "source": [
    "Three quarters of loan customers are auto loan customers, while the smallest proportion, a bit over 5%, are residential loan customers."
   ]
  },
  {
   "cell_type": "code",
   "execution_count": 234,
   "id": "0e653784",
   "metadata": {},
   "outputs": [
    {
     "data": {
      "image/png": "[encoded data removed]",
      "text/plain": [
       "<Figure size 576x432 with 1 Axes>"
      ]
     },
     "metadata": {
      "needs_background": "light"
     },
     "output_type": "display_data"
    }
   ],
   "source": [
    "bargraph_with_labels(df, 'market_segment_code', perc=True)\n",
    "plt.show()"
   ]
  },
  {
   "cell_type": "markdown",
   "id": "65e5244c",
   "metadata": {},
   "source": [
    "The large majority of loan seekers come from the market segment ms818, while the fewest come from ms296, ms301, ms604, and ms650."
   ]
  },
  {
   "cell_type": "code",
   "execution_count": 235,
   "id": "ecf1781a",
   "metadata": {},
   "outputs": [
    {
     "data": {
      "image/png": "[encoded data removed]",
      "text/plain": [
       "<Figure size 288x432 with 1 Axes>"
      ]
     },
     "metadata": {
      "needs_background": "light"
     },
     "output_type": "display_data"
    }
   ],
   "source": [
    "bargraph_with_labels(df, 'hmc', perc=True)\n",
    "plt.show()"
   ]
  },
  {
   "cell_type": "markdown",
   "id": "6dc4006a",
   "metadata": {},
   "source": [
    "The vast majority of loans, almost 100%, are HMC, or hard money commerical loans, which are essentially non-bankable loans."
   ]
  },
  {
   "cell_type": "code",
   "execution_count": 236,
   "id": "acb02ae8",
   "metadata": {},
   "outputs": [
    {
     "data": {
      "image/png": "[encoded data removed]",
      "text/plain": [
       "<Figure size 360x432 with 1 Axes>"
      ]
     },
     "metadata": {
      "needs_background": "light"
     },
     "output_type": "display_data"
    }
   ],
   "source": [
    "bargraph_with_labels(df, 'application_year', perc=True)\n",
    "plt.show()"
   ]
  },
  {
   "cell_type": "markdown",
   "id": "84e62373",
   "metadata": {},
   "source": [
    "The fewest number of loan applications were made in 2020, likely due to the pandemic, while the most (almost half of the total number) were made in 2021."
   ]
  },
  {
   "cell_type": "code",
   "execution_count": 237,
   "id": "155de921",
   "metadata": {},
   "outputs": [
    {
     "data": {
      "image/png": "[encoded data removed]",
      "text/plain": [
       "<Figure size 1008x432 with 1 Axes>"
      ]
     },
     "metadata": {
      "needs_background": "light"
     },
     "output_type": "display_data"
    }
   ],
   "source": [
    "bargraph_with_labels(df, 'application_month', perc=True)\n",
    "plt.show()"
   ]
  },
  {
   "cell_type": "markdown",
   "id": "79d6ca9f",
   "metadata": {},
   "source": [
    "The largest proportion of loans were made in July and August, interestingly, just before the beginning of the academic year in the United States. The largest dip in number of loans occurs between August and September with a decrease from 12.5% to 6.1%."
   ]
  },
  {
   "cell_type": "code",
   "execution_count": 238,
   "id": "876efca6",
   "metadata": {},
   "outputs": [
    {
     "data": {
      "image/png": "[encoded data removed]",
      "text/plain": [
       "<Figure size 288x432 with 1 Axes>"
      ]
     },
     "metadata": {
      "needs_background": "light"
     },
     "output_type": "display_data"
    }
   ],
   "source": [
    "bargraph_with_labels(df, 'application_in_first_half_of_month', perc=True)\n",
    "plt.show()"
   ]
  },
  {
   "cell_type": "markdown",
   "id": "990e60a2",
   "metadata": {},
   "source": [
    "The number of loan applications in the first half of the month is almost exactly equal to the number of applicants in the second half of the month."
   ]
  },
  {
   "cell_type": "code",
   "execution_count": 239,
   "id": "8c3898a0",
   "metadata": {},
   "outputs": [
    {
     "data": {
      "image/png": "[encoded data removed]",
      "text/plain": [
       "<Figure size 360x432 with 1 Axes>"
      ]
     },
     "metadata": {
      "needs_background": "light"
     },
     "output_type": "display_data"
    }
   ],
   "source": [
    "bargraph_with_labels(df, 'loan_origination', perc=True)\n",
    "plt.show()"
   ]
  },
  {
   "cell_type": "markdown",
   "id": "1902a798",
   "metadata": {},
   "source": [
    "The large majority of customers originated their loans on the website, and a good amount-- albeit the smallest number, 6.6%-- chose a method \"other\" than online or in person at a bank branch."
   ]
  },
  {
   "cell_type": "code",
   "execution_count": 240,
   "id": "3e87843c",
   "metadata": {
    "scrolled": false
   },
   "outputs": [
    {
     "data": {
      "image/png": "[encoded data removed]",
      "text/plain": [
       "<Figure size 288x432 with 1 Axes>"
      ]
     },
     "metadata": {
      "needs_background": "light"
     },
     "output_type": "display_data"
    }
   ],
   "source": [
    "bargraph_with_labels(df, 'repeat_customer', perc=True)\n",
    "plt.show()"
   ]
  },
  {
   "cell_type": "markdown",
   "id": "94550bcc",
   "metadata": {},
   "source": [
    "A surprisingly low percentage of customers are repeat customers-- most do not return for another loan."
   ]
  },
  {
   "cell_type": "code",
   "execution_count": 241,
   "id": "64a15444",
   "metadata": {},
   "outputs": [
    {
     "data": {
      "image/png": "[encoded data removed]",
      "text/plain": [
       "<Figure size 288x432 with 1 Axes>"
      ]
     },
     "metadata": {
      "needs_background": "light"
     },
     "output_type": "display_data"
    }
   ],
   "source": [
    "bargraph_with_labels(df, 'loan_default', perc=True)\n",
    "plt.show()"
   ]
  },
  {
   "cell_type": "markdown",
   "id": "d79bda44",
   "metadata": {},
   "source": [
    "As we explained in step 11, there is quite a bit of skewness in the target variable split, with there being a bit over five times as many loan payoffs as defaults."
   ]
  },
  {
   "cell_type": "markdown",
   "id": "7904a407",
   "metadata": {},
   "source": [
    "We have just completed univariate exploratory data analysis for our nine categorical variables."
   ]
  },
  {
   "cell_type": "markdown",
   "id": "475dafb7",
   "metadata": {},
   "source": [
    "# Step 14: Univariate EDA of each quantitative variable"
   ]
  },
  {
   "cell_type": "code",
   "execution_count": 242,
   "id": "b4e59108",
   "metadata": {},
   "outputs": [
    {
     "data": {
      "image/png": "[encoded data removed]",
      "text/plain": [
       "<Figure size 1152x576 with 2 Axes>"
      ]
     },
     "metadata": {
      "needs_background": "light"
     },
     "output_type": "display_data"
    }
   ],
   "source": [
    "boxpl_and_hist(df[\"loan_amount_index\"])"
   ]
  },
  {
   "cell_type": "markdown",
   "id": "027e58f2",
   "metadata": {},
   "source": [
    "There is some right skewness in the loan_amount_index field, but most people's index is clustered around 100. "
   ]
  },
  {
   "cell_type": "code",
   "execution_count": 243,
   "id": "5f4f7031",
   "metadata": {},
   "outputs": [
    {
     "data": {
      "image/png": "[encoded data removed]",
      "text/plain": [
       "<Figure size 1152x576 with 2 Axes>"
      ]
     },
     "metadata": {
      "needs_background": "light"
     },
     "output_type": "display_data"
    }
   ],
   "source": [
    "boxpl_and_hist(df[\"previous_defaults\"])"
   ]
  },
  {
   "cell_type": "markdown",
   "id": "e5689330",
   "metadata": {},
   "source": [
    "There is extreme right skewness in previous_defaults, since the large majority of people have not even been customers before, let alone applied for or previously defaulted on a loan with the company."
   ]
  },
  {
   "cell_type": "code",
   "execution_count": 244,
   "id": "0ed68338",
   "metadata": {},
   "outputs": [
    {
     "data": {
      "image/png": "[encoded data removed]",
      "text/plain": [
       "<Figure size 1152x576 with 2 Axes>"
      ]
     },
     "metadata": {
      "needs_background": "light"
     },
     "output_type": "display_data"
    }
   ],
   "source": [
    "boxpl_and_hist(df[\"previous_nondefaults\"])"
   ]
  },
  {
   "cell_type": "markdown",
   "id": "4e94c6fa",
   "metadata": {},
   "source": [
    "Much like the previous_defaults field, this histogram is extremely right skewed. The vast majority of people are applying for a loan for the first time."
   ]
  },
  {
   "cell_type": "code",
   "execution_count": 245,
   "id": "a7887447",
   "metadata": {},
   "outputs": [
    {
     "data": {
      "image/png": "[encoded data removed]",
      "text/plain": [
       "<Figure size 1152x576 with 2 Axes>"
      ]
     },
     "metadata": {
      "needs_background": "light"
     },
     "output_type": "display_data"
    }
   ],
   "source": [
    "boxpl_and_hist(df[\"previous_loan_count\"])"
   ]
  },
  {
   "cell_type": "markdown",
   "id": "e54a2a4a",
   "metadata": {},
   "source": [
    "Much like the previous two histograms, the vast majority of people have not previously applied for a loan."
   ]
  },
  {
   "cell_type": "code",
   "execution_count": 246,
   "id": "aee1bbe9",
   "metadata": {},
   "outputs": [
    {
     "data": {
      "image/png": "[encoded data removed]",
      "text/plain": [
       "<Figure size 1152x576 with 2 Axes>"
      ]
     },
     "metadata": {
      "needs_background": "light"
     },
     "output_type": "display_data"
    }
   ],
   "source": [
    "boxpl_and_hist(df[\"cars_in_household\"])"
   ]
  },
  {
   "cell_type": "markdown",
   "id": "f5c0c582",
   "metadata": {},
   "source": [
    "The cars_in_household field is right skewed, with most loan applicants not having more than two cars."
   ]
  },
  {
   "cell_type": "code",
   "execution_count": 247,
   "id": "e1d11999",
   "metadata": {},
   "outputs": [
    {
     "data": {
      "image/png": "[encoded data removed]",
      "text/plain": [
       "<Figure size 1152x576 with 2 Axes>"
      ]
     },
     "metadata": {
      "needs_background": "light"
     },
     "output_type": "display_data"
    }
   ],
   "source": [
    "boxpl_and_hist(df[\"other_vehicles_owned\"])"
   ]
  },
  {
   "cell_type": "markdown",
   "id": "213405e7",
   "metadata": {},
   "source": [
    "Much like the previous histogram, this histogram is right skewed and most people own no more than 5 vehicles that are not cars."
   ]
  },
  {
   "cell_type": "code",
   "execution_count": 248,
   "id": "63e87f7b",
   "metadata": {},
   "outputs": [
    {
     "data": {
      "image/png": "[encoded data removed]",
      "text/plain": [
       "<Figure size 1152x576 with 2 Axes>"
      ]
     },
     "metadata": {
      "needs_background": "light"
     },
     "output_type": "display_data"
    }
   ],
   "source": [
    "boxpl_and_hist(df[\"adults_in_household\"])"
   ]
  },
  {
   "cell_type": "markdown",
   "id": "54edc7c2",
   "metadata": {},
   "source": [
    "The vast majority of applicants have two adults in their households."
   ]
  },
  {
   "cell_type": "code",
   "execution_count": 249,
   "id": "4bbf4219",
   "metadata": {},
   "outputs": [
    {
     "data": {
      "image/png": "[encoded data removed]",
      "text/plain": [
       "<Figure size 1152x576 with 2 Axes>"
      ]
     },
     "metadata": {
      "needs_background": "light"
     },
     "output_type": "display_data"
    }
   ],
   "source": [
    "boxpl_and_hist(df[\"children_in_household\"])"
   ]
  },
  {
   "cell_type": "markdown",
   "id": "72dd2c58",
   "metadata": {},
   "source": [
    "The vast majority of loan applicants do not have any children in their household.\n"
   ]
  },
  {
   "cell_type": "code",
   "execution_count": 250,
   "id": "6b9d032d",
   "metadata": {},
   "outputs": [
    {
     "data": {
      "image/png": "[encoded data removed]",
      "text/plain": [
       "<Figure size 1152x576 with 2 Axes>"
      ]
     },
     "metadata": {
      "needs_background": "light"
     },
     "output_type": "display_data"
    }
   ],
   "source": [
    "boxpl_and_hist(df[\"issues_needing_resolution\"])"
   ]
  },
  {
   "cell_type": "markdown",
   "id": "1cea70bd",
   "metadata": {},
   "source": [
    "The issues_needing_resolution field is right skewed, since most people have no more than 1 issue that needs to be resolved."
   ]
  },
  {
   "cell_type": "code",
   "execution_count": 251,
   "id": "cd55b508",
   "metadata": {},
   "outputs": [
    {
     "data": {
      "image/png": "[encoded data removed]",
      "text/plain": [
       "<Figure size 1152x576 with 2 Axes>"
      ]
     },
     "metadata": {
      "needs_background": "light"
     },
     "output_type": "display_data"
    }
   ],
   "source": [
    "boxpl_and_hist(df[\"mystery_field\"])"
   ]
  },
  {
   "cell_type": "markdown",
   "id": "1846c7a2",
   "metadata": {},
   "source": [
    "This mystery field is very right skewed. Most values lie within the range of 0-200. "
   ]
  },
  {
   "cell_type": "markdown",
   "id": "110c9f47",
   "metadata": {},
   "source": [
    "We have just done univariate EDA for each quantitative variable."
   ]
  },
  {
   "cell_type": "markdown",
   "id": "ad5db8d9",
   "metadata": {},
   "source": [
    "# Step 15: Bivariate EDA of each categorical variable with respect to target"
   ]
  },
  {
   "cell_type": "code",
   "execution_count": 252,
   "id": "f333d552",
   "metadata": {
    "scrolled": false
   },
   "outputs": [
    {
     "data": {
      "image/png": "[encoded data removed]",
      "text/plain": [
       "<Figure size 429.75x360 with 1 Axes>"
      ]
     },
     "metadata": {
      "needs_background": "light"
     },
     "output_type": "display_data"
    }
   ],
   "source": [
    "plot_categorical_vs_target(df,'loan_type','loan_default')"
   ]
  },
  {
   "cell_type": "markdown",
   "id": "a4276ee3",
   "metadata": {},
   "source": [
    "### loan_type\n",
    "Regardless of the loan type, there is roughly an equal proportion of people who did not default on their loans to the ones who did. However, the residential loan types seem to have a slightly higher percentage of defaulters."
   ]
  },
  {
   "cell_type": "code",
   "execution_count": 253,
   "id": "134e0576",
   "metadata": {},
   "outputs": [
    {
     "data": {
      "image/png": "[encoded data removed]",
      "text/plain": [
       "<Figure size 429.75x360 with 1 Axes>"
      ]
     },
     "metadata": {
      "needs_background": "light"
     },
     "output_type": "display_data"
    }
   ],
   "source": [
    "plot_categorical_vs_target(df,'market_segment_code','loan_default')"
   ]
  },
  {
   "cell_type": "markdown",
   "id": "4fd7bc82",
   "metadata": {},
   "source": [
    "### market_segment_code\n",
    "Much like loan_type, there are roughly equal proportions throughout the values for the market_segment_code, though the ms301 value has a slightly higher percentage of defaulters."
   ]
  },
  {
   "cell_type": "code",
   "execution_count": 254,
   "id": "c344cfdf",
   "metadata": {},
   "outputs": [
    {
     "data": {
      "image/png": "[encoded data removed]",
      "text/plain": [
       "<Figure size 429.75x360 with 1 Axes>"
      ]
     },
     "metadata": {
      "needs_background": "light"
     },
     "output_type": "display_data"
    }
   ],
   "source": [
    "plot_categorical_vs_target(df,'hmc','loan_default')"
   ]
  },
  {
   "cell_type": "markdown",
   "id": "3e88f89d",
   "metadata": {},
   "source": [
    "### hmc\n",
    "High maintenance customers have a much lower rate of default than regular customers."
   ]
  },
  {
   "cell_type": "code",
   "execution_count": 255,
   "id": "4cda7b2f",
   "metadata": {},
   "outputs": [
    {
     "data": {
      "image/png": "[encoded data removed]",
      "text/plain": [
       "<Figure size 429.75x360 with 1 Axes>"
      ]
     },
     "metadata": {
      "needs_background": "light"
     },
     "output_type": "display_data"
    }
   ],
   "source": [
    "plot_categorical_vs_target(df,'application_year','loan_default')"
   ]
  },
  {
   "cell_type": "markdown",
   "id": "501c3c39",
   "metadata": {},
   "source": [
    "### application_year\n",
    "As the records get more recent, there is a higher proportion of people who default on their loans. "
   ]
  },
  {
   "cell_type": "code",
   "execution_count": 256,
   "id": "7a29d9f6",
   "metadata": {},
   "outputs": [
    {
     "data": {
      "image/png": "[encoded data removed]",
      "text/plain": [
       "<Figure size 429.75x360 with 1 Axes>"
      ]
     },
     "metadata": {
      "needs_background": "light"
     },
     "output_type": "display_data"
    }
   ],
   "source": [
    "plot_categorical_vs_target(df,'application_month','loan_default')"
   ]
  },
  {
   "cell_type": "markdown",
   "id": "b6e6991f",
   "metadata": {},
   "source": [
    "### application_month\n",
    "The proportion of defaulters is roughly equal regardless of the month."
   ]
  },
  {
   "cell_type": "code",
   "execution_count": 257,
   "id": "11d3eaa8",
   "metadata": {},
   "outputs": [
    {
     "data": {
      "image/png": "[encoded data removed]",
      "text/plain": [
       "<Figure size 429.75x360 with 1 Axes>"
      ]
     },
     "metadata": {
      "needs_background": "light"
     },
     "output_type": "display_data"
    }
   ],
   "source": [
    "plot_categorical_vs_target(df,'application_in_first_half_of_month','loan_default')"
   ]
  },
  {
   "cell_type": "markdown",
   "id": "30d37d19",
   "metadata": {},
   "source": [
    "### application_in_first_half_of_month\n",
    "The proportion of defaulters is mostly the same regardless of whether the application was in the first or last half of the month."
   ]
  },
  {
   "cell_type": "code",
   "execution_count": 258,
   "id": "0948e1a5",
   "metadata": {},
   "outputs": [
    {
     "data": {
      "image/png": "[encoded data removed]",
      "text/plain": [
       "<Figure size 429.75x360 with 1 Axes>"
      ]
     },
     "metadata": {
      "needs_background": "light"
     },
     "output_type": "display_data"
    }
   ],
   "source": [
    "plot_categorical_vs_target(df,'loan_origination','loan_default')"
   ]
  },
  {
   "cell_type": "markdown",
   "id": "20f5b84e",
   "metadata": {},
   "source": [
    "### loan_origination\n",
    "Loans that originate from other sources have a much lower rate of default than loans that originated from a bank branch or website."
   ]
  },
  {
   "cell_type": "code",
   "execution_count": 259,
   "id": "b23bda05",
   "metadata": {},
   "outputs": [
    {
     "data": {
      "image/png": "[encoded data removed]",
      "text/plain": [
       "<Figure size 429.75x360 with 1 Axes>"
      ]
     },
     "metadata": {
      "needs_background": "light"
     },
     "output_type": "display_data"
    }
   ],
   "source": [
    "plot_categorical_vs_target(df,'repeat_customer','loan_default')"
   ]
  },
  {
   "cell_type": "markdown",
   "id": "0fec7151",
   "metadata": {},
   "source": [
    "### repeat_customer\n",
    "Repeat customers have a much lower rate of default than first-time customers."
   ]
  },
  {
   "cell_type": "markdown",
   "id": "f5efb9fd",
   "metadata": {},
   "source": [
    "We have just done bivariate EDA for each categorical variable with respect to the target variable."
   ]
  },
  {
   "cell_type": "markdown",
   "id": "871de921",
   "metadata": {},
   "source": [
    "# Extra Step: Additional EDA "
   ]
  },
  {
   "cell_type": "code",
   "execution_count": 260,
   "id": "fa5a6832",
   "metadata": {},
   "outputs": [
    {
     "data": {
      "image/png": "[encoded data removed]",
      "text/plain": [
       "<Figure size 720x432 with 1 Axes>"
      ]
     },
     "metadata": {
      "needs_background": "light"
     },
     "output_type": "display_data"
    }
   ],
   "source": [
    "# Comparative boxplots using seaborn\n",
    "plt.figure(figsize=(10, 6))\n",
    "sns.boxplot(x=df['repeat_customer'], y=df['loan_amount_index'])\n",
    "plt.title('Comparative Boxplots: loan_amount_index vs. repeat_customer')\n",
    "plt.xlabel('Repeat Customer')\n",
    "plt.ylabel('Loan Amount Index')\n",
    "plt.show()\n"
   ]
  },
  {
   "cell_type": "markdown",
   "id": "92b0cb43",
   "metadata": {},
   "source": [
    "### Loan Amount Index vs. Repeat Customer"
   ]
  },
  {
   "cell_type": "markdown",
   "id": "f250bdd6",
   "metadata": {},
   "source": [
    "New customers tend to have a higher loan amount index than repeat customers, and there are more outliers in the new customer group with higher loan amount indices."
   ]
  },
  {
   "cell_type": "markdown",
   "id": "93d301d6",
   "metadata": {},
   "source": [
    "# Step 16: Bivariate EDA of each quantitative variable with respect to target"
   ]
  },
  {
   "cell_type": "code",
   "execution_count": 261,
   "id": "7c8ba1ef",
   "metadata": {
    "scrolled": true
   },
   "outputs": [
    {
     "data": {
      "image/png": "[encoded data removed]",
      "text/plain": [
       "<Figure size 432x288 with 1 Axes>"
      ]
     },
     "metadata": {
      "needs_background": "light"
     },
     "output_type": "display_data"
    }
   ],
   "source": [
    "boxplots_vs_target(df,'loan_amount_index','loan_default')"
   ]
  },
  {
   "cell_type": "markdown",
   "id": "f0b2a2bd",
   "metadata": {},
   "source": [
    "### loan_amount_index\n",
    "Slightly higher indices for the loan amount are associated with default on a loan."
   ]
  },
  {
   "cell_type": "code",
   "execution_count": 262,
   "id": "b1250b88",
   "metadata": {},
   "outputs": [
    {
     "data": {
      "image/png": "[encoded data removed]",
      "text/plain": [
       "<Figure size 432x288 with 1 Axes>"
      ]
     },
     "metadata": {
      "needs_background": "light"
     },
     "output_type": "display_data"
    }
   ],
   "source": [
    "boxplots_vs_target(df,'previous_defaults','loan_default')"
   ]
  },
  {
   "cell_type": "markdown",
   "id": "55beca66",
   "metadata": {},
   "source": [
    "### previous_defaults\n",
    "Based off the small number of outliers, people with more previous defaults do not default on a loan. However, the large majority of people have had 0 previous defaults which is not associated with whether they have or have not defaulted on this loan."
   ]
  },
  {
   "cell_type": "code",
   "execution_count": 263,
   "id": "90560a62",
   "metadata": {},
   "outputs": [
    {
     "data": {
      "image/png": "[encoded data removed]",
      "text/plain": [
       "<Figure size 432x288 with 1 Axes>"
      ]
     },
     "metadata": {
      "needs_background": "light"
     },
     "output_type": "display_data"
    }
   ],
   "source": [
    "boxplots_vs_target(df,'previous_nondefaults','loan_default')"
   ]
  },
  {
   "cell_type": "markdown",
   "id": "9ff6e5aa",
   "metadata": {},
   "source": [
    "### previous_nondefaults\n",
    "People with more previous nondefaults, or successful payment, have a lower rate of defaulting, though this is only based off of the outliers which, unlike the previous field, occur in a higher number. Most people have had 0 previous nondefaults, which is more associated neither with default nor with nondefault."
   ]
  },
  {
   "cell_type": "code",
   "execution_count": 264,
   "id": "5577681e",
   "metadata": {},
   "outputs": [
    {
     "data": {
      "image/png": "[encoded data removed]",
      "text/plain": [
       "<Figure size 432x288 with 1 Axes>"
      ]
     },
     "metadata": {
      "needs_background": "light"
     },
     "output_type": "display_data"
    }
   ],
   "source": [
    "boxplots_vs_target(df,'previous_loan_count','loan_default')"
   ]
  },
  {
   "cell_type": "markdown",
   "id": "722e7296",
   "metadata": {},
   "source": [
    "### previous_loan_count\n",
    "Based on the outliers, people who have taken out previous loans tend not to default. Most people have 0 previous loans which is not associated with whether a loan will be defaulted on or not."
   ]
  },
  {
   "cell_type": "code",
   "execution_count": 265,
   "id": "d954d8f3",
   "metadata": {},
   "outputs": [
    {
     "data": {
      "image/png": "[encoded data removed]",
      "text/plain": [
       "<Figure size 432x288 with 1 Axes>"
      ]
     },
     "metadata": {
      "needs_background": "light"
     },
     "output_type": "display_data"
    }
   ],
   "source": [
    "boxplots_vs_target(df,'cars_in_household','loan_default')"
   ]
  },
  {
   "cell_type": "markdown",
   "id": "0f1f4e4a",
   "metadata": {},
   "source": [
    "### cars_in_household\n",
    "There is essentially no visible difference between the distribution of the number of cars in a household for performing loans compared to loans in default."
   ]
  },
  {
   "cell_type": "code",
   "execution_count": 266,
   "id": "5da1e460",
   "metadata": {},
   "outputs": [
    {
     "data": {
      "image/png": "[encoded data removed]",
      "text/plain": [
       "<Figure size 432x288 with 1 Axes>"
      ]
     },
     "metadata": {
      "needs_background": "light"
     },
     "output_type": "display_data"
    }
   ],
   "source": [
    "boxplots_vs_target(df,'other_vehicles_owned','loan_default')"
   ]
  },
  {
   "cell_type": "markdown",
   "id": "96024425",
   "metadata": {},
   "source": [
    "### other_vehicles_owned\n",
    "Like the cars_in_household field, there is no visible difference between the other_vehicles_owned distribution for performing loans compared to loans in default."
   ]
  },
  {
   "cell_type": "code",
   "execution_count": 267,
   "id": "60d5094e",
   "metadata": {},
   "outputs": [
    {
     "data": {
      "image/png": "[encoded data removed]",
      "text/plain": [
       "<Figure size 432x288 with 1 Axes>"
      ]
     },
     "metadata": {
      "needs_background": "light"
     },
     "output_type": "display_data"
    }
   ],
   "source": [
    "boxplots_vs_target(df,'adults_in_household','loan_default')"
   ]
  },
  {
   "cell_type": "markdown",
   "id": "32fff4f1",
   "metadata": {},
   "source": [
    "### adults_in_household\n",
    "Most households have 2 adults, but this is not associated with whether a loan will be performing or defaulted on."
   ]
  },
  {
   "cell_type": "code",
   "execution_count": 268,
   "id": "a7eb32d8",
   "metadata": {},
   "outputs": [
    {
     "data": {
      "image/png": "[encoded data removed]",
      "text/plain": [
       "<Figure size 432x288 with 1 Axes>"
      ]
     },
     "metadata": {
      "needs_background": "light"
     },
     "output_type": "display_data"
    }
   ],
   "source": [
    "boxplots_vs_target(df,'children_in_household','loan_default')"
   ]
  },
  {
   "cell_type": "markdown",
   "id": "70ee0db5",
   "metadata": {},
   "source": [
    "### children_in_household\n",
    "Most households have 0 children, but this is not associated with whether a loan will be performing or not. There are a few outliers with more than 8 children, who did not default on their loans."
   ]
  },
  {
   "cell_type": "code",
   "execution_count": 269,
   "id": "24154c11",
   "metadata": {},
   "outputs": [
    {
     "data": {
      "image/png": "[encoded data removed]",
      "text/plain": [
       "<Figure size 432x288 with 1 Axes>"
      ]
     },
     "metadata": {
      "needs_background": "light"
     },
     "output_type": "display_data"
    }
   ],
   "source": [
    "boxplots_vs_target(df,'issues_needing_resolution','loan_default')"
   ]
  },
  {
   "cell_type": "markdown",
   "id": "5104794d",
   "metadata": {},
   "source": [
    "### issues_needing_resolution\n",
    "Aside from a few outliers that indicate customers who did not default with an unusually high number of issues needing resolutions, there is no visible difference between the distributions."
   ]
  },
  {
   "cell_type": "code",
   "execution_count": 270,
   "id": "3b719ffe",
   "metadata": {
    "scrolled": true
   },
   "outputs": [
    {
     "data": {
      "image/png": "[encoded data removed]",
      "text/plain": [
       "<Figure size 432x288 with 1 Axes>"
      ]
     },
     "metadata": {
      "needs_background": "light"
     },
     "output_type": "display_data"
    }
   ],
   "source": [
    "boxplots_vs_target(df,'mystery_field','loan_default')"
   ]
  },
  {
   "cell_type": "markdown",
   "id": "02aebc51",
   "metadata": {},
   "source": [
    "### mystery_field\n",
    "Higher values in the mystery_field are associated with loan default than with no loan defuault, but there are quite a bit of outliers in the mystery field for both the loan default and no default groups."
   ]
  },
  {
   "cell_type": "markdown",
   "id": "40ebd88f",
   "metadata": {},
   "source": [
    "We have just done bivariate EDA for each quantitative variable with respect to the target variable."
   ]
  },
  {
   "cell_type": "markdown",
   "id": "4885e297",
   "metadata": {},
   "source": [
    "# Step 17: Bivariate EDA of loan_amount_index with respect to market_segment_code"
   ]
  },
  {
   "cell_type": "code",
   "execution_count": null,
   "id": "0e040b35",
   "metadata": {},
   "outputs": [
    {
     "data": {
      "text/plain": [
       "<AxesSubplot:xlabel='loan_amount_index', ylabel='market_segment_code'>"
      ]
     },
     "execution_count": 271,
     "metadata": {},
     "output_type": "execute_result"
    }
   ],
   "source": [
    "fig, ax = plt.subplots(figsize=(8,5))\n",
    "sns.stripplot(x='loan_amount_index', y='market_segment_code', data=df)"
   ]
  },
  {
   "cell_type": "markdown",
   "id": "6dcec2af",
   "metadata": {},
   "source": [
    "This strip chart shows the distribution of the loan_amount_index for each value of the market_segment_code. \n",
    "\n",
    "We can see very few individual dots for the ms818 market segment, which means that there are a lot of loan applicants with that market segment code who are clustered around the loan amount index of 0-200. \n",
    "\n",
    "On the other hand, we are able to see a lot of individual dots for the ms604 market segment code because there are not a lot of applicants with that segment. Individuals with the ms604 market segment code have a higher loan amount index on average. "
   ]
  },
  {
   "cell_type": "code",
   "execution_count": null,
   "id": "fb20c22d",
   "metadata": {},
   "outputs": [],
   "source": [
    "fig, ax = plt.subplots(figsize=(8,5))\n",
    "sns.barplot(x='loan_amount_index', y='market_segment_code', data=df)"
   ]
  },
  {
   "cell_type": "markdown",
   "id": "494bce95",
   "metadata": {},
   "source": [
    "The horizontal black segment is so tiny for segment ms818 because of the high number of loan applicants with that segment. More data makes the 95% confidence interval more precise.\n",
    "\n",
    "On the other hand, the ms604 95% confidence interval is so wide because there are not a lot of loan applicants with that segment, making the confidence interval much less precise.\n",
    "\n",
    "The difference of about 30 units between the mean for ms604 and the mean for ms301 is statistically significant because their confidence intervals do not overlap, indicating that the difference between the measured counts is larger than the margin of sampling error."
   ]
  },
  {
   "cell_type": "markdown",
   "id": "1b140aee",
   "metadata": {},
   "source": [
    "We have just created and analyzed a strip chart and bar graph with confidence intervals for loan_amount_index vs. market_segment_code."
   ]
  },
  {
   "cell_type": "markdown",
   "id": "29e85139",
   "metadata": {},
   "source": [
    "# Step 18: Bivariate Pearson heatmap"
   ]
  },
  {
   "cell_type": "code",
   "execution_count": null,
   "id": "0e6b7d17",
   "metadata": {
    "scrolled": false
   },
   "outputs": [],
   "source": [
    "plt.figure(figsize=(15, 7))\n",
    "sns.heatmap(df.corr(method='pearson'), annot=True, vmin=-1, vmax=1, fmt='.2f', cmap='Spectral')\n",
    "plt.show()"
   ]
  },
  {
   "cell_type": "markdown",
   "id": "c6507b81",
   "metadata": {},
   "source": [
    "* Previous nondefaults and previous loan count are highly positively correlated, with an r value of 0.99. This makes sense when considering the fact that most first time customers, which make up almost all of the data set, will have taken out 0 loans and thus cannot have any non-defaults.\n",
    "\n",
    "\n",
    "* Previous defaults and previous loan count are somewhat positively correlated, with an r value of 0.68. This r value is likely lower than that between previous nondefaults and loan count due to the fact that there are fewer customers who would have taken out a loan before and have a positive previous loan counts, so the LSRL for this minority group can be skewed by outliers with higher numbers of previous defaults. This is not the case for the large majority of people who have a previous loan count of 0.\n",
    "\n",
    "\n",
    "* Interestingly, previous defaults and previous non-defaults are somewhat positively correlated, with an r value of 0.59. Since the majority of customers are new customers, they will have 0 previous defaults and 0 previous non-defaults, but the LSRL between these two variables will be affected by the roughly 3% of customers (which still amount to about 1180 customers) who have varying amounts of past defaults and non-defaults.\n",
    "\n",
    "\n",
    "* Both the adults_in_household variable and the children_in_household variable are positively correlated with loan_amount_index, with an r value of 0.33. This makes sense when considering the fact that larger households will need bigger and often more expensive houses and cars, and auto and home loans make up over 80% of HansenBank loans. However, this is certainly not always the case, and circumstances for loan applications can vary quite a bit, which explains why the correlation is not close to 1.0.\n",
    "\n",
    "\n",
    "* Whether or not a customer is a repeat customer is somewhat positively correlated with previous loan count, with an r value of 0.54. The large majority of customers are new, and these customers will always have a previous loan count of 0. However, the perfect correlation this relationship would produce is offset by the repeat customers who have varying numbers of previous loan counts.\n",
    "\n",
    "\n",
    "* Similarly, whether or not a customer is a repeat customer is somewhat positively correlated with previous nondefaults, with an r value of 0.53. Again, the large majority of customers, being new, will always have 0 nondefaults. Repeat customers affect the LSRL to produce a less strong correlation.\n",
    "\n",
    "\n",
    "* Whether or not a customer is a repeat customer is somewhat positively correlated with previous defaults, with an r value of 0.39. This is a weaker correlation than between repeat_customer and previous_nondefaults likely because it is less common to default on a loan, and values for number of defaults are, on average, lower than number of nondefaults, as seen in the EDA. This means the small pool of data points with previous defaults will skew the LSRL more and make the fit weaker.\n",
    "\n",
    "\n",
    "* The only variable that has a correlation coefficient of note with the target variable is the mystery_field, which suggests this variable could be particularly important in the construction of our model."
   ]
  },
  {
   "cell_type": "markdown",
   "id": "85d9973e",
   "metadata": {},
   "source": [
    "We have just created and analyzed a Pearson's correlation heatmap for the data."
   ]
  },
  {
   "cell_type": "markdown",
   "id": "106956c5",
   "metadata": {},
   "source": [
    "# Step 19: Bivariate Spearman heatmap"
   ]
  },
  {
   "cell_type": "code",
   "execution_count": null,
   "id": "e80a9554",
   "metadata": {},
   "outputs": [],
   "source": [
    "plt.figure(figsize=(15, 7))\n",
    "sns.heatmap(df.corr(method='spearman'), annot=True, vmin=-1, vmax=1, fmt='.2f', cmap='Spectral')\n",
    "plt.show()"
   ]
  },
  {
   "cell_type": "markdown",
   "id": "b9ce7c54",
   "metadata": {},
   "source": [
    "Relationships between variables are largely the same as in step 18, with a few notable exceptions, listed below.\n",
    "\n",
    "* The correlation between the repeat_customer and previous_nondefaults variables is much higher, with a Spearman's correlation coefficient of 0.96. This suggests that whether or not someone is a repeat customer almost perfectly predicts their number of previous nondefaults. This makes sense given that the large majority of the dataset, which are new customers, are guaranteed to have 0 previous nondefaults.\n",
    "\n",
    "\n",
    "* The correlation between the repeat customer and previous_loan_count is a 1.0 correlation, which in the case of Spearman's rho, indicates that the previous_loan_count variable always increases as the repeat_customer variable increases. This makes sense because the definition of a repeat customer is one that has a non-zero loan count.\n",
    "\n",
    "\n",
    "The important difference to consider between this step and step 18 is that the Spearman's rho looks at strength and direction simply of monotonic correlation; in other words, the extent to which one variable consistently increases or decreases with another."
   ]
  },
  {
   "cell_type": "markdown",
   "id": "dc93a6ee",
   "metadata": {},
   "source": [
    "We have just created and analyzed a Spearman's correlation heatmap for the data."
   ]
  },
  {
   "cell_type": "markdown",
   "id": "d259bf37",
   "metadata": {},
   "source": [
    "# Step 20: Multivariate EDA"
   ]
  },
  {
   "cell_type": "code",
   "execution_count": null,
   "id": "deb0c709",
   "metadata": {},
   "outputs": [],
   "source": [
    "print(\"Top graph: loan_type == 'auto'\")\n",
    "print(\"Bottom graph: loan_type == 'residential'\")\n",
    "x,y = 'market_segment_code', 'loan_default'\n",
    "for feature in [df[df['loan_type']=='auto'],\n",
    " df[df['loan_type']=='residential'],\n",
    " ]:\n",
    " (feature\n",
    " .groupby(x)[y]\n",
    " .value_counts(normalize=True)\n",
    " .mul(100)\n",
    " .rename('percent')\n",
    " .reset_index()\n",
    " .pipe((sns.catplot,'data'), x=x,y='percent',hue=y,kind='bar'))\n",
    " plt.show()"
   ]
  },
  {
   "cell_type": "markdown",
   "id": "e308553c",
   "metadata": {},
   "source": [
    "* For auto loans, market segment 301 has the highest default rate of just under 30%.\n",
    "\n",
    "\n",
    "* For residential loans, market segment 296 has the highest default rate of just under 40%.\n",
    "\n",
    "\n",
    "* It is not surprising that default rate profiles change as loan type changes, specifically that default rates increase for each market segment for residential loans compared to auto loans. Residential loans tend to be more expensive than auto loans, making them harder to pay off and easier to default on."
   ]
  },
  {
   "cell_type": "markdown",
   "id": "a874ce94",
   "metadata": {},
   "source": [
    "We have just investigated the multivariate interaction between loan_type, market_segment_code, and the target variable, loan_default."
   ]
  },
  {
   "cell_type": "markdown",
   "id": "da95cb72",
   "metadata": {},
   "source": [
    "# Step 21: Create dummy variables in explanatory matrix"
   ]
  },
  {
   "cell_type": "code",
   "execution_count": 161,
   "id": "d049535d",
   "metadata": {},
   "outputs": [],
   "source": [
    "X = df.drop(['loan_default'], axis=1)\n",
    "y = df['loan_default']\n",
    "X = sm.add_constant(X) # This step is essential for the statsmodels library (not for sklearn).\n",
    "X = pd.get_dummies(X, drop_first=True)"
   ]
  },
  {
   "cell_type": "markdown",
   "id": "b1831521",
   "metadata": {},
   "source": [
    "We have just created dummy variables and constructed an explanatory matrix and target column for our regression (X and y, respectively)."
   ]
  },
  {
   "cell_type": "markdown",
   "id": "05890792",
   "metadata": {},
   "source": [
    "# Step 22: Split into train and test sets"
   ]
  },
  {
   "cell_type": "code",
   "execution_count": 162,
   "id": "c49eaa87",
   "metadata": {},
   "outputs": [],
   "source": [
    "X_train, X_test, y_train, y_test = train_test_split(X, y, test_size=0.3, random_state=926)\n",
    "old_row_count = X_train.shape[0]"
   ]
  },
  {
   "cell_type": "code",
   "execution_count": 163,
   "id": "4e0fef18",
   "metadata": {},
   "outputs": [
    {
     "name": "stdout",
     "output_type": "stream",
     "text": [
      "Number of rows in X_train:  27682\n",
      "Number of rows in X_test:  11864\n",
      "Proportion of data that is test:  0.3000050574015071\n"
     ]
    }
   ],
   "source": [
    "print(\"Number of rows in X_train: \", X_train.shape[0])\n",
    "print(\"Number of rows in X_test: \", X_test.shape[0])\n",
    "print(\"Proportion of data that is test: \", X_test.shape[0]/(X_train.shape[0]+X_test.shape[0]))"
   ]
  },
  {
   "cell_type": "markdown",
   "id": "804051f5",
   "metadata": {},
   "source": [
    "The split between training and test data was made correctly, since the counts indicate that 30% of the observations are in the test subset, as intended."
   ]
  },
  {
   "cell_type": "markdown",
   "id": "c8335089",
   "metadata": {},
   "source": [
    "We have just split the data into train and test sets."
   ]
  },
  {
   "cell_type": "markdown",
   "id": "b40ca2c7",
   "metadata": {},
   "source": [
    "# Step 23: Resolve multicollinearity issues in X_train"
   ]
  },
  {
   "cell_type": "code",
   "execution_count": 164,
   "id": "c7935c85",
   "metadata": {},
   "outputs": [
    {
     "name": "stderr",
     "output_type": "stream",
     "text": [
      "/Volumes/NO_NAME/opt/anaconda3/lib/python3.9/site-packages/statsmodels/stats/outliers_influence.py:195: RuntimeWarning: divide by zero encountered in double_scalars\n",
      "  vif = 1. / (1. - r_squared_i)\n"
     ]
    },
    {
     "data": {
      "text/html": [
       "<div>\n",
       "<style scoped>\n",
       "    .dataframe tbody tr th:only-of-type {\n",
       "        vertical-align: middle;\n",
       "    }\n",
       "\n",
       "    .dataframe tbody tr th {\n",
       "        vertical-align: top;\n",
       "    }\n",
       "\n",
       "    .dataframe thead th {\n",
       "        text-align: right;\n",
       "    }\n",
       "</style>\n",
       "<table border=\"1\" class=\"dataframe\">\n",
       "  <thead>\n",
       "    <tr style=\"text-align: right;\">\n",
       "      <th></th>\n",
       "      <th>column name</th>\n",
       "      <th>VIF</th>\n",
       "    </tr>\n",
       "  </thead>\n",
       "  <tbody>\n",
       "    <tr>\n",
       "      <th>0</th>\n",
       "      <td>const</td>\n",
       "      <td>129.818556</td>\n",
       "    </tr>\n",
       "    <tr>\n",
       "      <th>1</th>\n",
       "      <td>loan_amount_index</td>\n",
       "      <td>2.156546</td>\n",
       "    </tr>\n",
       "    <tr>\n",
       "      <th>2</th>\n",
       "      <td>previous_defaults</td>\n",
       "      <td>inf</td>\n",
       "    </tr>\n",
       "    <tr>\n",
       "      <th>3</th>\n",
       "      <td>previous_nondefaults</td>\n",
       "      <td>inf</td>\n",
       "    </tr>\n",
       "    <tr>\n",
       "      <th>4</th>\n",
       "      <td>previous_loan_count</td>\n",
       "      <td>inf</td>\n",
       "    </tr>\n",
       "    <tr>\n",
       "      <th>5</th>\n",
       "      <td>cars_in_household</td>\n",
       "      <td>1.064534</td>\n",
       "    </tr>\n",
       "    <tr>\n",
       "      <th>6</th>\n",
       "      <td>other_vehicles_owned</td>\n",
       "      <td>1.098678</td>\n",
       "    </tr>\n",
       "    <tr>\n",
       "      <th>7</th>\n",
       "      <td>adults_in_household</td>\n",
       "      <td>1.401263</td>\n",
       "    </tr>\n",
       "    <tr>\n",
       "      <th>8</th>\n",
       "      <td>children_in_household</td>\n",
       "      <td>1.877903</td>\n",
       "    </tr>\n",
       "    <tr>\n",
       "      <th>9</th>\n",
       "      <td>issues_needing_resolution</td>\n",
       "      <td>1.223135</td>\n",
       "    </tr>\n",
       "    <tr>\n",
       "      <th>10</th>\n",
       "      <td>hmc</td>\n",
       "      <td>1.047948</td>\n",
       "    </tr>\n",
       "    <tr>\n",
       "      <th>11</th>\n",
       "      <td>application_in_first_half_of_month</td>\n",
       "      <td>1.003874</td>\n",
       "    </tr>\n",
       "    <tr>\n",
       "      <th>12</th>\n",
       "      <td>repeat_customer</td>\n",
       "      <td>1.812109</td>\n",
       "    </tr>\n",
       "    <tr>\n",
       "      <th>13</th>\n",
       "      <td>mystery_field</td>\n",
       "      <td>1.248706</td>\n",
       "    </tr>\n",
       "    <tr>\n",
       "      <th>14</th>\n",
       "      <td>loan_type_other</td>\n",
       "      <td>1.319895</td>\n",
       "    </tr>\n",
       "    <tr>\n",
       "      <th>15</th>\n",
       "      <td>loan_type_residential</td>\n",
       "      <td>1.180128</td>\n",
       "    </tr>\n",
       "    <tr>\n",
       "      <th>16</th>\n",
       "      <td>market_segment_code_ms301</td>\n",
       "      <td>3.086586</td>\n",
       "    </tr>\n",
       "    <tr>\n",
       "      <th>17</th>\n",
       "      <td>market_segment_code_ms498</td>\n",
       "      <td>9.849387</td>\n",
       "    </tr>\n",
       "    <tr>\n",
       "      <th>18</th>\n",
       "      <td>market_segment_code_ms604</td>\n",
       "      <td>1.330209</td>\n",
       "    </tr>\n",
       "    <tr>\n",
       "      <th>19</th>\n",
       "      <td>market_segment_code_ms650</td>\n",
       "      <td>2.016220</td>\n",
       "    </tr>\n",
       "    <tr>\n",
       "      <th>20</th>\n",
       "      <td>market_segment_code_ms818</td>\n",
       "      <td>12.047775</td>\n",
       "    </tr>\n",
       "    <tr>\n",
       "      <th>21</th>\n",
       "      <td>application_year_2021</td>\n",
       "      <td>3.043838</td>\n",
       "    </tr>\n",
       "    <tr>\n",
       "      <th>22</th>\n",
       "      <td>application_year_2022</td>\n",
       "      <td>3.890181</td>\n",
       "    </tr>\n",
       "    <tr>\n",
       "      <th>23</th>\n",
       "      <td>application_month_2</td>\n",
       "      <td>1.893716</td>\n",
       "    </tr>\n",
       "    <tr>\n",
       "      <th>24</th>\n",
       "      <td>application_month_3</td>\n",
       "      <td>1.936495</td>\n",
       "    </tr>\n",
       "    <tr>\n",
       "      <th>25</th>\n",
       "      <td>application_month_4</td>\n",
       "      <td>1.916706</td>\n",
       "    </tr>\n",
       "    <tr>\n",
       "      <th>26</th>\n",
       "      <td>application_month_5</td>\n",
       "      <td>1.830798</td>\n",
       "    </tr>\n",
       "    <tr>\n",
       "      <th>27</th>\n",
       "      <td>application_month_6</td>\n",
       "      <td>1.851182</td>\n",
       "    </tr>\n",
       "    <tr>\n",
       "      <th>28</th>\n",
       "      <td>application_month_7</td>\n",
       "      <td>2.287753</td>\n",
       "    </tr>\n",
       "    <tr>\n",
       "      <th>29</th>\n",
       "      <td>application_month_8</td>\n",
       "      <td>2.314612</td>\n",
       "    </tr>\n",
       "    <tr>\n",
       "      <th>30</th>\n",
       "      <td>application_month_9</td>\n",
       "      <td>1.719211</td>\n",
       "    </tr>\n",
       "    <tr>\n",
       "      <th>31</th>\n",
       "      <td>application_month_10</td>\n",
       "      <td>1.860135</td>\n",
       "    </tr>\n",
       "    <tr>\n",
       "      <th>32</th>\n",
       "      <td>application_month_11</td>\n",
       "      <td>1.595660</td>\n",
       "    </tr>\n",
       "    <tr>\n",
       "      <th>33</th>\n",
       "      <td>application_month_12</td>\n",
       "      <td>1.826062</td>\n",
       "    </tr>\n",
       "    <tr>\n",
       "      <th>34</th>\n",
       "      <td>loan_origination_other</td>\n",
       "      <td>1.789055</td>\n",
       "    </tr>\n",
       "    <tr>\n",
       "      <th>35</th>\n",
       "      <td>loan_origination_website</td>\n",
       "      <td>1.850678</td>\n",
       "    </tr>\n",
       "  </tbody>\n",
       "</table>\n",
       "</div>"
      ],
      "text/plain": [
       "                           column name         VIF\n",
       "0                                const  129.818556\n",
       "1                    loan_amount_index    2.156546\n",
       "2                    previous_defaults         inf\n",
       "3                 previous_nondefaults         inf\n",
       "4                  previous_loan_count         inf\n",
       "5                    cars_in_household    1.064534\n",
       "6                 other_vehicles_owned    1.098678\n",
       "7                  adults_in_household    1.401263\n",
       "8                children_in_household    1.877903\n",
       "9            issues_needing_resolution    1.223135\n",
       "10                                 hmc    1.047948\n",
       "11  application_in_first_half_of_month    1.003874\n",
       "12                     repeat_customer    1.812109\n",
       "13                       mystery_field    1.248706\n",
       "14                     loan_type_other    1.319895\n",
       "15               loan_type_residential    1.180128\n",
       "16           market_segment_code_ms301    3.086586\n",
       "17           market_segment_code_ms498    9.849387\n",
       "18           market_segment_code_ms604    1.330209\n",
       "19           market_segment_code_ms650    2.016220\n",
       "20           market_segment_code_ms818   12.047775\n",
       "21               application_year_2021    3.043838\n",
       "22               application_year_2022    3.890181\n",
       "23                 application_month_2    1.893716\n",
       "24                 application_month_3    1.936495\n",
       "25                 application_month_4    1.916706\n",
       "26                 application_month_5    1.830798\n",
       "27                 application_month_6    1.851182\n",
       "28                 application_month_7    2.287753\n",
       "29                 application_month_8    2.314612\n",
       "30                 application_month_9    1.719211\n",
       "31                application_month_10    1.860135\n",
       "32                application_month_11    1.595660\n",
       "33                application_month_12    1.826062\n",
       "34              loan_origination_other    1.789055\n",
       "35            loan_origination_website    1.850678"
      ]
     },
     "execution_count": 164,
     "metadata": {},
     "output_type": "execute_result"
    }
   ],
   "source": [
    "calculate_vif(X_train)"
   ]
  },
  {
   "cell_type": "markdown",
   "id": "0611e21e",
   "metadata": {},
   "source": [
    "The columns previous_defaults, previous_nondefaults, previous_loan_count, market_segment_code_ms498, and market_segment_code_ms818 all have VIFs of above 5, with the first three having VIFs of infinity. This makes sense in context of some of the analysis from steps 18 and 19-- given that a previous loan count of 0 automatically yields 0 previous defaults and 0 previous nondefaults, and that the majority of observations are new customers with a loan count of 0, we can expect previous defaults and nondefaults to be highly correlated to previous loan count, as observed both in their VIF values and in the Pearson and Spearman heatmaps."
   ]
  },
  {
   "cell_type": "code",
   "execution_count": 165,
   "id": "256b830d",
   "metadata": {},
   "outputs": [
    {
     "data": {
      "text/html": [
       "<div>\n",
       "<style scoped>\n",
       "    .dataframe tbody tr th:only-of-type {\n",
       "        vertical-align: middle;\n",
       "    }\n",
       "\n",
       "    .dataframe tbody tr th {\n",
       "        vertical-align: top;\n",
       "    }\n",
       "\n",
       "    .dataframe thead th {\n",
       "        text-align: right;\n",
       "    }\n",
       "</style>\n",
       "<table border=\"1\" class=\"dataframe\">\n",
       "  <thead>\n",
       "    <tr style=\"text-align: right;\">\n",
       "      <th></th>\n",
       "      <th>column name</th>\n",
       "      <th>VIF</th>\n",
       "    </tr>\n",
       "  </thead>\n",
       "  <tbody>\n",
       "    <tr>\n",
       "      <th>0</th>\n",
       "      <td>const</td>\n",
       "      <td>46.652932</td>\n",
       "    </tr>\n",
       "    <tr>\n",
       "      <th>1</th>\n",
       "      <td>loan_amount_index</td>\n",
       "      <td>1.953614</td>\n",
       "    </tr>\n",
       "    <tr>\n",
       "      <th>2</th>\n",
       "      <td>cars_in_household</td>\n",
       "      <td>1.063054</td>\n",
       "    </tr>\n",
       "    <tr>\n",
       "      <th>3</th>\n",
       "      <td>other_vehicles_owned</td>\n",
       "      <td>1.090426</td>\n",
       "    </tr>\n",
       "    <tr>\n",
       "      <th>4</th>\n",
       "      <td>adults_in_household</td>\n",
       "      <td>1.342797</td>\n",
       "    </tr>\n",
       "    <tr>\n",
       "      <th>5</th>\n",
       "      <td>children_in_household</td>\n",
       "      <td>1.869754</td>\n",
       "    </tr>\n",
       "    <tr>\n",
       "      <th>6</th>\n",
       "      <td>issues_needing_resolution</td>\n",
       "      <td>1.218501</td>\n",
       "    </tr>\n",
       "    <tr>\n",
       "      <th>7</th>\n",
       "      <td>hmc</td>\n",
       "      <td>1.046197</td>\n",
       "    </tr>\n",
       "    <tr>\n",
       "      <th>8</th>\n",
       "      <td>application_in_first_half_of_month</td>\n",
       "      <td>1.003109</td>\n",
       "    </tr>\n",
       "    <tr>\n",
       "      <th>9</th>\n",
       "      <td>repeat_customer</td>\n",
       "      <td>1.427825</td>\n",
       "    </tr>\n",
       "    <tr>\n",
       "      <th>10</th>\n",
       "      <td>mystery_field</td>\n",
       "      <td>1.245133</td>\n",
       "    </tr>\n",
       "    <tr>\n",
       "      <th>11</th>\n",
       "      <td>loan_type_other</td>\n",
       "      <td>1.238653</td>\n",
       "    </tr>\n",
       "    <tr>\n",
       "      <th>12</th>\n",
       "      <td>loan_type_residential</td>\n",
       "      <td>1.175924</td>\n",
       "    </tr>\n",
       "    <tr>\n",
       "      <th>13</th>\n",
       "      <td>market_segment_code_ms301</td>\n",
       "      <td>1.840381</td>\n",
       "    </tr>\n",
       "    <tr>\n",
       "      <th>14</th>\n",
       "      <td>market_segment_code_ms604</td>\n",
       "      <td>1.095044</td>\n",
       "    </tr>\n",
       "    <tr>\n",
       "      <th>15</th>\n",
       "      <td>market_segment_code_ms650</td>\n",
       "      <td>1.075383</td>\n",
       "    </tr>\n",
       "    <tr>\n",
       "      <th>16</th>\n",
       "      <td>application_year_2021</td>\n",
       "      <td>3.034066</td>\n",
       "    </tr>\n",
       "    <tr>\n",
       "      <th>17</th>\n",
       "      <td>application_year_2022</td>\n",
       "      <td>3.874636</td>\n",
       "    </tr>\n",
       "    <tr>\n",
       "      <th>18</th>\n",
       "      <td>application_month_2</td>\n",
       "      <td>1.892816</td>\n",
       "    </tr>\n",
       "    <tr>\n",
       "      <th>19</th>\n",
       "      <td>application_month_3</td>\n",
       "      <td>1.934376</td>\n",
       "    </tr>\n",
       "    <tr>\n",
       "      <th>20</th>\n",
       "      <td>application_month_4</td>\n",
       "      <td>1.916438</td>\n",
       "    </tr>\n",
       "    <tr>\n",
       "      <th>21</th>\n",
       "      <td>application_month_5</td>\n",
       "      <td>1.826372</td>\n",
       "    </tr>\n",
       "    <tr>\n",
       "      <th>22</th>\n",
       "      <td>application_month_6</td>\n",
       "      <td>1.850737</td>\n",
       "    </tr>\n",
       "    <tr>\n",
       "      <th>23</th>\n",
       "      <td>application_month_7</td>\n",
       "      <td>2.287455</td>\n",
       "    </tr>\n",
       "    <tr>\n",
       "      <th>24</th>\n",
       "      <td>application_month_8</td>\n",
       "      <td>2.313203</td>\n",
       "    </tr>\n",
       "    <tr>\n",
       "      <th>25</th>\n",
       "      <td>application_month_9</td>\n",
       "      <td>1.717480</td>\n",
       "    </tr>\n",
       "    <tr>\n",
       "      <th>26</th>\n",
       "      <td>application_month_10</td>\n",
       "      <td>1.859426</td>\n",
       "    </tr>\n",
       "    <tr>\n",
       "      <th>27</th>\n",
       "      <td>application_month_11</td>\n",
       "      <td>1.595485</td>\n",
       "    </tr>\n",
       "    <tr>\n",
       "      <th>28</th>\n",
       "      <td>application_month_12</td>\n",
       "      <td>1.824906</td>\n",
       "    </tr>\n",
       "    <tr>\n",
       "      <th>29</th>\n",
       "      <td>loan_origination_other</td>\n",
       "      <td>1.760233</td>\n",
       "    </tr>\n",
       "    <tr>\n",
       "      <th>30</th>\n",
       "      <td>loan_origination_website</td>\n",
       "      <td>1.826896</td>\n",
       "    </tr>\n",
       "  </tbody>\n",
       "</table>\n",
       "</div>"
      ],
      "text/plain": [
       "                           column name        VIF\n",
       "0                                const  46.652932\n",
       "1                    loan_amount_index   1.953614\n",
       "2                    cars_in_household   1.063054\n",
       "3                 other_vehicles_owned   1.090426\n",
       "4                  adults_in_household   1.342797\n",
       "5                children_in_household   1.869754\n",
       "6            issues_needing_resolution   1.218501\n",
       "7                                  hmc   1.046197\n",
       "8   application_in_first_half_of_month   1.003109\n",
       "9                      repeat_customer   1.427825\n",
       "10                       mystery_field   1.245133\n",
       "11                     loan_type_other   1.238653\n",
       "12               loan_type_residential   1.175924\n",
       "13           market_segment_code_ms301   1.840381\n",
       "14           market_segment_code_ms604   1.095044\n",
       "15           market_segment_code_ms650   1.075383\n",
       "16               application_year_2021   3.034066\n",
       "17               application_year_2022   3.874636\n",
       "18                 application_month_2   1.892816\n",
       "19                 application_month_3   1.934376\n",
       "20                 application_month_4   1.916438\n",
       "21                 application_month_5   1.826372\n",
       "22                 application_month_6   1.850737\n",
       "23                 application_month_7   2.287455\n",
       "24                 application_month_8   2.313203\n",
       "25                 application_month_9   1.717480\n",
       "26                application_month_10   1.859426\n",
       "27                application_month_11   1.595485\n",
       "28                application_month_12   1.824906\n",
       "29              loan_origination_other   1.760233\n",
       "30            loan_origination_website   1.826896"
      ]
     },
     "execution_count": 165,
     "metadata": {},
     "output_type": "execute_result"
    }
   ],
   "source": [
    "X_train = X_train.drop(['previous_defaults','previous_nondefaults', 'previous_loan_count', 'market_segment_code_ms498', 'market_segment_code_ms818'], axis=1)\n",
    "calculate_vif(X_train)"
   ]
  },
  {
   "cell_type": "markdown",
   "id": "b1d5a56a",
   "metadata": {},
   "source": [
    "The VIF values for all the columns except for the const column are now under 5."
   ]
  },
  {
   "cell_type": "markdown",
   "id": "156b06ff",
   "metadata": {},
   "source": [
    "We have just removed multicollinearity from our training dataset."
   ]
  },
  {
   "cell_type": "markdown",
   "id": "a2b10273",
   "metadata": {},
   "source": [
    "# Step 24: Drop same set of columns from X_test"
   ]
  },
  {
   "cell_type": "code",
   "execution_count": 166,
   "id": "26c2a0b0",
   "metadata": {},
   "outputs": [],
   "source": [
    "X_test = X_test.drop(['previous_defaults','previous_nondefaults', 'previous_loan_count', 'market_segment_code_ms498', 'market_segment_code_ms818'], axis=1)"
   ]
  },
  {
   "cell_type": "markdown",
   "id": "c48d2b54",
   "metadata": {},
   "source": [
    "We have just dropped the same set of columns as in step 23 from the test dataset. We are doing so separately from the training dataset so that our VIF analyses are only based on the training data, to make sure only the training dataset informs our model construction and avoid information leakage."
   ]
  },
  {
   "cell_type": "markdown",
   "id": "a11e0180",
   "metadata": {},
   "source": [
    "# Step 25: Rebalance the training data"
   ]
  },
  {
   "cell_type": "code",
   "execution_count": 167,
   "id": "16a17a9b",
   "metadata": {},
   "outputs": [
    {
     "data": {
      "text/html": [
       "<div>\n",
       "<style scoped>\n",
       "    .dataframe tbody tr th:only-of-type {\n",
       "        vertical-align: middle;\n",
       "    }\n",
       "\n",
       "    .dataframe tbody tr th {\n",
       "        vertical-align: top;\n",
       "    }\n",
       "\n",
       "    .dataframe thead th {\n",
       "        text-align: right;\n",
       "    }\n",
       "</style>\n",
       "<table border=\"1\" class=\"dataframe\">\n",
       "  <thead>\n",
       "    <tr style=\"text-align: right;\">\n",
       "      <th></th>\n",
       "      <th>count</th>\n",
       "      <th>mean</th>\n",
       "      <th>std</th>\n",
       "      <th>min</th>\n",
       "      <th>25%</th>\n",
       "      <th>50%</th>\n",
       "      <th>75%</th>\n",
       "      <th>max</th>\n",
       "    </tr>\n",
       "  </thead>\n",
       "  <tbody>\n",
       "    <tr>\n",
       "      <th>const</th>\n",
       "      <td>45794.0</td>\n",
       "      <td>1.000000</td>\n",
       "      <td>0.000000</td>\n",
       "      <td>1.0</td>\n",
       "      <td>1.0</td>\n",
       "      <td>1.0</td>\n",
       "      <td>1.0</td>\n",
       "      <td>1.0</td>\n",
       "    </tr>\n",
       "    <tr>\n",
       "      <th>loan_amount_index</th>\n",
       "      <td>45794.0</td>\n",
       "      <td>112.852906</td>\n",
       "      <td>36.795013</td>\n",
       "      <td>1.0</td>\n",
       "      <td>88.0</td>\n",
       "      <td>107.0</td>\n",
       "      <td>131.0</td>\n",
       "      <td>376.0</td>\n",
       "    </tr>\n",
       "    <tr>\n",
       "      <th>cars_in_household</th>\n",
       "      <td>45794.0</td>\n",
       "      <td>0.867712</td>\n",
       "      <td>0.880527</td>\n",
       "      <td>0.0</td>\n",
       "      <td>0.0</td>\n",
       "      <td>1.0</td>\n",
       "      <td>2.0</td>\n",
       "      <td>6.0</td>\n",
       "    </tr>\n",
       "    <tr>\n",
       "      <th>other_vehicles_owned</th>\n",
       "      <td>45794.0</td>\n",
       "      <td>2.303708</td>\n",
       "      <td>1.449354</td>\n",
       "      <td>0.0</td>\n",
       "      <td>1.0</td>\n",
       "      <td>2.0</td>\n",
       "      <td>3.0</td>\n",
       "      <td>16.0</td>\n",
       "    </tr>\n",
       "    <tr>\n",
       "      <th>adults_in_household</th>\n",
       "      <td>45794.0</td>\n",
       "      <td>1.904726</td>\n",
       "      <td>0.514488</td>\n",
       "      <td>0.0</td>\n",
       "      <td>2.0</td>\n",
       "      <td>2.0</td>\n",
       "      <td>2.0</td>\n",
       "      <td>4.0</td>\n",
       "    </tr>\n",
       "    <tr>\n",
       "      <th>children_in_household</th>\n",
       "      <td>45794.0</td>\n",
       "      <td>0.123706</td>\n",
       "      <td>0.427430</td>\n",
       "      <td>0.0</td>\n",
       "      <td>0.0</td>\n",
       "      <td>0.0</td>\n",
       "      <td>0.0</td>\n",
       "      <td>10.0</td>\n",
       "    </tr>\n",
       "    <tr>\n",
       "      <th>issues_needing_resolution</th>\n",
       "      <td>45794.0</td>\n",
       "      <td>0.633707</td>\n",
       "      <td>0.789895</td>\n",
       "      <td>0.0</td>\n",
       "      <td>0.0</td>\n",
       "      <td>0.0</td>\n",
       "      <td>1.0</td>\n",
       "      <td>5.0</td>\n",
       "    </tr>\n",
       "    <tr>\n",
       "      <th>hmc</th>\n",
       "      <td>45794.0</td>\n",
       "      <td>0.022951</td>\n",
       "      <td>0.149748</td>\n",
       "      <td>0.0</td>\n",
       "      <td>0.0</td>\n",
       "      <td>0.0</td>\n",
       "      <td>0.0</td>\n",
       "      <td>1.0</td>\n",
       "    </tr>\n",
       "    <tr>\n",
       "      <th>application_in_first_half_of_month</th>\n",
       "      <td>45794.0</td>\n",
       "      <td>0.491396</td>\n",
       "      <td>0.499931</td>\n",
       "      <td>0.0</td>\n",
       "      <td>0.0</td>\n",
       "      <td>0.0</td>\n",
       "      <td>1.0</td>\n",
       "      <td>1.0</td>\n",
       "    </tr>\n",
       "    <tr>\n",
       "      <th>repeat_customer</th>\n",
       "      <td>45794.0</td>\n",
       "      <td>0.018168</td>\n",
       "      <td>0.133561</td>\n",
       "      <td>0.0</td>\n",
       "      <td>0.0</td>\n",
       "      <td>0.0</td>\n",
       "      <td>0.0</td>\n",
       "      <td>1.0</td>\n",
       "    </tr>\n",
       "    <tr>\n",
       "      <th>mystery_field</th>\n",
       "      <td>45794.0</td>\n",
       "      <td>114.466524</td>\n",
       "      <td>96.517403</td>\n",
       "      <td>0.0</td>\n",
       "      <td>37.0</td>\n",
       "      <td>87.0</td>\n",
       "      <td>169.0</td>\n",
       "      <td>538.0</td>\n",
       "    </tr>\n",
       "    <tr>\n",
       "      <th>loan_type_other</th>\n",
       "      <td>45794.0</td>\n",
       "      <td>0.182579</td>\n",
       "      <td>0.386325</td>\n",
       "      <td>0.0</td>\n",
       "      <td>0.0</td>\n",
       "      <td>0.0</td>\n",
       "      <td>0.0</td>\n",
       "      <td>1.0</td>\n",
       "    </tr>\n",
       "    <tr>\n",
       "      <th>loan_type_residential</th>\n",
       "      <td>45794.0</td>\n",
       "      <td>0.078220</td>\n",
       "      <td>0.268520</td>\n",
       "      <td>0.0</td>\n",
       "      <td>0.0</td>\n",
       "      <td>0.0</td>\n",
       "      <td>0.0</td>\n",
       "      <td>1.0</td>\n",
       "    </tr>\n",
       "    <tr>\n",
       "      <th>market_segment_code_ms301</th>\n",
       "      <td>45794.0</td>\n",
       "      <td>0.031489</td>\n",
       "      <td>0.174637</td>\n",
       "      <td>0.0</td>\n",
       "      <td>0.0</td>\n",
       "      <td>0.0</td>\n",
       "      <td>0.0</td>\n",
       "      <td>1.0</td>\n",
       "    </tr>\n",
       "    <tr>\n",
       "      <th>market_segment_code_ms604</th>\n",
       "      <td>45794.0</td>\n",
       "      <td>0.004760</td>\n",
       "      <td>0.068832</td>\n",
       "      <td>0.0</td>\n",
       "      <td>0.0</td>\n",
       "      <td>0.0</td>\n",
       "      <td>0.0</td>\n",
       "      <td>1.0</td>\n",
       "    </tr>\n",
       "    <tr>\n",
       "      <th>market_segment_code_ms650</th>\n",
       "      <td>45794.0</td>\n",
       "      <td>0.014347</td>\n",
       "      <td>0.118917</td>\n",
       "      <td>0.0</td>\n",
       "      <td>0.0</td>\n",
       "      <td>0.0</td>\n",
       "      <td>0.0</td>\n",
       "      <td>1.0</td>\n",
       "    </tr>\n",
       "    <tr>\n",
       "      <th>application_year_2021</th>\n",
       "      <td>45794.0</td>\n",
       "      <td>0.518430</td>\n",
       "      <td>0.499666</td>\n",
       "      <td>0.0</td>\n",
       "      <td>0.0</td>\n",
       "      <td>1.0</td>\n",
       "      <td>1.0</td>\n",
       "      <td>1.0</td>\n",
       "    </tr>\n",
       "    <tr>\n",
       "      <th>application_year_2022</th>\n",
       "      <td>45794.0</td>\n",
       "      <td>0.386426</td>\n",
       "      <td>0.486935</td>\n",
       "      <td>0.0</td>\n",
       "      <td>0.0</td>\n",
       "      <td>0.0</td>\n",
       "      <td>1.0</td>\n",
       "      <td>1.0</td>\n",
       "    </tr>\n",
       "    <tr>\n",
       "      <th>application_month_2</th>\n",
       "      <td>45794.0</td>\n",
       "      <td>0.093593</td>\n",
       "      <td>0.291265</td>\n",
       "      <td>0.0</td>\n",
       "      <td>0.0</td>\n",
       "      <td>0.0</td>\n",
       "      <td>0.0</td>\n",
       "      <td>1.0</td>\n",
       "    </tr>\n",
       "    <tr>\n",
       "      <th>application_month_3</th>\n",
       "      <td>45794.0</td>\n",
       "      <td>0.083876</td>\n",
       "      <td>0.277204</td>\n",
       "      <td>0.0</td>\n",
       "      <td>0.0</td>\n",
       "      <td>0.0</td>\n",
       "      <td>0.0</td>\n",
       "      <td>1.0</td>\n",
       "    </tr>\n",
       "    <tr>\n",
       "      <th>application_month_4</th>\n",
       "      <td>45794.0</td>\n",
       "      <td>0.088156</td>\n",
       "      <td>0.283524</td>\n",
       "      <td>0.0</td>\n",
       "      <td>0.0</td>\n",
       "      <td>0.0</td>\n",
       "      <td>0.0</td>\n",
       "      <td>1.0</td>\n",
       "    </tr>\n",
       "    <tr>\n",
       "      <th>application_month_5</th>\n",
       "      <td>45794.0</td>\n",
       "      <td>0.075861</td>\n",
       "      <td>0.264779</td>\n",
       "      <td>0.0</td>\n",
       "      <td>0.0</td>\n",
       "      <td>0.0</td>\n",
       "      <td>0.0</td>\n",
       "      <td>1.0</td>\n",
       "    </tr>\n",
       "    <tr>\n",
       "      <th>application_month_6</th>\n",
       "      <td>45794.0</td>\n",
       "      <td>0.088680</td>\n",
       "      <td>0.284284</td>\n",
       "      <td>0.0</td>\n",
       "      <td>0.0</td>\n",
       "      <td>0.0</td>\n",
       "      <td>0.0</td>\n",
       "      <td>1.0</td>\n",
       "    </tr>\n",
       "    <tr>\n",
       "      <th>application_month_7</th>\n",
       "      <td>45794.0</td>\n",
       "      <td>0.121195</td>\n",
       "      <td>0.326357</td>\n",
       "      <td>0.0</td>\n",
       "      <td>0.0</td>\n",
       "      <td>0.0</td>\n",
       "      <td>0.0</td>\n",
       "      <td>1.0</td>\n",
       "    </tr>\n",
       "    <tr>\n",
       "      <th>application_month_8</th>\n",
       "      <td>45794.0</td>\n",
       "      <td>0.124820</td>\n",
       "      <td>0.330518</td>\n",
       "      <td>0.0</td>\n",
       "      <td>0.0</td>\n",
       "      <td>0.0</td>\n",
       "      <td>0.0</td>\n",
       "      <td>1.0</td>\n",
       "    </tr>\n",
       "    <tr>\n",
       "      <th>application_month_9</th>\n",
       "      <td>45794.0</td>\n",
       "      <td>0.055531</td>\n",
       "      <td>0.229017</td>\n",
       "      <td>0.0</td>\n",
       "      <td>0.0</td>\n",
       "      <td>0.0</td>\n",
       "      <td>0.0</td>\n",
       "      <td>1.0</td>\n",
       "    </tr>\n",
       "    <tr>\n",
       "      <th>application_month_10</th>\n",
       "      <td>45794.0</td>\n",
       "      <td>0.065620</td>\n",
       "      <td>0.247619</td>\n",
       "      <td>0.0</td>\n",
       "      <td>0.0</td>\n",
       "      <td>0.0</td>\n",
       "      <td>0.0</td>\n",
       "      <td>1.0</td>\n",
       "    </tr>\n",
       "    <tr>\n",
       "      <th>application_month_11</th>\n",
       "      <td>45794.0</td>\n",
       "      <td>0.054177</td>\n",
       "      <td>0.226370</td>\n",
       "      <td>0.0</td>\n",
       "      <td>0.0</td>\n",
       "      <td>0.0</td>\n",
       "      <td>0.0</td>\n",
       "      <td>1.0</td>\n",
       "    </tr>\n",
       "    <tr>\n",
       "      <th>application_month_12</th>\n",
       "      <td>45794.0</td>\n",
       "      <td>0.067454</td>\n",
       "      <td>0.250810</td>\n",
       "      <td>0.0</td>\n",
       "      <td>0.0</td>\n",
       "      <td>0.0</td>\n",
       "      <td>0.0</td>\n",
       "      <td>1.0</td>\n",
       "    </tr>\n",
       "    <tr>\n",
       "      <th>loan_origination_other</th>\n",
       "      <td>45794.0</td>\n",
       "      <td>0.047539</td>\n",
       "      <td>0.212791</td>\n",
       "      <td>0.0</td>\n",
       "      <td>0.0</td>\n",
       "      <td>0.0</td>\n",
       "      <td>0.0</td>\n",
       "      <td>1.0</td>\n",
       "    </tr>\n",
       "    <tr>\n",
       "      <th>loan_origination_website</th>\n",
       "      <td>45794.0</td>\n",
       "      <td>0.735009</td>\n",
       "      <td>0.441333</td>\n",
       "      <td>0.0</td>\n",
       "      <td>0.0</td>\n",
       "      <td>1.0</td>\n",
       "      <td>1.0</td>\n",
       "      <td>1.0</td>\n",
       "    </tr>\n",
       "    <tr>\n",
       "      <th>loan_default</th>\n",
       "      <td>45794.0</td>\n",
       "      <td>0.494388</td>\n",
       "      <td>0.499974</td>\n",
       "      <td>0.0</td>\n",
       "      <td>0.0</td>\n",
       "      <td>0.0</td>\n",
       "      <td>1.0</td>\n",
       "      <td>1.0</td>\n",
       "    </tr>\n",
       "  </tbody>\n",
       "</table>\n",
       "</div>"
      ],
      "text/plain": [
       "                                      count        mean        std  min   25%  \\\n",
       "const                               45794.0    1.000000   0.000000  1.0   1.0   \n",
       "loan_amount_index                   45794.0  112.852906  36.795013  1.0  88.0   \n",
       "cars_in_household                   45794.0    0.867712   0.880527  0.0   0.0   \n",
       "other_vehicles_owned                45794.0    2.303708   1.449354  0.0   1.0   \n",
       "adults_in_household                 45794.0    1.904726   0.514488  0.0   2.0   \n",
       "children_in_household               45794.0    0.123706   0.427430  0.0   0.0   \n",
       "issues_needing_resolution           45794.0    0.633707   0.789895  0.0   0.0   \n",
       "hmc                                 45794.0    0.022951   0.149748  0.0   0.0   \n",
       "application_in_first_half_of_month  45794.0    0.491396   0.499931  0.0   0.0   \n",
       "repeat_customer                     45794.0    0.018168   0.133561  0.0   0.0   \n",
       "mystery_field                       45794.0  114.466524  96.517403  0.0  37.0   \n",
       "loan_type_other                     45794.0    0.182579   0.386325  0.0   0.0   \n",
       "loan_type_residential               45794.0    0.078220   0.268520  0.0   0.0   \n",
       "market_segment_code_ms301           45794.0    0.031489   0.174637  0.0   0.0   \n",
       "market_segment_code_ms604           45794.0    0.004760   0.068832  0.0   0.0   \n",
       "market_segment_code_ms650           45794.0    0.014347   0.118917  0.0   0.0   \n",
       "application_year_2021               45794.0    0.518430   0.499666  0.0   0.0   \n",
       "application_year_2022               45794.0    0.386426   0.486935  0.0   0.0   \n",
       "application_month_2                 45794.0    0.093593   0.291265  0.0   0.0   \n",
       "application_month_3                 45794.0    0.083876   0.277204  0.0   0.0   \n",
       "application_month_4                 45794.0    0.088156   0.283524  0.0   0.0   \n",
       "application_month_5                 45794.0    0.075861   0.264779  0.0   0.0   \n",
       "application_month_6                 45794.0    0.088680   0.284284  0.0   0.0   \n",
       "application_month_7                 45794.0    0.121195   0.326357  0.0   0.0   \n",
       "application_month_8                 45794.0    0.124820   0.330518  0.0   0.0   \n",
       "application_month_9                 45794.0    0.055531   0.229017  0.0   0.0   \n",
       "application_month_10                45794.0    0.065620   0.247619  0.0   0.0   \n",
       "application_month_11                45794.0    0.054177   0.226370  0.0   0.0   \n",
       "application_month_12                45794.0    0.067454   0.250810  0.0   0.0   \n",
       "loan_origination_other              45794.0    0.047539   0.212791  0.0   0.0   \n",
       "loan_origination_website            45794.0    0.735009   0.441333  0.0   0.0   \n",
       "loan_default                        45794.0    0.494388   0.499974  0.0   0.0   \n",
       "\n",
       "                                      50%    75%    max  \n",
       "const                                 1.0    1.0    1.0  \n",
       "loan_amount_index                   107.0  131.0  376.0  \n",
       "cars_in_household                     1.0    2.0    6.0  \n",
       "other_vehicles_owned                  2.0    3.0   16.0  \n",
       "adults_in_household                   2.0    2.0    4.0  \n",
       "children_in_household                 0.0    0.0   10.0  \n",
       "issues_needing_resolution             0.0    1.0    5.0  \n",
       "hmc                                   0.0    0.0    1.0  \n",
       "application_in_first_half_of_month    0.0    1.0    1.0  \n",
       "repeat_customer                       0.0    0.0    1.0  \n",
       "mystery_field                        87.0  169.0  538.0  \n",
       "loan_type_other                       0.0    0.0    1.0  \n",
       "loan_type_residential                 0.0    0.0    1.0  \n",
       "market_segment_code_ms301             0.0    0.0    1.0  \n",
       "market_segment_code_ms604             0.0    0.0    1.0  \n",
       "market_segment_code_ms650             0.0    0.0    1.0  \n",
       "application_year_2021                 1.0    1.0    1.0  \n",
       "application_year_2022                 0.0    1.0    1.0  \n",
       "application_month_2                   0.0    0.0    1.0  \n",
       "application_month_3                   0.0    0.0    1.0  \n",
       "application_month_4                   0.0    0.0    1.0  \n",
       "application_month_5                   0.0    0.0    1.0  \n",
       "application_month_6                   0.0    0.0    1.0  \n",
       "application_month_7                   0.0    0.0    1.0  \n",
       "application_month_8                   0.0    0.0    1.0  \n",
       "application_month_9                   0.0    0.0    1.0  \n",
       "application_month_10                  0.0    0.0    1.0  \n",
       "application_month_11                  0.0    0.0    1.0  \n",
       "application_month_12                  0.0    0.0    1.0  \n",
       "loan_origination_other                0.0    0.0    1.0  \n",
       "loan_origination_website              1.0    1.0    1.0  \n",
       "loan_default                          0.0    1.0    1.0  "
      ]
     },
     "execution_count": 167,
     "metadata": {},
     "output_type": "execute_result"
    }
   ],
   "source": [
    "X_rebuilt = pd.concat([X_train, y_train], axis = 1)\n",
    "df_bad = X_rebuilt[X_rebuilt['loan_default'] == 1]\n",
    "X_balanced = pd.concat([X_rebuilt, df_bad, df_bad, df_bad, df_bad]) # 4 more copies of bad loans\n",
    "X_balanced.describe().T"
   ]
  },
  {
   "cell_type": "markdown",
   "id": "9b3309b4",
   "metadata": {},
   "source": [
    "The mean of the loan_default column is close to 0.5, indicating that the dataset is properly balanced."
   ]
  },
  {
   "cell_type": "code",
   "execution_count": 168,
   "id": "a06dbf1d",
   "metadata": {},
   "outputs": [],
   "source": [
    "# Rebuild X_train and y_train from the rebalanced data\n",
    "X_train = X_balanced.drop(['loan_default'], axis=1)\n",
    "y_train = X_balanced['loan_default']"
   ]
  },
  {
   "cell_type": "code",
   "execution_count": 169,
   "id": "0721ab6f",
   "metadata": {},
   "outputs": [
    {
     "name": "stdout",
     "output_type": "stream",
     "text": [
      "4528\n"
     ]
    }
   ],
   "source": [
    "# Count number of loans that ended in default in original X_train\n",
    "row_count = X_rebuilt[X_rebuilt['loan_default'] == 1].shape[0]\n",
    "print(row_count)"
   ]
  },
  {
   "cell_type": "code",
   "execution_count": 170,
   "id": "b16bac37",
   "metadata": {},
   "outputs": [
    {
     "name": "stdout",
     "output_type": "stream",
     "text": [
      "Target row count =  45794\n",
      "X_train row count =  45794\n",
      "y_train row count =  45794\n"
     ]
    }
   ],
   "source": [
    "# Check that original number of 'bad' loans multiplied by four and\n",
    "# added to the original X_train row count equals the new X_train\n",
    "# and y_train row counts\n",
    "print('Target row count = ', row_count*4 + old_row_count)\n",
    "print('X_train row count = ', X_train.shape[0])\n",
    "print('y_train row count = ', y_train.shape[0])"
   ]
  },
  {
   "cell_type": "markdown",
   "id": "010d305c",
   "metadata": {},
   "source": [
    "We have just balanced the training data set, verifying our work to ensure the balancing was performed correctly."
   ]
  },
  {
   "cell_type": "markdown",
   "id": "8d515afb",
   "metadata": {},
   "source": [
    "# Step 26: Make first regression attempt"
   ]
  },
  {
   "cell_type": "code",
   "execution_count": 171,
   "id": "98c86354",
   "metadata": {},
   "outputs": [
    {
     "name": "stdout",
     "output_type": "stream",
     "text": [
      "Optimization terminated successfully.\n",
      "         Current function value: 0.461049\n",
      "         Iterations 9\n",
      "                           Logit Regression Results                           \n",
      "==============================================================================\n",
      "Dep. Variable:           loan_default   No. Observations:                45794\n",
      "Model:                          Logit   Df Residuals:                    45763\n",
      "Method:                           MLE   Df Model:                           30\n",
      "Date:                Fri, 01 Dec 2023   Pseudo R-squ.:                  0.3348\n",
      "Time:                        20:55:24   Log-Likelihood:                -21113.\n",
      "converged:                       True   LL-Null:                       -31739.\n",
      "Covariance Type:            nonrobust   LLR p-value:                     0.000\n",
      "======================================================================================================\n",
      "                                         coef    std err          z      P>|z|      [0.025      0.975]\n",
      "------------------------------------------------------------------------------------------------------\n",
      "const                                 -4.4422      0.091    -48.767      0.000      -4.621      -4.264\n",
      "loan_amount_index                      0.0169      0.000     35.749      0.000       0.016       0.018\n",
      "cars_in_household                      0.0840      0.014      5.998      0.000       0.057       0.111\n",
      "other_vehicles_owned                   0.0474      0.009      5.490      0.000       0.030       0.064\n",
      "adults_in_household                   -0.0861      0.027     -3.242      0.001      -0.138      -0.034\n",
      "children_in_household                  0.1613      0.041      3.902      0.000       0.080       0.242\n",
      "issues_needing_resolution             -1.3851      0.019    -71.584      0.000      -1.423      -1.347\n",
      "hmc                                   -1.7459      0.107    -16.291      0.000      -1.956      -1.536\n",
      "application_in_first_half_of_month     0.0367      0.024      1.522      0.128      -0.011       0.084\n",
      "repeat_customer                       -3.2165      0.410     -7.850      0.000      -4.020      -2.413\n",
      "mystery_field                          0.0162      0.000     83.453      0.000       0.016       0.017\n",
      "loan_type_other                        0.2604      0.033      7.805      0.000       0.195       0.326\n",
      "loan_type_residential                  0.0158      0.052      0.303      0.762      -0.086       0.118\n",
      "market_segment_code_ms301             -0.7242      0.104     -6.944      0.000      -0.929      -0.520\n",
      "market_segment_code_ms604             -0.9918      0.168     -5.910      0.000      -1.321      -0.663\n",
      "market_segment_code_ms650             -0.5557      0.107     -5.179      0.000      -0.766      -0.345\n",
      "application_year_2021                  0.3432      0.050      6.890      0.000       0.246       0.441\n",
      "application_year_2022                  0.3505      0.057      6.171      0.000       0.239       0.462\n",
      "application_month_2                    0.3255      0.058      5.588      0.000       0.211       0.440\n",
      "application_month_3                    0.2588      0.060      4.325      0.000       0.142       0.376\n",
      "application_month_4                   -0.3464      0.060     -5.810      0.000      -0.463      -0.230\n",
      "application_month_5                   -0.3968      0.064     -6.248      0.000      -0.521      -0.272\n",
      "application_month_6                    0.2365      0.060      3.959      0.000       0.119       0.354\n",
      "application_month_7                   -0.0420      0.056     -0.745      0.457      -0.152       0.068\n",
      "application_month_8                    0.0154      0.055      0.278      0.781      -0.093       0.124\n",
      "application_month_9                   -0.2163      0.067     -3.233      0.001      -0.347      -0.085\n",
      "application_month_10                  -0.0973      0.064     -1.521      0.128      -0.223       0.028\n",
      "application_month_11                   0.0288      0.067      0.427      0.669      -0.103       0.161\n",
      "application_month_12                  -0.0634      0.065     -0.968      0.333      -0.192       0.065\n",
      "loan_origination_other                 1.0785      0.074     14.539      0.000       0.933       1.224\n",
      "loan_origination_website               1.6505      0.038     43.339      0.000       1.576       1.725\n",
      "======================================================================================================\n"
     ]
    }
   ],
   "source": [
    "attempt_1 = sm.Logit(y_train, X_train.astype(float))\n",
    "fit_1 = attempt_1.fit(\n",
    " disp=True\n",
    ") # setting disp=False will remove the information on number of iterations\n",
    "print(fit_1.summary())"
   ]
  },
  {
   "cell_type": "markdown",
   "id": "effa827c",
   "metadata": {},
   "source": [
    "The regression fit with a pseudo R^2 value of 0.3348 is not ideal. Only about 33% of variation in the target variable can be explained by the current model.\n",
    "\n",
    "The application_in_first_half_of_month, loan_type_residential, application_month_7, application_month_8, application_month_10, application_month_11, and application_month_12 coefficients all have p-values greater than 0.05, indicating a lack of statistical significance.   "
   ]
  },
  {
   "cell_type": "markdown",
   "id": "b0050f95",
   "metadata": {},
   "source": [
    "We have just made and analyzed an initial regression attempt."
   ]
  },
  {
   "cell_type": "markdown",
   "id": "e3da91b8",
   "metadata": {},
   "source": [
    "# Step 27: Remove extraneous variables"
   ]
  },
  {
   "cell_type": "code",
   "execution_count": 172,
   "id": "7a696ad2",
   "metadata": {},
   "outputs": [
    {
     "name": "stdout",
     "output_type": "stream",
     "text": [
      "['const', 'loan_amount_index', 'cars_in_household', 'other_vehicles_owned', 'adults_in_household', 'children_in_household', 'issues_needing_resolution', 'hmc', 'repeat_customer', 'mystery_field', 'loan_type_other', 'market_segment_code_ms301', 'market_segment_code_ms604', 'market_segment_code_ms650', 'application_year_2021', 'application_year_2022', 'application_month_2', 'application_month_3', 'application_month_4', 'application_month_5', 'application_month_6', 'application_month_9', 'loan_origination_other', 'loan_origination_website']\n"
     ]
    }
   ],
   "source": [
    "# initial list of columns\n",
    "cols = X_train.columns.tolist() # modified slightly from original version (author unknown)\n",
    "# setting an initial max p-value\n",
    "max_p_value = 1\n",
    "while len(cols) > 0:\n",
    " # defining the train set\n",
    " X_train_aux = X_train[cols] # another slight modification in this line . . .\n",
    " # fitting the model\n",
    " model = sm.Logit(y_train, X_train_aux).fit(disp=False)\n",
    " # getting the p-values and the maximum p-value\n",
    " p_values = model.pvalues\n",
    " max_p_value = max(p_values)\n",
    " # name of the variable with maximum p-value\n",
    " feature_with_p_max = p_values.idxmax()\n",
    " if max_p_value >= 0.05: # using standard threshold for significance\n",
    "     cols.remove(feature_with_p_max)\n",
    " else:\n",
    "     break\n",
    "selected_features = cols\n",
    "print(selected_features)"
   ]
  },
  {
   "cell_type": "code",
   "execution_count": 173,
   "id": "4c50d8b3",
   "metadata": {},
   "outputs": [
    {
     "name": "stdout",
     "output_type": "stream",
     "text": [
      "(45794, 31)\n"
     ]
    },
    {
     "data": {
      "text/plain": [
       "(45794, 24)"
      ]
     },
     "execution_count": 173,
     "metadata": {},
     "output_type": "execute_result"
    }
   ],
   "source": [
    "print(X_train.shape) # initial training data dimensions\n",
    "X_train = X_train_aux\n",
    "X_train.shape"
   ]
  },
  {
   "cell_type": "markdown",
   "id": "fba03406",
   "metadata": {},
   "source": [
    "We have just removed extraneous variables and verified that our new X_train dataframe has the same number of rows (43794), but 7 fewer columns."
   ]
  },
  {
   "cell_type": "markdown",
   "id": "056487f4",
   "metadata": {},
   "source": [
    "# Step 28: Make second regression attempt"
   ]
  },
  {
   "cell_type": "code",
   "execution_count": 174,
   "id": "34e709e6",
   "metadata": {},
   "outputs": [
    {
     "name": "stdout",
     "output_type": "stream",
     "text": [
      "Optimization terminated successfully.\n",
      "         Current function value: 0.461143\n",
      "         Iterations 9\n",
      "                           Logit Regression Results                           \n",
      "==============================================================================\n",
      "Dep. Variable:           loan_default   No. Observations:                45794\n",
      "Model:                          Logit   Df Residuals:                    45770\n",
      "Method:                           MLE   Df Model:                           23\n",
      "Date:                Fri, 01 Dec 2023   Pseudo R-squ.:                  0.3347\n",
      "Time:                        20:55:26   Log-Likelihood:                -21118.\n",
      "converged:                       True   LL-Null:                       -31739.\n",
      "Covariance Type:            nonrobust   LLR p-value:                     0.000\n",
      "=============================================================================================\n",
      "                                coef    std err          z      P>|z|      [0.025      0.975]\n",
      "---------------------------------------------------------------------------------------------\n",
      "const                        -4.4481      0.078    -56.825      0.000      -4.601      -4.295\n",
      "loan_amount_index             0.0169      0.000     36.864      0.000       0.016       0.018\n",
      "cars_in_household             0.0846      0.014      6.055      0.000       0.057       0.112\n",
      "other_vehicles_owned          0.0473      0.009      5.483      0.000       0.030       0.064\n",
      "adults_in_household          -0.0865      0.026     -3.270      0.001      -0.138      -0.035\n",
      "children_in_household         0.1610      0.041      3.905      0.000       0.080       0.242\n",
      "issues_needing_resolution    -1.3845      0.019    -71.605      0.000      -1.422      -1.347\n",
      "hmc                          -1.7478      0.107    -16.342      0.000      -1.957      -1.538\n",
      "repeat_customer              -3.2144      0.409     -7.858      0.000      -4.016      -2.413\n",
      "mystery_field                 0.0162      0.000     84.920      0.000       0.016       0.017\n",
      "loan_type_other               0.2608      0.033      7.821      0.000       0.195       0.326\n",
      "market_segment_code_ms301    -0.7232      0.104     -6.966      0.000      -0.927      -0.520\n",
      "market_segment_code_ms604    -0.9925      0.167     -5.926      0.000      -1.321      -0.664\n",
      "market_segment_code_ms650    -0.5516      0.107     -5.149      0.000      -0.762      -0.342\n",
      "application_year_2021         0.3419      0.048      7.164      0.000       0.248       0.435\n",
      "application_year_2022         0.3571      0.054      6.634      0.000       0.252       0.463\n",
      "application_month_2           0.3475      0.044      7.911      0.000       0.261       0.434\n",
      "application_month_3           0.2789      0.046      5.997      0.000       0.188       0.370\n",
      "application_month_4          -0.3270      0.046     -7.135      0.000      -0.417      -0.237\n",
      "application_month_5          -0.3802      0.051     -7.481      0.000      -0.480      -0.281\n",
      "application_month_6           0.2558      0.046      5.534      0.000       0.165       0.346\n",
      "application_month_9          -0.1914      0.054     -3.571      0.000      -0.297      -0.086\n",
      "loan_origination_other        1.0792      0.074     14.660      0.000       0.935       1.223\n",
      "loan_origination_website      1.6523      0.037     44.585      0.000       1.580       1.725\n",
      "=============================================================================================\n"
     ]
    }
   ],
   "source": [
    "attempt_2 = sm.Logit(y_train, X_train.astype(float))\n",
    "fit_2 = attempt_2.fit(\n",
    " disp=True\n",
    ") # setting disp=False will remove the information on number of iterations\n",
    "print(fit_2.summary())"
   ]
  },
  {
   "cell_type": "markdown",
   "id": "f7291183",
   "metadata": {},
   "source": [
    "All the p-values are now less than 0.05, indicating that all the coefficients are statistically significant. However, the pseudo R-squared value is slightly lower at 0.3347, which is not ideal."
   ]
  },
  {
   "cell_type": "markdown",
   "id": "6fdea3ba",
   "metadata": {},
   "source": [
    "We have just made and analyzed a second regression attempt."
   ]
  },
  {
   "cell_type": "markdown",
   "id": "92b3deeb",
   "metadata": {},
   "source": [
    "# Step 29: Evaluate model performance (train)"
   ]
  },
  {
   "cell_type": "code",
   "execution_count": 175,
   "id": "3c68f744",
   "metadata": {},
   "outputs": [
    {
     "data": {
      "image/png": "[encoded data removed]",
      "text/plain": [
       "<Figure size 432x288 with 2 Axes>"
      ]
     },
     "metadata": {
      "needs_background": "light"
     },
     "output_type": "display_data"
    }
   ],
   "source": [
    "confusion_matrix_statsmodels(fit_2, X_train, y_train)"
   ]
  },
  {
   "cell_type": "markdown",
   "id": "cdcd2de4",
   "metadata": {},
   "source": [
    "The classes in the confusion matrix appear well balanced, with about 38% and 40% of values being true positives and true negatives, respectively, and 11% and 11% of values being false positives and false negatives, respectively.\n",
    "\n",
    "The accuracy of the model is $\\frac{(TP + TN)}{\\text{total number of records}} = \\frac{17400 + 18299}{\\text{18299 + 4855 + 5240 + 17400}} = \\frac{17400 + 18299}{\\text{45794}} = 0.78$, which is good, but not ideal."
   ]
  },
  {
   "cell_type": "code",
   "execution_count": 176,
   "id": "8f5e2054",
   "metadata": {},
   "outputs": [
    {
     "name": "stdout",
     "output_type": "stream",
     "text": [
      "Training performance:\n"
     ]
    },
    {
     "data": {
      "text/html": [
       "<div>\n",
       "<style scoped>\n",
       "    .dataframe tbody tr th:only-of-type {\n",
       "        vertical-align: middle;\n",
       "    }\n",
       "\n",
       "    .dataframe tbody tr th {\n",
       "        vertical-align: top;\n",
       "    }\n",
       "\n",
       "    .dataframe thead th {\n",
       "        text-align: right;\n",
       "    }\n",
       "</style>\n",
       "<table border=\"1\" class=\"dataframe\">\n",
       "  <thead>\n",
       "    <tr style=\"text-align: right;\">\n",
       "      <th></th>\n",
       "      <th>Accuracy</th>\n",
       "      <th>Recall</th>\n",
       "      <th>Precision</th>\n",
       "      <th>F1</th>\n",
       "    </tr>\n",
       "  </thead>\n",
       "  <tbody>\n",
       "    <tr>\n",
       "      <th>0</th>\n",
       "      <td>0.779556</td>\n",
       "      <td>0.768551</td>\n",
       "      <td>0.781847</td>\n",
       "      <td>0.775142</td>\n",
       "    </tr>\n",
       "  </tbody>\n",
       "</table>\n",
       "</div>"
      ],
      "text/plain": [
       "   Accuracy    Recall  Precision        F1\n",
       "0  0.779556  0.768551   0.781847  0.775142"
      ]
     },
     "execution_count": 176,
     "metadata": {},
     "output_type": "execute_result"
    }
   ],
   "source": [
    "# Compute important metrics from confusion matrix\n",
    "log_reg_model_train_perf = model_performance_classification_statsmodels(\n",
    " fit_2, X_train, y_train\n",
    ")\n",
    "print(\"Training performance:\")\n",
    "log_reg_model_train_perf"
   ]
  },
  {
   "cell_type": "markdown",
   "id": "132e8180",
   "metadata": {},
   "source": [
    "The recall indicates what proportion of customers who defaulted on their loans were predicted correctly to do so by the model, which in this case was 77.86%. The precision indicates what proportion of customers predicted to default on loans actually defaulted, which in this case was 78.18%, very similar to the recall."
   ]
  },
  {
   "cell_type": "markdown",
   "id": "5d5a6dbe",
   "metadata": {},
   "source": [
    "We have just evaluated the model's performance on the training data."
   ]
  },
  {
   "cell_type": "markdown",
   "id": "a0ffc170",
   "metadata": {},
   "source": [
    "# Step 30: Evaluate model performance (test)"
   ]
  },
  {
   "cell_type": "code",
   "execution_count": 177,
   "id": "eb7bd37a",
   "metadata": {},
   "outputs": [],
   "source": [
    "X_test = X_test[selected_features]"
   ]
  },
  {
   "cell_type": "code",
   "execution_count": 178,
   "id": "ea11eb58",
   "metadata": {},
   "outputs": [
    {
     "data": {
      "image/png": "[encoded data removed]",
      "text/plain": [
       "<Figure size 432x288 with 2 Axes>"
      ]
     },
     "metadata": {
      "needs_background": "light"
     },
     "output_type": "display_data"
    }
   ],
   "source": [
    "confusion_matrix_statsmodels(fit_2, X_test, y_test)"
   ]
  },
  {
   "cell_type": "code",
   "execution_count": 179,
   "id": "7d86407b",
   "metadata": {},
   "outputs": [
    {
     "name": "stdout",
     "output_type": "stream",
     "text": [
      "Training performance:\n"
     ]
    },
    {
     "data": {
      "text/html": [
       "<div>\n",
       "<style scoped>\n",
       "    .dataframe tbody tr th:only-of-type {\n",
       "        vertical-align: middle;\n",
       "    }\n",
       "\n",
       "    .dataframe tbody tr th {\n",
       "        vertical-align: top;\n",
       "    }\n",
       "\n",
       "    .dataframe thead th {\n",
       "        text-align: right;\n",
       "    }\n",
       "</style>\n",
       "<table border=\"1\" class=\"dataframe\">\n",
       "  <thead>\n",
       "    <tr style=\"text-align: right;\">\n",
       "      <th></th>\n",
       "      <th>Accuracy</th>\n",
       "      <th>Recall</th>\n",
       "      <th>Precision</th>\n",
       "      <th>F1</th>\n",
       "    </tr>\n",
       "  </thead>\n",
       "  <tbody>\n",
       "    <tr>\n",
       "      <th>0</th>\n",
       "      <td>0.792903</td>\n",
       "      <td>0.763636</td>\n",
       "      <td>0.440227</td>\n",
       "      <td>0.558491</td>\n",
       "    </tr>\n",
       "  </tbody>\n",
       "</table>\n",
       "</div>"
      ],
      "text/plain": [
       "   Accuracy    Recall  Precision        F1\n",
       "0  0.792903  0.763636   0.440227  0.558491"
      ]
     },
     "execution_count": 179,
     "metadata": {},
     "output_type": "execute_result"
    }
   ],
   "source": [
    "log_reg_model_test_perf = model_performance_classification_statsmodels(\n",
    " fit_2, X_test, y_test\n",
    ")\n",
    "print(\"Training performance:\")\n",
    "log_reg_model_test_perf"
   ]
  },
  {
   "cell_type": "markdown",
   "id": "d10a2a9e",
   "metadata": {},
   "source": [
    "The accuracy of 79.29% and recall of 76.36% are comparable to that of the model's performance on the training data; however, the precision (44.02%) and F1 (55.85%) are quite a bit lower than the same metrics in step 29. This indicates overfitting of the model on the training data when it comes to precision and the F1 metrics, as the model becomes less able to correctly predict the positive class on new data."
   ]
  },
  {
   "cell_type": "markdown",
   "id": "2b8a2656",
   "metadata": {},
   "source": [
    "We have just evaluated the model's performance on the test data."
   ]
  },
  {
   "cell_type": "markdown",
   "id": "f1e4a1e3",
   "metadata": {},
   "source": [
    "# Step 31: Overall model evaluation"
   ]
  },
  {
   "cell_type": "markdown",
   "id": "8b472822",
   "metadata": {},
   "source": [
    "This model is good enough for predicting loan defaults, though it is certainly not the best. Although overfitting did occur in the Precision and F1 metrics, the Recall and Accuracy metrics are at an acceptable percentage, which are the metrics we had planned to emphasize in step 2 for optimal profitability loan predictions."
   ]
  },
  {
   "cell_type": "markdown",
   "id": "0ae43c8d",
   "metadata": {},
   "source": [
    "We have just evaluated the overall model."
   ]
  },
  {
   "cell_type": "markdown",
   "id": "489c58be",
   "metadata": {},
   "source": [
    "# Step 32: Limitations and ethical concerns"
   ]
  },
  {
   "cell_type": "markdown",
   "id": "6682f121",
   "metadata": {},
   "source": [
    "##### Q1. The data are all recent, from approximately the past 3 years. As a result, many of the loans in the dataset are still in the process of being repaid by customers. Is there any potential bias in the model that we should be concerned about?\n",
    "\n",
    "There may be a possibility that a good number of the loans that are still being repaid may be defaulted on later down the line. As a result, the model may not detect some statistics that indicate a loan may be defaulted on later, and inaccurately say a loan with those statistics will not be defaulted on."
   ]
  },
  {
   "cell_type": "markdown",
   "id": "fd0a2ac9",
   "metadata": {},
   "source": [
    "##### Q2. Is there any PII in the notebook that should be redacted or blurred? Pay special attention to the bivariate graphs that show loan status with outliers that might be easily linked to specific bank customers.\n",
    "\n",
    "There may be PII in the outliers of the bivariate graphs of loan_amount_index, previous_defaults, previous_nondefaults, previous_loan_count, cars_in_household, other_vehicles_owned, children_in_household, and issues_needing_resolution with respect to the target variable. Many of these have outliers that are more or less separated from the boxplots and the rest of the outliers, which means they are unique loan applicants who may be personally identified.\n"
   ]
  },
  {
   "cell_type": "markdown",
   "id": "6c298599",
   "metadata": {},
   "source": [
    "##### Q3. Do you have any legal or ethical concerns about using mystery_field as one of the explanatory variables? Explain what some of the issues might be.\n",
    "\n",
    "Due to the mystery_field's lack of transparency, it is very likely that the data may cause legal or ethical concerns that the one who blurred it may not want to be revealed. The field may be based on metrics related to race, gender, or other qualities that may make the model discriminate against specific groups of people. The person who has to decide whether to implement the model or not will not know whether the field can introduce bias or cause other legal problems for the bank.  "
   ]
  },
  {
   "cell_type": "markdown",
   "id": "0121d37d",
   "metadata": {},
   "source": [
    "# Step 33: Estimate the value of the model (with assumptions documented)"
   ]
  },
  {
   "cell_type": "markdown",
   "id": "c80d4948",
   "metadata": {},
   "source": [
    "### Assumptions\n",
    "\n",
    "* You will take performance statistics from test data in step 30.\n",
    "* You will treat the model as valid throughout the entire lifetime of each loan.\n",
    "* Bank officers do not change their approval criteria after the predictive model is put into\n",
    "production.\n",
    "* The default rate for loans that are able to pass the bank officers’ initial approval process is 16.6%.\n",
    "* Each performing loan nets the bank a mean profit of $\\$$3500.\n",
    "* Each loan that goes into default costs the bank a mean of $\\$$15,000"
   ]
  },
  {
   "cell_type": "markdown",
   "id": "ffb36e48",
   "metadata": {},
   "source": [
    "### Status Quo Net Profit"
   ]
  },
  {
   "cell_type": "markdown",
   "id": "18be1d91",
   "metadata": {},
   "source": [
    "There are a hypothetical 40,000 loan applications that the loan officers all approved. The default rate for the approved loans is 16.6%.\n",
    "\n",
    "40,000 $\\cdot$ 0.166 $=$ 6,640 defaulted\n",
    "\n",
    "40,000 $-$ 6640 $=$ 33,360 nondefaulted\n",
    "\n",
    "Gross Loss $=$ 6,640 $\\cdot$ $\\$$15,000 $=$ $\\$$99,600,000\n",
    "\n",
    "Gross Profit $=$ 33,360 $\\cdot$ $\\$$3,500 $=$ $\\$$116,760,000\n",
    "\n",
    "Net profit $=$ $\\$$116,760,000 $-$ $\\$$99,600,000 $=$ $\\$$17,160,000"
   ]
  },
  {
   "cell_type": "markdown",
   "id": "8d072218",
   "metadata": {},
   "source": [
    "### Model Net Profit"
   ]
  },
  {
   "cell_type": "markdown",
   "id": "076360bf",
   "metadata": {},
   "source": [
    "##### Confusion Matrix Approach\n",
    "\n",
    "We directly used the percentages from the confusion matrix of step 30 to calculate the TP, FN, TN, and FP of the model for the hypothetical 40,000 loan applications. Then, similar to the calculations for the status quo net profit, we calculated the net profit as well."
   ]
  },
  {
   "cell_type": "code",
   "execution_count": 198,
   "id": "9b2aba0d",
   "metadata": {},
   "outputs": [
    {
     "data": {
      "text/html": [
       "\n",
       "        <iframe\n",
       "            width=\"100%\"\n",
       "            height=\"450\"\n",
       "            src=\"Confusion Matrix Approach.png\"\n",
       "            frameborder=\"0\"\n",
       "            allowfullscreen\n",
       "            \n",
       "        ></iframe>\n",
       "        "
      ],
      "text/plain": [
       "<IPython.lib.display.IFrame at 0x137c18b50>"
      ]
     },
     "metadata": {},
     "output_type": "display_data"
    }
   ],
   "source": [
    "from IPython.display import display, HTML, IFrame\n",
    "\n",
    "# Replace 'your_file.pdf' with the actual file path\n",
    "pdf_path = 'Confusion Matrix Approach.png'\n",
    "\n",
    "# Use IFrame to embed the PDF in an HTML page\n",
    "pdf_embed = IFrame(src=pdf_path, width=\"100%\", height=450)\n",
    "\n",
    "# Display the embedded PDF\n",
    "display(pdf_embed)"
   ]
  },
  {
   "cell_type": "markdown",
   "id": "eb38ce32",
   "metadata": {},
   "source": [
    "The net profit is $\\$$68,366,000.\n",
    "\n",
    "$\\$$68,366,000 $-$ $\\$$17,160,000 $=$ $\\$$51,206,000 more profit"
   ]
  },
  {
   "cell_type": "markdown",
   "id": "63fde0c7",
   "metadata": {},
   "source": [
    "##### Recall and Precision Approach Using Net Profit\n",
    "\n",
    "We directly used the recall and precision statistics of step 30 to calculate the TP and FP, which would then allow us to find the FN and the TN to make our calculations for the net profit. We used the recall and precision statistics on the status quo distribution of the 40,000 loans. We did not make a new distribution for the loans based on our confusion matrix percentages like in the previous approach."
   ]
  },
  {
   "cell_type": "code",
   "execution_count": 205,
   "id": "645c2e80",
   "metadata": {
    "scrolled": false
   },
   "outputs": [
    {
     "data": {
      "text/html": [
       "\n",
       "        <iframe\n",
       "            width=\"100%\"\n",
       "            height=\"400\"\n",
       "            src=\"Recall and Precision Approach.png\"\n",
       "            frameborder=\"0\"\n",
       "            allowfullscreen\n",
       "            \n",
       "        ></iframe>\n",
       "        "
      ],
      "text/plain": [
       "<IPython.lib.display.IFrame at 0x137df6e20>"
      ]
     },
     "metadata": {},
     "output_type": "display_data"
    }
   ],
   "source": [
    "from IPython.display import display, HTML, IFrame\n",
    "\n",
    "# Replace 'your_file.pdf' with the actual file path\n",
    "pdf_path = 'Recall and Precision Approach.png'\n",
    "\n",
    "# Use IFrame to embed the PDF in an HTML page\n",
    "pdf_embed = IFrame(src=pdf_path, width=\"100%\", height=400)\n",
    "\n",
    "# Display the embedded PDF\n",
    "display(pdf_embed)"
   ]
  },
  {
   "cell_type": "markdown",
   "id": "b13a0413",
   "metadata": {},
   "source": [
    "The net profit is $\\$$70,657,000\n",
    "\n",
    "$\\$$70,657,000 $-$ $\\$$17,160,000 $=$ $\\$$53,497,000 more profit"
   ]
  },
  {
   "cell_type": "markdown",
   "id": "846e010a",
   "metadata": {},
   "source": [
    "Although the two approaches gave slightly different numbers, overall, using our model as a secondary screening would make the bank around 50 million dollars more profit than the loan officers' criteria."
   ]
  },
  {
   "cell_type": "markdown",
   "id": "51338dcd",
   "metadata": {},
   "source": [
    "##### An Alternative Approach Using Recall and Precision"
   ]
  },
  {
   "cell_type": "code",
   "execution_count": 208,
   "id": "67cb74c4",
   "metadata": {},
   "outputs": [
    {
     "data": {
      "text/html": [
       "\n",
       "        <iframe\n",
       "            width=\"100%\"\n",
       "            height=\"400\"\n",
       "            src=\"RecallandPrecisionMethod2.png\"\n",
       "            frameborder=\"0\"\n",
       "            allowfullscreen\n",
       "            \n",
       "        ></iframe>\n",
       "        "
      ],
      "text/plain": [
       "<IPython.lib.display.IFrame at 0x137d8e430>"
      ]
     },
     "metadata": {},
     "output_type": "display_data"
    }
   ],
   "source": [
    "from IPython.display import display, HTML, IFrame\n",
    "\n",
    "# Replace 'your_file.pdf' with the actual file path\n",
    "pdf_path = 'RecallandPrecisionMethod2.png'\n",
    "\n",
    "# Use IFrame to embed the PDF in an HTML page\n",
    "pdf_embed = IFrame(src=pdf_path, width=\"100%\", height=400)\n",
    "\n",
    "# Display the embedded PDF\n",
    "display(pdf_embed)"
   ]
  },
  {
   "cell_type": "markdown",
   "id": "72ab36b5",
   "metadata": {},
   "source": [
    "The amount of money saved is $\\$$38,354,578\n",
    "\n",
    "Our third approach, using recall and precision metrics from the test data as outlined above, shows that our model would save HansenBank around 40 million dollars compared to the status quo."
   ]
  },
  {
   "cell_type": "markdown",
   "id": "d5e607c5",
   "metadata": {},
   "source": [
    "##### Computing Net Profit if Our Model Were Used As the Initial Loan Screening Tool"
   ]
  },
  {
   "cell_type": "code",
   "execution_count": 197,
   "id": "16fcec00",
   "metadata": {},
   "outputs": [
    {
     "data": {
      "text/html": [
       "\n",
       "        <iframe\n",
       "            width=\"100%\"\n",
       "            height=\"500\"\n",
       "            src=\"Recall and Precision2.png\"\n",
       "            frameborder=\"0\"\n",
       "            allowfullscreen\n",
       "            \n",
       "        ></iframe>\n",
       "        "
      ],
      "text/plain": [
       "<IPython.lib.display.IFrame at 0x13595e550>"
      ]
     },
     "metadata": {},
     "output_type": "display_data"
    }
   ],
   "source": [
    "from IPython.display import display, HTML, IFrame\n",
    "\n",
    "# Replace 'your_file.pdf' with the actual file path\n",
    "pdf_path = 'Recall and Precision2.png'\n",
    "\n",
    "# Use IFrame to embed the PDF in an HTML page\n",
    "pdf_embed = IFrame(src=pdf_path, width=\"100%\", height=500)\n",
    "\n",
    "# Display the embedded PDF\n",
    "display(pdf_embed)"
   ]
  },
  {
   "cell_type": "markdown",
   "id": "be286ee1",
   "metadata": {},
   "source": [
    "$2306$ $*$ $\\$$15,000 = $\\$$34,590,000\n",
    "\n",
    "$37694$ $*$ $\\$$3,500 = $\\$$131,929,000\n",
    "\n",
    "Net profit = $\\$$131,929,000 - $\\$$34,590,000 = $\\$$97,339,000\n",
    "\n",
    "$\\$$97,339,000 $-$ $\\$$17,160,000 = $\\$$80,179,000"
   ]
  },
  {
   "cell_type": "markdown",
   "id": "5b9f4a36",
   "metadata": {},
   "source": [
    "Using our model as an initial screening would make HansenBank over $\\$$80,000 more than the status quo profit."
   ]
  },
  {
   "cell_type": "markdown",
   "id": "fa781b73",
   "metadata": {},
   "source": [
    "# Step 34: Recommendations"
   ]
  },
  {
   "cell_type": "markdown",
   "id": "f74e0459",
   "metadata": {},
   "source": [
    "Based on some of the data and observations we have made, as well as additional research on credit, we make the below recommendations to improve the profitability of HansenBank’s loan department. \n",
    "\n",
    "* Based on the univariate EDA of application month in step 12, there seems to be fewer loan applications in the last 4 months of the year. If HansenBank implements a well placed marketing campaign right before September, the number of loan applications could increase during that time, which would improve profitability as well. \n",
    "* The bivariate EDA of loan_type with respect to loan_default in step 15 shows that residential loan types have a higher proportion of defaulting. Our team would be happy to work with you again to develop a model that would help HansenBank achieve a better balance in the number of residential loans approved so as to optimize profit given their high risk, high reward nature. \n",
    "* The bivariate EDA of loan_amount_index with respect to market_segment_code in step 17 shows that the ms604 segment has the highest average index. If HansenBank can implement a marketing campaign targeting this group, or the staff makes sure to make them as comfortable as possible, the bank could increase these types of applications and make more profit from these loans. Any possible defaulters would have a good chance of being caught by our model.\n",
    "* Based on the bivariate EDA of repeat_customer with respect to loan_default in step 15, repeat customers have a vastly decreased probability of defaulting on their loans. HansenBank could implement benefits for repeat customers, such as lower interest rates on their loans or higher interest rates for their bank accounts to attract more applications from this group. \n",
    "* However, based on the bivariate relationship between repeat_customer and loan_amount_index in the additional EDA section after step 15, repeat customers also tend to have lower loan amounts. While retaining repeat customers is a priority, as outlined above, we encourage HansenBank to also implement a marketing campaign targeting new customers with the long-term goal of retention, perhaps by advertising the benefits for repeat customers outlined above.\n",
    "* Finally, though we have put extensive thought into our recommendations based on our analyses of the data, we would like to encourage HansenBank to exercise care when using some of the metrics above and from the dataset to approve and deny loans. By the Equal Credit Opportunity Act, it is illegal to approve/deny loans based on marital status, age, or whether the applicant has in good faith acted on one of their rights under federal credit laws. As such, factors like number of children, which in some geographic areas is highly correlated with marital status and can indicate age, or the fact that a customer is high maintenance, which may be due an extreme assiduity in disputing their credit score, must be used carefully so as to avoid lawsuits and ensure fairness under federal credit laws.\n"
   ]
  }
 ],
 "metadata": {
  "kernelspec": {
   "display_name": "Python 3 (ipykernel)",
   "language": "python",
   "name": "python3"
  },
  "language_info": {
   "codemirror_mode": {
    "name": "ipython",
    "version": 3
   },
   "file_extension": ".py",
   "mimetype": "text/x-python",
   "name": "python",
   "nbconvert_exporter": "python",
   "pygments_lexer": "ipython3",
   "version": "3.9.12"
  }
 },
 "nbformat": 4,
 "nbformat_minor": 5
}
